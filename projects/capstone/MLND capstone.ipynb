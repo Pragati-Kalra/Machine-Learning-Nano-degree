{
 "cells": [
  {
   "cell_type": "markdown",
   "metadata": {
    "collapsed": true
   },
   "source": [
    "# MLND Capstone project"
   ]
  },
  {
   "cell_type": "markdown",
   "metadata": {},
   "source": [
    "## Fire up graphlab create & Import dataset\n"
   ]
  },
  {
   "cell_type": "code",
   "execution_count": 1,
   "metadata": {
    "collapsed": false
   },
   "outputs": [
    {
     "name": "stderr",
     "output_type": "stream",
     "text": [
      "A newer version of GraphLab Create (v2.1) is available! Your current version is v1.9.\n",
      "\n",
      "You can use pip to upgrade the graphlab-create package. For more information see https://dato.com/products/create/upgrade.\n"
     ]
    },
    {
     "name": "stdout",
     "output_type": "stream",
     "text": [
      "This non-commercial license of GraphLab Create for academic use is assigned to rufang@ucsd.edu and will expire on May 08, 2017.\n"
     ]
    },
    {
     "name": "stderr",
     "output_type": "stream",
     "text": [
      "2016-07-31 20:21:43,786 [INFO] graphlab.cython.cy_server, 176: GraphLab Create v1.9 started. Logging: /tmp/graphlab_server_1469996503.log\n"
     ]
    },
    {
     "data": {
      "text/html": [
       "<pre>Finished parsing file /home/ubuntu/TalkingData/source_data/app_labels.csv</pre>"
      ],
      "text/plain": [
       "Finished parsing file /home/ubuntu/TalkingData/source_data/app_labels.csv"
      ]
     },
     "metadata": {},
     "output_type": "display_data"
    },
    {
     "data": {
      "text/html": [
       "<pre>Parsing completed. Parsed 100 lines in 0.090849 secs.</pre>"
      ],
      "text/plain": [
       "Parsing completed. Parsed 100 lines in 0.090849 secs."
      ]
     },
     "metadata": {},
     "output_type": "display_data"
    },
    {
     "data": {
      "text/html": [
       "<pre>Finished parsing file /home/ubuntu/TalkingData/source_data/app_labels.csv</pre>"
      ],
      "text/plain": [
       "Finished parsing file /home/ubuntu/TalkingData/source_data/app_labels.csv"
      ]
     },
     "metadata": {},
     "output_type": "display_data"
    },
    {
     "data": {
      "text/html": [
       "<pre>Parsing completed. Parsed 459943 lines in 0.246418 secs.</pre>"
      ],
      "text/plain": [
       "Parsing completed. Parsed 459943 lines in 0.246418 secs."
      ]
     },
     "metadata": {},
     "output_type": "display_data"
    },
    {
     "data": {
      "text/html": [
       "<pre>Finished parsing file /home/ubuntu/TalkingData/source_data/gender_age_train.csv</pre>"
      ],
      "text/plain": [
       "Finished parsing file /home/ubuntu/TalkingData/source_data/gender_age_train.csv"
      ]
     },
     "metadata": {},
     "output_type": "display_data"
    },
    {
     "data": {
      "text/html": [
       "<pre>Parsing completed. Parsed 100 lines in 0.053956 secs.</pre>"
      ],
      "text/plain": [
       "Parsing completed. Parsed 100 lines in 0.053956 secs."
      ]
     },
     "metadata": {},
     "output_type": "display_data"
    },
    {
     "data": {
      "text/html": [
       "<pre>Finished parsing file /home/ubuntu/TalkingData/source_data/gender_age_train.csv</pre>"
      ],
      "text/plain": [
       "Finished parsing file /home/ubuntu/TalkingData/source_data/gender_age_train.csv"
      ]
     },
     "metadata": {},
     "output_type": "display_data"
    },
    {
     "data": {
      "text/html": [
       "<pre>Parsing completed. Parsed 74645 lines in 0.050268 secs.</pre>"
      ],
      "text/plain": [
       "Parsing completed. Parsed 74645 lines in 0.050268 secs."
      ]
     },
     "metadata": {},
     "output_type": "display_data"
    },
    {
     "data": {
      "text/html": [
       "<pre>Finished parsing file /home/ubuntu/TalkingData/source_data/label_categories.csv</pre>"
      ],
      "text/plain": [
       "Finished parsing file /home/ubuntu/TalkingData/source_data/label_categories.csv"
      ]
     },
     "metadata": {},
     "output_type": "display_data"
    },
    {
     "data": {
      "text/html": [
       "<pre>Parsing completed. Parsed 100 lines in 0.012748 secs.</pre>"
      ],
      "text/plain": [
       "Parsing completed. Parsed 100 lines in 0.012748 secs."
      ]
     },
     "metadata": {},
     "output_type": "display_data"
    },
    {
     "name": "stdout",
     "output_type": "stream",
     "text": [
      "------------------------------------------------------\n",
      "Inferred types from first 100 line(s) of file as \n",
      "column_type_hints=[int,str]\n",
      "If parsing fails due to incorrect types, you can correct\n",
      "the inferred type list above and pass it to read_csv in\n",
      "the column_type_hints argument\n",
      "------------------------------------------------------\n"
     ]
    },
    {
     "data": {
      "text/html": [
       "<pre>Finished parsing file /home/ubuntu/TalkingData/source_data/label_categories.csv</pre>"
      ],
      "text/plain": [
       "Finished parsing file /home/ubuntu/TalkingData/source_data/label_categories.csv"
      ]
     },
     "metadata": {},
     "output_type": "display_data"
    },
    {
     "data": {
      "text/html": [
       "<pre>Parsing completed. Parsed 930 lines in 0.012354 secs.</pre>"
      ],
      "text/plain": [
       "Parsing completed. Parsed 930 lines in 0.012354 secs."
      ]
     },
     "metadata": {},
     "output_type": "display_data"
    },
    {
     "data": {
      "text/html": [
       "<pre>Finished parsing file /home/ubuntu/TalkingData/source_data/phone_brand_device_model.csv</pre>"
      ],
      "text/plain": [
       "Finished parsing file /home/ubuntu/TalkingData/source_data/phone_brand_device_model.csv"
      ]
     },
     "metadata": {},
     "output_type": "display_data"
    },
    {
     "data": {
      "text/html": [
       "<pre>Parsing completed. Parsed 100 lines in 0.112661 secs.</pre>"
      ],
      "text/plain": [
       "Parsing completed. Parsed 100 lines in 0.112661 secs."
      ]
     },
     "metadata": {},
     "output_type": "display_data"
    },
    {
     "data": {
      "text/html": [
       "<pre>Finished parsing file /home/ubuntu/TalkingData/source_data/phone_brand_device_model.csv</pre>"
      ],
      "text/plain": [
       "Finished parsing file /home/ubuntu/TalkingData/source_data/phone_brand_device_model.csv"
      ]
     },
     "metadata": {},
     "output_type": "display_data"
    },
    {
     "data": {
      "text/html": [
       "<pre>Parsing completed. Parsed 187245 lines in 0.130469 secs.</pre>"
      ],
      "text/plain": [
       "Parsing completed. Parsed 187245 lines in 0.130469 secs."
      ]
     },
     "metadata": {},
     "output_type": "display_data"
    },
    {
     "data": {
      "text/html": [
       "<pre>Finished parsing file /home/ubuntu/TalkingData/source_data/sample_submission.csv</pre>"
      ],
      "text/plain": [
       "Finished parsing file /home/ubuntu/TalkingData/source_data/sample_submission.csv"
      ]
     },
     "metadata": {},
     "output_type": "display_data"
    },
    {
     "data": {
      "text/html": [
       "<pre>Parsing completed. Parsed 100 lines in 0.059874 secs.</pre>"
      ],
      "text/plain": [
       "Parsing completed. Parsed 100 lines in 0.059874 secs."
      ]
     },
     "metadata": {},
     "output_type": "display_data"
    },
    {
     "data": {
      "text/html": [
       "<pre>Finished parsing file /home/ubuntu/TalkingData/source_data/sample_submission.csv</pre>"
      ],
      "text/plain": [
       "Finished parsing file /home/ubuntu/TalkingData/source_data/sample_submission.csv"
      ]
     },
     "metadata": {},
     "output_type": "display_data"
    },
    {
     "data": {
      "text/html": [
       "<pre>Parsing completed. Parsed 112071 lines in 0.11279 secs.</pre>"
      ],
      "text/plain": [
       "Parsing completed. Parsed 112071 lines in 0.11279 secs."
      ]
     },
     "metadata": {},
     "output_type": "display_data"
    },
    {
     "data": {
      "text/html": [
       "<pre>Finished parsing file /home/ubuntu/TalkingData/source_data/app_events.csv</pre>"
      ],
      "text/plain": [
       "Finished parsing file /home/ubuntu/TalkingData/source_data/app_events.csv"
      ]
     },
     "metadata": {},
     "output_type": "display_data"
    },
    {
     "data": {
      "text/html": [
       "<pre>Parsing completed. Parsed 100 lines in 0.470422 secs.</pre>"
      ],
      "text/plain": [
       "Parsing completed. Parsed 100 lines in 0.470422 secs."
      ]
     },
     "metadata": {},
     "output_type": "display_data"
    },
    {
     "data": {
      "text/html": [
       "<pre>Read 1713545 lines. Lines per second: 180487</pre>"
      ],
      "text/plain": [
       "Read 1713545 lines. Lines per second: 180487"
      ]
     },
     "metadata": {},
     "output_type": "display_data"
    },
    {
     "data": {
      "text/html": [
       "<pre>Read 18208021 lines. Lines per second: 1.24158e+06</pre>"
      ],
      "text/plain": [
       "Read 18208021 lines. Lines per second: 1.24158e+06"
      ]
     },
     "metadata": {},
     "output_type": "display_data"
    },
    {
     "data": {
      "text/html": [
       "<pre>Finished parsing file /home/ubuntu/TalkingData/source_data/app_events.csv</pre>"
      ],
      "text/plain": [
       "Finished parsing file /home/ubuntu/TalkingData/source_data/app_events.csv"
      ]
     },
     "metadata": {},
     "output_type": "display_data"
    },
    {
     "data": {
      "text/html": [
       "<pre>Parsing completed. Parsed 32473067 lines in 18.1006 secs.</pre>"
      ],
      "text/plain": [
       "Parsing completed. Parsed 32473067 lines in 18.1006 secs."
      ]
     },
     "metadata": {},
     "output_type": "display_data"
    },
    {
     "data": {
      "text/html": [
       "<pre>Finished parsing file /home/ubuntu/TalkingData/source_data/events.csv</pre>"
      ],
      "text/plain": [
       "Finished parsing file /home/ubuntu/TalkingData/source_data/events.csv"
      ]
     },
     "metadata": {},
     "output_type": "display_data"
    },
    {
     "data": {
      "text/html": [
       "<pre>Parsing completed. Parsed 100 lines in 0.29242 secs.</pre>"
      ],
      "text/plain": [
       "Parsing completed. Parsed 100 lines in 0.29242 secs."
      ]
     },
     "metadata": {},
     "output_type": "display_data"
    },
    {
     "data": {
      "text/html": [
       "<pre>Read 884193 lines. Lines per second: 1.39602e+06</pre>"
      ],
      "text/plain": [
       "Read 884193 lines. Lines per second: 1.39602e+06"
      ]
     },
     "metadata": {},
     "output_type": "display_data"
    },
    {
     "data": {
      "text/html": [
       "<pre>Finished parsing file /home/ubuntu/TalkingData/source_data/events.csv</pre>"
      ],
      "text/plain": [
       "Finished parsing file /home/ubuntu/TalkingData/source_data/events.csv"
      ]
     },
     "metadata": {},
     "output_type": "display_data"
    },
    {
     "data": {
      "text/html": [
       "<pre>Parsing completed. Parsed 3252950 lines in 1.65391 secs.</pre>"
      ],
      "text/plain": [
       "Parsing completed. Parsed 3252950 lines in 1.65391 secs."
      ]
     },
     "metadata": {},
     "output_type": "display_data"
    }
   ],
   "source": [
    "import graphlab as gl\n",
    "from datetime import datetime\n",
    "app_labels = gl.SFrame.read_csv('source_data/app_labels.csv',column_type_hints={'app_id': str})\n",
    "gender_age_train = gl.SFrame.read_csv('source_data/gender_age_train.csv',column_type_hints={'device_id': str})\n",
    "label_categories = gl.SFrame.read_csv('source_data/label_categories.csv')\n",
    "phone_brand_device_model = gl.SFrame.read_csv('source_data/phone_brand_device_model.csv',column_type_hints={'device_id': str})\n",
    "sample_submission = gl.SFrame.read_csv('source_data/sample_submission.csv',column_type_hints={'device_id': str})\n",
    "app_events = gl.SFrame.read_csv('source_data/app_events.csv',column_type_hints={'app_id': str})\n",
    "events = gl.SFrame.read_csv('source_data/events.csv',column_type_hints={'device_id': str})"
   ]
  },
  {
   "cell_type": "code",
   "execution_count": 2,
   "metadata": {
    "collapsed": false
   },
   "outputs": [
    {
     "data": {
      "text/html": [
       "<div style=\"max-height:1000px;max-width:1500px;overflow:auto;\"><table frame=\"box\" rules=\"cols\">\n",
       "    <tr>\n",
       "        <th style=\"padding-left: 1em; padding-right: 1em; text-align: center\">device_id</th>\n",
       "        <th style=\"padding-left: 1em; padding-right: 1em; text-align: center\">gender</th>\n",
       "        <th style=\"padding-left: 1em; padding-right: 1em; text-align: center\">age</th>\n",
       "        <th style=\"padding-left: 1em; padding-right: 1em; text-align: center\">group</th>\n",
       "    </tr>\n",
       "    <tr>\n",
       "        <td style=\"padding-left: 1em; padding-right: 1em; text-align: center; vertical-align: top\">-8076087639492063270</td>\n",
       "        <td style=\"padding-left: 1em; padding-right: 1em; text-align: center; vertical-align: top\">M</td>\n",
       "        <td style=\"padding-left: 1em; padding-right: 1em; text-align: center; vertical-align: top\">35</td>\n",
       "        <td style=\"padding-left: 1em; padding-right: 1em; text-align: center; vertical-align: top\">M32-38</td>\n",
       "    </tr>\n",
       "    <tr>\n",
       "        <td style=\"padding-left: 1em; padding-right: 1em; text-align: center; vertical-align: top\">-2897161552818060146</td>\n",
       "        <td style=\"padding-left: 1em; padding-right: 1em; text-align: center; vertical-align: top\">M</td>\n",
       "        <td style=\"padding-left: 1em; padding-right: 1em; text-align: center; vertical-align: top\">35</td>\n",
       "        <td style=\"padding-left: 1em; padding-right: 1em; text-align: center; vertical-align: top\">M32-38</td>\n",
       "    </tr>\n",
       "    <tr>\n",
       "        <td style=\"padding-left: 1em; padding-right: 1em; text-align: center; vertical-align: top\">-8260683887967679142</td>\n",
       "        <td style=\"padding-left: 1em; padding-right: 1em; text-align: center; vertical-align: top\">M</td>\n",
       "        <td style=\"padding-left: 1em; padding-right: 1em; text-align: center; vertical-align: top\">35</td>\n",
       "        <td style=\"padding-left: 1em; padding-right: 1em; text-align: center; vertical-align: top\">M32-38</td>\n",
       "    </tr>\n",
       "</table>\n",
       "[3 rows x 4 columns]<br/>\n",
       "</div>"
      ],
      "text/plain": [
       "Columns:\n",
       "\tdevice_id\tstr\n",
       "\tgender\tstr\n",
       "\tage\tint\n",
       "\tgroup\tstr\n",
       "\n",
       "Rows: 3\n",
       "\n",
       "Data:\n",
       "+----------------------+--------+-----+--------+\n",
       "|      device_id       | gender | age | group  |\n",
       "+----------------------+--------+-----+--------+\n",
       "| -8076087639492063270 |   M    |  35 | M32-38 |\n",
       "| -2897161552818060146 |   M    |  35 | M32-38 |\n",
       "| -8260683887967679142 |   M    |  35 | M32-38 |\n",
       "+----------------------+--------+-----+--------+\n",
       "[3 rows x 4 columns]"
      ]
     },
     "execution_count": 2,
     "metadata": {},
     "output_type": "execute_result"
    }
   ],
   "source": [
    "gender_age_train.head(3)"
   ]
  },
  {
   "cell_type": "markdown",
   "metadata": {},
   "source": [
    "## Creating training and testing set"
   ]
  },
  {
   "cell_type": "code",
   "execution_count": 3,
   "metadata": {
    "collapsed": true
   },
   "outputs": [],
   "source": [
    "ga_train, ga_test = gender_age_train.random_split(0.8, seed=5)"
   ]
  },
  {
   "cell_type": "markdown",
   "metadata": {},
   "source": [
    "## Benchmark score"
   ]
  },
  {
   "cell_type": "code",
   "execution_count": 4,
   "metadata": {
    "collapsed": false
   },
   "outputs": [
    {
     "data": {
      "text/html": [
       "<div style=\"max-height:1000px;max-width:1500px;overflow:auto;\"><table frame=\"box\" rules=\"cols\">\n",
       "    <tr>\n",
       "        <th style=\"padding-left: 1em; padding-right: 1em; text-align: center\">group</th>\n",
       "        <th style=\"padding-left: 1em; padding-right: 1em; text-align: center\">count</th>\n",
       "    </tr>\n",
       "    <tr>\n",
       "        <td style=\"padding-left: 1em; padding-right: 1em; text-align: center; vertical-align: top\">F33-42</td>\n",
       "        <td style=\"padding-left: 1em; padding-right: 1em; text-align: center; vertical-align: top\">4449</td>\n",
       "    </tr>\n",
       "    <tr>\n",
       "        <td style=\"padding-left: 1em; padding-right: 1em; text-align: center; vertical-align: top\">F23-</td>\n",
       "        <td style=\"padding-left: 1em; padding-right: 1em; text-align: center; vertical-align: top\">4083</td>\n",
       "    </tr>\n",
       "    <tr>\n",
       "        <td style=\"padding-left: 1em; padding-right: 1em; text-align: center; vertical-align: top\">F27-28</td>\n",
       "        <td style=\"padding-left: 1em; padding-right: 1em; text-align: center; vertical-align: top\">2515</td>\n",
       "    </tr>\n",
       "    <tr>\n",
       "        <td style=\"padding-left: 1em; padding-right: 1em; text-align: center; vertical-align: top\">M27-28</td>\n",
       "        <td style=\"padding-left: 1em; padding-right: 1em; text-align: center; vertical-align: top\">4424</td>\n",
       "    </tr>\n",
       "    <tr>\n",
       "        <td style=\"padding-left: 1em; padding-right: 1em; text-align: center; vertical-align: top\">M32-38</td>\n",
       "        <td style=\"padding-left: 1em; padding-right: 1em; text-align: center; vertical-align: top\">7575</td>\n",
       "    </tr>\n",
       "    <tr>\n",
       "        <td style=\"padding-left: 1em; padding-right: 1em; text-align: center; vertical-align: top\">F29-32</td>\n",
       "        <td style=\"padding-left: 1em; padding-right: 1em; text-align: center; vertical-align: top\">3711</td>\n",
       "    </tr>\n",
       "    <tr>\n",
       "        <td style=\"padding-left: 1em; padding-right: 1em; text-align: center; vertical-align: top\">F24-26</td>\n",
       "        <td style=\"padding-left: 1em; padding-right: 1em; text-align: center; vertical-align: top\">3367</td>\n",
       "    </tr>\n",
       "    <tr>\n",
       "        <td style=\"padding-left: 1em; padding-right: 1em; text-align: center; vertical-align: top\">M23-26</td>\n",
       "        <td style=\"padding-left: 1em; padding-right: 1em; text-align: center; vertical-align: top\">7692</td>\n",
       "    </tr>\n",
       "    <tr>\n",
       "        <td style=\"padding-left: 1em; padding-right: 1em; text-align: center; vertical-align: top\">M29-31</td>\n",
       "        <td style=\"padding-left: 1em; padding-right: 1em; text-align: center; vertical-align: top\">5820</td>\n",
       "    </tr>\n",
       "    <tr>\n",
       "        <td style=\"padding-left: 1em; padding-right: 1em; text-align: center; vertical-align: top\">M39+</td>\n",
       "        <td style=\"padding-left: 1em; padding-right: 1em; text-align: center; vertical-align: top\">6877</td>\n",
       "    </tr>\n",
       "</table>\n",
       "[12 rows x 2 columns]<br/>Note: Only the head of the SFrame is printed.<br/>You can use print_rows(num_rows=m, num_columns=n) to print more rows and columns.\n",
       "</div>"
      ],
      "text/plain": [
       "Columns:\n",
       "\tgroup\tstr\n",
       "\tcount\tint\n",
       "\n",
       "Rows: 12\n",
       "\n",
       "Data:\n",
       "+--------+-------+\n",
       "| group  | count |\n",
       "+--------+-------+\n",
       "| F33-42 |  4449 |\n",
       "|  F23-  |  4083 |\n",
       "| F27-28 |  2515 |\n",
       "| M27-28 |  4424 |\n",
       "| M32-38 |  7575 |\n",
       "| F29-32 |  3711 |\n",
       "| F24-26 |  3367 |\n",
       "| M23-26 |  7692 |\n",
       "| M29-31 |  5820 |\n",
       "|  M39+  |  6877 |\n",
       "+--------+-------+\n",
       "[12 rows x 2 columns]\n",
       "Note: Only the head of the SFrame is printed.\n",
       "You can use print_rows(num_rows=m, num_columns=n) to print more rows and columns."
      ]
     },
     "execution_count": 4,
     "metadata": {},
     "output_type": "execute_result"
    }
   ],
   "source": [
    "benchmark = ga_train.groupby('group',{'count':gl.aggregate.COUNT('device_id')})\n",
    "benchmark"
   ]
  },
  {
   "cell_type": "code",
   "execution_count": 5,
   "metadata": {
    "collapsed": false
   },
   "outputs": [],
   "source": [
    "total = benchmark['count'].sum()\n",
    "benchmark['freq']=benchmark['count']/total\n",
    "classes = sorted(sample_submission.column_names())\n",
    "classes.remove(\"device_id\")\n",
    "submission = gl.SFrame({'device_id':ga_test['device_id']})"
   ]
  },
  {
   "cell_type": "code",
   "execution_count": 6,
   "metadata": {
    "collapsed": false
   },
   "outputs": [
    {
     "data": {
      "text/html": [
       "<div style=\"max-height:1000px;max-width:1500px;overflow:auto;\"><table frame=\"box\" rules=\"cols\">\n",
       "    <tr>\n",
       "        <th style=\"padding-left: 1em; padding-right: 1em; text-align: center\">device_id</th>\n",
       "        <th style=\"padding-left: 1em; padding-right: 1em; text-align: center\">F23-</th>\n",
       "        <th style=\"padding-left: 1em; padding-right: 1em; text-align: center\">F24-26</th>\n",
       "        <th style=\"padding-left: 1em; padding-right: 1em; text-align: center\">F27-28</th>\n",
       "        <th style=\"padding-left: 1em; padding-right: 1em; text-align: center\">F29-32</th>\n",
       "        <th style=\"padding-left: 1em; padding-right: 1em; text-align: center\">F33-42</th>\n",
       "    </tr>\n",
       "    <tr>\n",
       "        <td style=\"padding-left: 1em; padding-right: 1em; text-align: center; vertical-align: top\">236877999787307864</td>\n",
       "        <td style=\"padding-left: 1em; padding-right: 1em; text-align: center; vertical-align: top\">0.0681954836986</td>\n",
       "        <td style=\"padding-left: 1em; padding-right: 1em; text-align: center; vertical-align: top\">0.0562366381614</td>\n",
       "        <td style=\"padding-left: 1em; padding-right: 1em; text-align: center; vertical-align: top\">0.0420062800641</td>\n",
       "        <td style=\"padding-left: 1em; padding-right: 1em; text-align: center; vertical-align: top\">0.0619822287547</td>\n",
       "        <td style=\"padding-left: 1em; padding-right: 1em; text-align: center; vertical-align: top\">0.074308524853</td>\n",
       "    </tr>\n",
       "</table>\n",
       "<table frame=\"box\" rules=\"cols\">\n",
       "    <tr>\n",
       "        <th style=\"padding-left: 1em; padding-right: 1em; text-align: center\">F43+</th>\n",
       "        <th style=\"padding-left: 1em; padding-right: 1em; text-align: center\">M22-</th>\n",
       "        <th style=\"padding-left: 1em; padding-right: 1em; text-align: center\">M23-26</th>\n",
       "        <th style=\"padding-left: 1em; padding-right: 1em; text-align: center\">M27-28</th>\n",
       "        <th style=\"padding-left: 1em; padding-right: 1em; text-align: center\">M29-31</th>\n",
       "        <th style=\"padding-left: 1em; padding-right: 1em; text-align: center\">M32-38</th>\n",
       "    </tr>\n",
       "    <tr>\n",
       "        <td style=\"padding-left: 1em; padding-right: 1em; text-align: center; vertical-align: top\">0.0566207910208</td>\n",
       "        <td style=\"padding-left: 1em; padding-right: 1em; text-align: center; vertical-align: top\">0.0996960181721</td>\n",
       "        <td style=\"padding-left: 1em; padding-right: 1em; text-align: center; vertical-align: top\">0.128474078033</td>\n",
       "        <td style=\"padding-left: 1em; padding-right: 1em; text-align: center; vertical-align: top\">0.0738909673971</td>\n",
       "        <td style=\"padding-left: 1em; padding-right: 1em; text-align: center; vertical-align: top\">0.0972073757349</td>\n",
       "        <td style=\"padding-left: 1em; padding-right: 1em; text-align: center; vertical-align: top\">0.126519909139</td>\n",
       "    </tr>\n",
       "</table>\n",
       "<table frame=\"box\" rules=\"cols\">\n",
       "    <tr>\n",
       "        <th style=\"padding-left: 1em; padding-right: 1em; text-align: center\">M39+</th>\n",
       "    </tr>\n",
       "    <tr>\n",
       "        <td style=\"padding-left: 1em; padding-right: 1em; text-align: center; vertical-align: top\">0.114861704971</td>\n",
       "    </tr>\n",
       "</table>\n",
       "[1 rows x 13 columns]<br/>\n",
       "</div>"
      ],
      "text/plain": [
       "Columns:\n",
       "\tdevice_id\tstr\n",
       "\tF23-\tfloat\n",
       "\tF24-26\tfloat\n",
       "\tF27-28\tfloat\n",
       "\tF29-32\tfloat\n",
       "\tF33-42\tfloat\n",
       "\tF43+\tfloat\n",
       "\tM22-\tfloat\n",
       "\tM23-26\tfloat\n",
       "\tM27-28\tfloat\n",
       "\tM29-31\tfloat\n",
       "\tM32-38\tfloat\n",
       "\tM39+\tfloat\n",
       "\n",
       "Rows: 1\n",
       "\n",
       "Data:\n",
       "+--------------------+-----------------+-----------------+-----------------+\n",
       "|     device_id      |       F23-      |      F24-26     |      F27-28     |\n",
       "+--------------------+-----------------+-----------------+-----------------+\n",
       "| 236877999787307864 | 0.0681954836986 | 0.0562366381614 | 0.0420062800641 |\n",
       "+--------------------+-----------------+-----------------+-----------------+\n",
       "+-----------------+----------------+-----------------+-----------------+\n",
       "|      F29-32     |     F33-42     |       F43+      |       M22-      |\n",
       "+-----------------+----------------+-----------------+-----------------+\n",
       "| 0.0619822287547 | 0.074308524853 | 0.0566207910208 | 0.0996960181721 |\n",
       "+-----------------+----------------+-----------------+-----------------+\n",
       "+----------------+-----------------+-----------------+----------------+\n",
       "|     M23-26     |      M27-28     |      M29-31     |     M32-38     |\n",
       "+----------------+-----------------+-----------------+----------------+\n",
       "| 0.128474078033 | 0.0738909673971 | 0.0972073757349 | 0.126519909139 |\n",
       "+----------------+-----------------+-----------------+----------------+\n",
       "+----------------+\n",
       "|      M39+      |\n",
       "+----------------+\n",
       "| 0.114861704971 |\n",
       "+----------------+\n",
       "[1 rows x 13 columns]"
      ]
     },
     "execution_count": 6,
     "metadata": {},
     "output_type": "execute_result"
    }
   ],
   "source": [
    "for i, label in enumerate(classes):\n",
    "    submission[label] = benchmark[benchmark['group']==label]['freq'][0]\n",
    "submission.head(1)"
   ]
  },
  {
   "cell_type": "code",
   "execution_count": 7,
   "metadata": {
    "collapsed": true
   },
   "outputs": [],
   "source": [
    "target = ga_test['group']\n",
    "predictions = submission.remove_column('device_id')\n",
    "row = []\n",
    "col = []\n",
    "for label in classes:\n",
    "    row.append(predictions[0][label])\n",
    "for i in range(len(ga_test)):\n",
    "    col.append(row)\n",
    "submission = gl.SArray(col)"
   ]
  },
  {
   "cell_type": "code",
   "execution_count": 8,
   "metadata": {
    "collapsed": false
   },
   "outputs": [
    {
     "name": "stdout",
     "output_type": "stream",
     "text": [
      "the benchmark logloss is 2.4234927185\n"
     ]
    }
   ],
   "source": [
    "log_loss = gl.evaluation.log_loss(target, submission)\n",
    "print 'the benchmark logloss is {}'.format(log_loss)"
   ]
  },
  {
   "cell_type": "markdown",
   "metadata": {},
   "source": [
    "## Merging data into one table"
   ]
  },
  {
   "cell_type": "code",
   "execution_count": 9,
   "metadata": {
    "collapsed": false
   },
   "outputs": [
    {
     "data": {
      "text/html": [
       "<div style=\"max-height:1000px;max-width:1500px;overflow:auto;\"><table frame=\"box\" rules=\"cols\">\n",
       "    <tr>\n",
       "        <th style=\"padding-left: 1em; padding-right: 1em; text-align: center\">app_id</th>\n",
       "        <th style=\"padding-left: 1em; padding-right: 1em; text-align: center\">label_list</th>\n",
       "    </tr>\n",
       "    <tr>\n",
       "        <td style=\"padding-left: 1em; padding-right: 1em; text-align: center; vertical-align: top\">-539730114641165062</td>\n",
       "        <td style=\"padding-left: 1em; padding-right: 1em; text-align: center; vertical-align: top\">[548, 710, 704]</td>\n",
       "    </tr>\n",
       "    <tr>\n",
       "        <td style=\"padding-left: 1em; padding-right: 1em; text-align: center; vertical-align: top\">-736899763926984371</td>\n",
       "        <td style=\"padding-left: 1em; padding-right: 1em; text-align: center; vertical-align: top\">[405, 796, 794, 795]</td>\n",
       "    </tr>\n",
       "    <tr>\n",
       "        <td style=\"padding-left: 1em; padding-right: 1em; text-align: center; vertical-align: top\">3258653066506014655</td>\n",
       "        <td style=\"padding-left: 1em; padding-right: 1em; text-align: center; vertical-align: top\">[548, 549, 128]</td>\n",
       "    </tr>\n",
       "</table>\n",
       "[3 rows x 2 columns]<br/>\n",
       "</div>"
      ],
      "text/plain": [
       "Columns:\n",
       "\tapp_id\tstr\n",
       "\tlabel_list\tlist\n",
       "\n",
       "Rows: 3\n",
       "\n",
       "Data:\n",
       "+---------------------+----------------------+\n",
       "|        app_id       |      label_list      |\n",
       "+---------------------+----------------------+\n",
       "| -539730114641165062 |   [548, 710, 704]    |\n",
       "| -736899763926984371 | [405, 796, 794, 795] |\n",
       "| 3258653066506014655 |   [548, 549, 128]    |\n",
       "+---------------------+----------------------+\n",
       "[3 rows x 2 columns]"
      ]
     },
     "execution_count": 9,
     "metadata": {},
     "output_type": "execute_result"
    }
   ],
   "source": [
    "app_label_list = app_labels.groupby('app_id',{'label_list': gl.aggregate.CONCAT('label_id')})\n",
    "app_label_list.head(3)"
   ]
  },
  {
   "cell_type": "code",
   "execution_count": 10,
   "metadata": {
    "collapsed": true
   },
   "outputs": [],
   "source": [
    "app_events = app_events.join(app_label_list, on='app_id', how='inner')\n",
    "app_events['label_list'] = app_events['label_list'].apply(lambda x: ' '.join(str(e) for e in x))"
   ]
  },
  {
   "cell_type": "code",
   "execution_count": 11,
   "metadata": {
    "collapsed": true
   },
   "outputs": [],
   "source": [
    "# separate app_events\n",
    "app_events_installed = app_events[app_events['is_active']==0]\n",
    "app_events_active = app_events[app_events['is_active']==1]"
   ]
  },
  {
   "cell_type": "code",
   "execution_count": 12,
   "metadata": {
    "collapsed": false
   },
   "outputs": [
    {
     "data": {
      "text/html": [
       "<div style=\"max-height:1000px;max-width:1500px;overflow:auto;\"><table frame=\"box\" rules=\"cols\">\n",
       "    <tr>\n",
       "        <th style=\"padding-left: 1em; padding-right: 1em; text-align: center\">event_id</th>\n",
       "        <th style=\"padding-left: 1em; padding-right: 1em; text-align: center\">active_label</th>\n",
       "        <th style=\"padding-left: 1em; padding-right: 1em; text-align: center\">active_app_id</th>\n",
       "        <th style=\"padding-left: 1em; padding-right: 1em; text-align: center\">active_tfidf</th>\n",
       "    </tr>\n",
       "    <tr>\n",
       "        <td style=\"padding-left: 1em; padding-right: 1em; text-align: center; vertical-align: top\">2658191</td>\n",
       "        <td style=\"padding-left: 1em; padding-right: 1em; text-align: center; vertical-align: top\">549 710 169 271 302 548<br>303 318 704 306 843 840 ...</td>\n",
       "        <td style=\"padding-left: 1em; padding-right: 1em; text-align: center; vertical-align: top\">[5195654633279707117,<br>-6793861127573349654] ...</td>\n",
       "        <td style=\"padding-left: 1em; padding-right: 1em; text-align: center; vertical-align: top\">{'318':<br>3.0342132763787455, ...</td>\n",
       "    </tr>\n",
       "    <tr>\n",
       "        <td style=\"padding-left: 1em; padding-right: 1em; text-align: center; vertical-align: top\">846413</td>\n",
       "        <td style=\"padding-left: 1em; padding-right: 1em; text-align: center; vertical-align: top\">548 549 152 548 704 713<br>717 721 232 721 548 704 ...</td>\n",
       "        <td style=\"padding-left: 1em; padding-right: 1em; text-align: center; vertical-align: top\">[543880124725657021,<br>-755461362045697404, ...</td>\n",
       "        <td style=\"padding-left: 1em; padding-right: 1em; text-align: center; vertical-align: top\">{'152': 2.67227674683976,<br>'704': 1.184211267210 ...</td>\n",
       "    </tr>\n",
       "    <tr>\n",
       "        <td style=\"padding-left: 1em; padding-right: 1em; text-align: center; vertical-align: top\">2683136</td>\n",
       "        <td style=\"padding-left: 1em; padding-right: 1em; text-align: center; vertical-align: top\">548 549 549 710 548 704<br>172 548 549 714 548 704 ...</td>\n",
       "        <td style=\"padding-left: 1em; padding-right: 1em; text-align: center; vertical-align: top\">[-7680145830980282919,<br>5927333115845830913, ...</td>\n",
       "        <td style=\"padding-left: 1em; padding-right: 1em; text-align: center; vertical-align: top\">{'704':<br>0.7401320420064275, ...</td>\n",
       "    </tr>\n",
       "</table>\n",
       "[3 rows x 4 columns]<br/>\n",
       "</div>"
      ],
      "text/plain": [
       "Columns:\n",
       "\tevent_id\tint\n",
       "\tactive_label\tstr\n",
       "\tactive_app_id\tlist\n",
       "\tactive_tfidf\tdict\n",
       "\n",
       "Rows: 3\n",
       "\n",
       "Data:\n",
       "+----------+-------------------------------+-------------------------------+\n",
       "| event_id |          active_label         |         active_app_id         |\n",
       "+----------+-------------------------------+-------------------------------+\n",
       "| 2658191  | 549 710 169 271 302 548 30... | [5195654633279707117, -679... |\n",
       "|  846413  | 548 549 152 548 704 713 71... | [543880124725657021, -7554... |\n",
       "| 2683136  | 548 549 549 710 548 704 17... | [-7680145830980282919, 592... |\n",
       "+----------+-------------------------------+-------------------------------+\n",
       "+-------------------------------+\n",
       "|          active_tfidf         |\n",
       "+-------------------------------+\n",
       "| {'318': 3.0342132763787455... |\n",
       "| {'152': 2.67227674683976, ... |\n",
       "| {'704': 0.7401320420064275... |\n",
       "+-------------------------------+\n",
       "[3 rows x 4 columns]"
      ]
     },
     "execution_count": 12,
     "metadata": {},
     "output_type": "execute_result"
    }
   ],
   "source": [
    "ga_events_active = app_events_active.groupby(\"event_id\", {\"active_label\": gl.aggregate.CONCAT('label_list'), 'active_app_id': gl.aggregate.CONCAT('app_id')})\n",
    "ga_events_active['active_label'] =ga_events_active['active_label'].apply(lambda x: ' '.join(str(e) for e in x))\n",
    "ga_events_active['active_tfidf']= gl.text_analytics.tf_idf(ga_events_active['active_label'])\n",
    "ga_events_active.head(3)"
   ]
  },
  {
   "cell_type": "code",
   "execution_count": 13,
   "metadata": {
    "collapsed": false
   },
   "outputs": [
    {
     "data": {
      "text/html": [
       "<div style=\"max-height:1000px;max-width:1500px;overflow:auto;\"><table frame=\"box\" rules=\"cols\">\n",
       "    <tr>\n",
       "        <th style=\"padding-left: 1em; padding-right: 1em; text-align: center\">event_id</th>\n",
       "        <th style=\"padding-left: 1em; padding-right: 1em; text-align: center\">installed_label</th>\n",
       "        <th style=\"padding-left: 1em; padding-right: 1em; text-align: center\">installed_app_id</th>\n",
       "        <th style=\"padding-left: 1em; padding-right: 1em; text-align: center\">install_tfidf</th>\n",
       "    </tr>\n",
       "    <tr>\n",
       "        <td style=\"padding-left: 1em; padding-right: 1em; text-align: center; vertical-align: top\">561271</td>\n",
       "        <td style=\"padding-left: 1em; padding-right: 1em; text-align: center; vertical-align: top\">549 405 548 730 756 761<br>777 782 787 1012 713 704 ...</td>\n",
       "        <td style=\"padding-left: 1em; padding-right: 1em; text-align: center; vertical-align: top\">[3722410295315095646,<br>133935734026685494, ...</td>\n",
       "        <td style=\"padding-left: 1em; padding-right: 1em; text-align: center; vertical-align: top\">{'704':<br>0.04857517511347787, ...</td>\n",
       "    </tr>\n",
       "    <tr>\n",
       "        <td style=\"padding-left: 1em; padding-right: 1em; text-align: center; vertical-align: top\">1718105</td>\n",
       "        <td style=\"padding-left: 1em; padding-right: 1em; text-align: center; vertical-align: top\">549 710 548 704 172 548<br>549 168 549 721 724 186 ...</td>\n",
       "        <td style=\"padding-left: 1em; padding-right: 1em; text-align: center; vertical-align: top\">[5927333115845830913,<br>-1805603084550565936, ...</td>\n",
       "        <td style=\"padding-left: 1em; padding-right: 1em; text-align: center; vertical-align: top\">{'214':<br>1.6798201754695075, ...</td>\n",
       "    </tr>\n",
       "    <tr>\n",
       "        <td style=\"padding-left: 1em; padding-right: 1em; text-align: center; vertical-align: top\">895926</td>\n",
       "        <td style=\"padding-left: 1em; padding-right: 1em; text-align: center; vertical-align: top\">549 713 237 704 548 549<br>721 302 303 704 548 183 ...</td>\n",
       "        <td style=\"padding-left: 1em; padding-right: 1em; text-align: center; vertical-align: top\">[8483751493632839871,<br>-7377004479023402858, ...</td>\n",
       "        <td style=\"padding-left: 1em; padding-right: 1em; text-align: center; vertical-align: top\">{'775':<br>0.9557122571870953, ...</td>\n",
       "    </tr>\n",
       "</table>\n",
       "[3 rows x 4 columns]<br/>\n",
       "</div>"
      ],
      "text/plain": [
       "Columns:\n",
       "\tevent_id\tint\n",
       "\tinstalled_label\tstr\n",
       "\tinstalled_app_id\tlist\n",
       "\tinstall_tfidf\tdict\n",
       "\n",
       "Rows: 3\n",
       "\n",
       "Data:\n",
       "+----------+-------------------------------+-------------------------------+\n",
       "| event_id |        installed_label        |        installed_app_id       |\n",
       "+----------+-------------------------------+-------------------------------+\n",
       "|  561271  | 549 405 548 730 756 761 77... | [3722410295315095646, 1339... |\n",
       "| 1718105  | 549 710 548 704 172 548 54... | [5927333115845830913, -180... |\n",
       "|  895926  | 549 713 237 704 548 549 72... | [8483751493632839871, -737... |\n",
       "+----------+-------------------------------+-------------------------------+\n",
       "+-------------------------------+\n",
       "|         install_tfidf         |\n",
       "+-------------------------------+\n",
       "| {'704': 0.0485751751134778... |\n",
       "| {'214': 1.6798201754695075... |\n",
       "| {'775': 0.9557122571870953... |\n",
       "+-------------------------------+\n",
       "[3 rows x 4 columns]"
      ]
     },
     "execution_count": 13,
     "metadata": {},
     "output_type": "execute_result"
    }
   ],
   "source": [
    "ga_events_install = app_events_installed.groupby(\"event_id\", {\"installed_label\": gl.aggregate.CONCAT('label_list'), 'installed_app_id': gl.aggregate.CONCAT('app_id')})\n",
    "ga_events_install['installed_label'] =ga_events_install['installed_label'].apply(lambda x: ' '.join(str(e) for e in x))\n",
    "ga_events_install['install_tfidf']= gl.text_analytics.tf_idf(ga_events_install['installed_label'])\n",
    "ga_events_install.head(3)"
   ]
  },
  {
   "cell_type": "code",
   "execution_count": 14,
   "metadata": {
    "collapsed": false,
    "scrolled": true
   },
   "outputs": [
    {
     "data": {
      "text/html": [
       "<div style=\"max-height:1000px;max-width:1500px;overflow:auto;\"><table frame=\"box\" rules=\"cols\">\n",
       "    <tr>\n",
       "        <th style=\"padding-left: 1em; padding-right: 1em; text-align: center\">event_id</th>\n",
       "        <th style=\"padding-left: 1em; padding-right: 1em; text-align: center\">device_id</th>\n",
       "        <th style=\"padding-left: 1em; padding-right: 1em; text-align: center\">timestamp</th>\n",
       "        <th style=\"padding-left: 1em; padding-right: 1em; text-align: center\">longitude</th>\n",
       "        <th style=\"padding-left: 1em; padding-right: 1em; text-align: center\">latitude</th>\n",
       "        <th style=\"padding-left: 1em; padding-right: 1em; text-align: center\">active_label</th>\n",
       "    </tr>\n",
       "    <tr>\n",
       "        <td style=\"padding-left: 1em; padding-right: 1em; text-align: center; vertical-align: top\">1</td>\n",
       "        <td style=\"padding-left: 1em; padding-right: 1em; text-align: center; vertical-align: top\">29182687948017175</td>\n",
       "        <td style=\"padding-left: 1em; padding-right: 1em; text-align: center; vertical-align: top\">2016-05-01 00:55:25</td>\n",
       "        <td style=\"padding-left: 1em; padding-right: 1em; text-align: center; vertical-align: top\">121.38</td>\n",
       "        <td style=\"padding-left: 1em; padding-right: 1em; text-align: center; vertical-align: top\">31.24</td>\n",
       "        <td style=\"padding-left: 1em; padding-right: 1em; text-align: center; vertical-align: top\">None</td>\n",
       "    </tr>\n",
       "    <tr>\n",
       "        <td style=\"padding-left: 1em; padding-right: 1em; text-align: center; vertical-align: top\">2</td>\n",
       "        <td style=\"padding-left: 1em; padding-right: 1em; text-align: center; vertical-align: top\">-6401643145415154744</td>\n",
       "        <td style=\"padding-left: 1em; padding-right: 1em; text-align: center; vertical-align: top\">2016-05-01 00:54:12</td>\n",
       "        <td style=\"padding-left: 1em; padding-right: 1em; text-align: center; vertical-align: top\">103.65</td>\n",
       "        <td style=\"padding-left: 1em; padding-right: 1em; text-align: center; vertical-align: top\">30.97</td>\n",
       "        <td style=\"padding-left: 1em; padding-right: 1em; text-align: center; vertical-align: top\">549 710 548 704 172 405<br>730 747 749 776 782 785 ...</td>\n",
       "    </tr>\n",
       "    <tr>\n",
       "        <td style=\"padding-left: 1em; padding-right: 1em; text-align: center; vertical-align: top\">3</td>\n",
       "        <td style=\"padding-left: 1em; padding-right: 1em; text-align: center; vertical-align: top\">-4833982096941402721</td>\n",
       "        <td style=\"padding-left: 1em; padding-right: 1em; text-align: center; vertical-align: top\">2016-05-01 00:08:05</td>\n",
       "        <td style=\"padding-left: 1em; padding-right: 1em; text-align: center; vertical-align: top\">106.6</td>\n",
       "        <td style=\"padding-left: 1em; padding-right: 1em; text-align: center; vertical-align: top\">29.7</td>\n",
       "        <td style=\"padding-left: 1em; padding-right: 1em; text-align: center; vertical-align: top\">None</td>\n",
       "    </tr>\n",
       "</table>\n",
       "<table frame=\"box\" rules=\"cols\">\n",
       "    <tr>\n",
       "        <th style=\"padding-left: 1em; padding-right: 1em; text-align: center\">active_app_id</th>\n",
       "        <th style=\"padding-left: 1em; padding-right: 1em; text-align: center\">active_tfidf</th>\n",
       "        <th style=\"padding-left: 1em; padding-right: 1em; text-align: center\">installed_label</th>\n",
       "        <th style=\"padding-left: 1em; padding-right: 1em; text-align: center\">installed_app_id</th>\n",
       "    </tr>\n",
       "    <tr>\n",
       "        <td style=\"padding-left: 1em; padding-right: 1em; text-align: center; vertical-align: top\">None</td>\n",
       "        <td style=\"padding-left: 1em; padding-right: 1em; text-align: center; vertical-align: top\">None</td>\n",
       "        <td style=\"padding-left: 1em; padding-right: 1em; text-align: center; vertical-align: top\">None</td>\n",
       "        <td style=\"padding-left: 1em; padding-right: 1em; text-align: center; vertical-align: top\">None</td>\n",
       "    </tr>\n",
       "    <tr>\n",
       "        <td style=\"padding-left: 1em; padding-right: 1em; text-align: center; vertical-align: top\">[5927333115845830913,<br>-653184325010919369, ...</td>\n",
       "        <td style=\"padding-left: 1em; padding-right: 1em; text-align: center; vertical-align: top\">{'747':<br>4.9236469360864525, ...</td>\n",
       "        <td style=\"padding-left: 1em; padding-right: 1em; text-align: center; vertical-align: top\">721 548 302 303 704 251<br>263 405 730 756 757 775 ...</td>\n",
       "        <td style=\"padding-left: 1em; padding-right: 1em; text-align: center; vertical-align: top\">[-5720078949152207372,<br>-1633887856876571208, ...</td>\n",
       "    </tr>\n",
       "    <tr>\n",
       "        <td style=\"padding-left: 1em; padding-right: 1em; text-align: center; vertical-align: top\">None</td>\n",
       "        <td style=\"padding-left: 1em; padding-right: 1em; text-align: center; vertical-align: top\">None</td>\n",
       "        <td style=\"padding-left: 1em; padding-right: 1em; text-align: center; vertical-align: top\">None</td>\n",
       "        <td style=\"padding-left: 1em; padding-right: 1em; text-align: center; vertical-align: top\">None</td>\n",
       "    </tr>\n",
       "</table>\n",
       "<table frame=\"box\" rules=\"cols\">\n",
       "    <tr>\n",
       "        <th style=\"padding-left: 1em; padding-right: 1em; text-align: center\">install_tfidf</th>\n",
       "    </tr>\n",
       "    <tr>\n",
       "        <td style=\"padding-left: 1em; padding-right: 1em; text-align: center; vertical-align: top\">None</td>\n",
       "    </tr>\n",
       "    <tr>\n",
       "        <td style=\"padding-left: 1em; padding-right: 1em; text-align: center; vertical-align: top\">{'704':<br>0.08500655644858628, ...</td>\n",
       "    </tr>\n",
       "    <tr>\n",
       "        <td style=\"padding-left: 1em; padding-right: 1em; text-align: center; vertical-align: top\">None</td>\n",
       "    </tr>\n",
       "</table>\n",
       "[3 rows x 11 columns]<br/>\n",
       "</div>"
      ],
      "text/plain": [
       "Columns:\n",
       "\tevent_id\tint\n",
       "\tdevice_id\tstr\n",
       "\ttimestamp\tstr\n",
       "\tlongitude\tfloat\n",
       "\tlatitude\tfloat\n",
       "\tactive_label\tstr\n",
       "\tactive_app_id\tlist\n",
       "\tactive_tfidf\tdict\n",
       "\tinstalled_label\tstr\n",
       "\tinstalled_app_id\tlist\n",
       "\tinstall_tfidf\tdict\n",
       "\n",
       "Rows: 3\n",
       "\n",
       "Data:\n",
       "+----------+----------------------+---------------------+-----------+----------+\n",
       "| event_id |      device_id       |      timestamp      | longitude | latitude |\n",
       "+----------+----------------------+---------------------+-----------+----------+\n",
       "|    1     |  29182687948017175   | 2016-05-01 00:55:25 |   121.38  |  31.24   |\n",
       "|    2     | -6401643145415154744 | 2016-05-01 00:54:12 |   103.65  |  30.97   |\n",
       "|    3     | -4833982096941402721 | 2016-05-01 00:08:05 |   106.6   |   29.7   |\n",
       "+----------+----------------------+---------------------+-----------+----------+\n",
       "+-------------------------------+-------------------------------+\n",
       "|          active_label         |         active_app_id         |\n",
       "+-------------------------------+-------------------------------+\n",
       "|              None             |              None             |\n",
       "| 549 710 548 704 172 405 73... | [5927333115845830913, -653... |\n",
       "|              None             |              None             |\n",
       "+-------------------------------+-------------------------------+\n",
       "+-------------------------------+-------------------------------+\n",
       "|          active_tfidf         |        installed_label        |\n",
       "+-------------------------------+-------------------------------+\n",
       "|              None             |              None             |\n",
       "| {'747': 4.9236469360864525... | 721 548 302 303 704 251 26... |\n",
       "|              None             |              None             |\n",
       "+-------------------------------+-------------------------------+\n",
       "+-------------------------------+-------------------------------+\n",
       "|        installed_app_id       |         install_tfidf         |\n",
       "+-------------------------------+-------------------------------+\n",
       "|              None             |              None             |\n",
       "| [-5720078949152207372, -16... | {'704': 0.0850065564485862... |\n",
       "|              None             |              None             |\n",
       "+-------------------------------+-------------------------------+\n",
       "[3 rows x 11 columns]"
      ]
     },
     "execution_count": 14,
     "metadata": {},
     "output_type": "execute_result"
    }
   ],
   "source": [
    "events = events.join(ga_events_active, on ='event_id', how='left') # events has more event id than app_event, so use left join\n",
    "events= events.join(ga_events_install, on = 'event_id', how='left')\n",
    "events.head(3)"
   ]
  },
  {
   "cell_type": "code",
   "execution_count": 15,
   "metadata": {
    "collapsed": true
   },
   "outputs": [],
   "source": [
    "def period (x):\n",
    "    if x.hour>=0 and x.hour<=5:\n",
    "        return 'midnight'\n",
    "    elif x.hour>=6 and x.hour<=11:\n",
    "        return 'morning'\n",
    "    elif x.hour>=12 and x.hour<=17:\n",
    "        return 'afternoon'\n",
    "    else:\n",
    "        return 'evening'"
   ]
  },
  {
   "cell_type": "code",
   "execution_count": 16,
   "metadata": {
    "collapsed": true
   },
   "outputs": [],
   "source": [
    "name_of_weekday = ['Monday','Tuesday','Wednesday','Thursday','Friday','Saturaday','Sunday']\n",
    "def weekday (x):\n",
    "    return name_of_weekday[x-1]"
   ]
  },
  {
   "cell_type": "code",
   "execution_count": 17,
   "metadata": {
    "collapsed": false
   },
   "outputs": [],
   "source": [
    "# creating time features\n",
    "events[\"timestamp\"] = events[\"timestamp\"].str_to_datetime(str_format=\"%Y-%m-%dT%H:%M:%S\")\n",
    "events['weekday']= events['timestamp'].apply(lambda x: x.isoweekday())\n",
    "events['weekday']= events['weekday'].apply(weekday)\n",
    "events['period'] = events['timestamp'].apply(period)"
   ]
  },
  {
   "cell_type": "code",
   "execution_count": 18,
   "metadata": {
    "collapsed": false
   },
   "outputs": [],
   "source": [
    "# adding phone brand device model \n",
    "events = events.join(phone_brand_device_model, on='device_id',how='inner')"
   ]
  },
  {
   "cell_type": "code",
   "execution_count": 19,
   "metadata": {
    "collapsed": false,
    "scrolled": true
   },
   "outputs": [
    {
     "data": {
      "text/html": [
       "<div style=\"max-height:1000px;max-width:1500px;overflow:auto;\"><table frame=\"box\" rules=\"cols\">\n",
       "    <tr>\n",
       "        <th style=\"padding-left: 1em; padding-right: 1em; text-align: center\">event_id</th>\n",
       "        <th style=\"padding-left: 1em; padding-right: 1em; text-align: center\">device_id</th>\n",
       "        <th style=\"padding-left: 1em; padding-right: 1em; text-align: center\">timestamp</th>\n",
       "        <th style=\"padding-left: 1em; padding-right: 1em; text-align: center\">longitude</th>\n",
       "        <th style=\"padding-left: 1em; padding-right: 1em; text-align: center\">latitude</th>\n",
       "        <th style=\"padding-left: 1em; padding-right: 1em; text-align: center\">active_label</th>\n",
       "    </tr>\n",
       "    <tr>\n",
       "        <td style=\"padding-left: 1em; padding-right: 1em; text-align: center; vertical-align: top\">1</td>\n",
       "        <td style=\"padding-left: 1em; padding-right: 1em; text-align: center; vertical-align: top\">29182687948017175</td>\n",
       "        <td style=\"padding-left: 1em; padding-right: 1em; text-align: center; vertical-align: top\">2016-05-01 00:55:25</td>\n",
       "        <td style=\"padding-left: 1em; padding-right: 1em; text-align: center; vertical-align: top\">121.38</td>\n",
       "        <td style=\"padding-left: 1em; padding-right: 1em; text-align: center; vertical-align: top\">31.24</td>\n",
       "        <td style=\"padding-left: 1em; padding-right: 1em; text-align: center; vertical-align: top\">None</td>\n",
       "    </tr>\n",
       "    <tr>\n",
       "        <td style=\"padding-left: 1em; padding-right: 1em; text-align: center; vertical-align: top\">2</td>\n",
       "        <td style=\"padding-left: 1em; padding-right: 1em; text-align: center; vertical-align: top\">-6401643145415154744</td>\n",
       "        <td style=\"padding-left: 1em; padding-right: 1em; text-align: center; vertical-align: top\">2016-05-01 00:54:12</td>\n",
       "        <td style=\"padding-left: 1em; padding-right: 1em; text-align: center; vertical-align: top\">103.65</td>\n",
       "        <td style=\"padding-left: 1em; padding-right: 1em; text-align: center; vertical-align: top\">30.97</td>\n",
       "        <td style=\"padding-left: 1em; padding-right: 1em; text-align: center; vertical-align: top\">549 710 548 704 172 405<br>730 747 749 776 782 785 ...</td>\n",
       "    </tr>\n",
       "    <tr>\n",
       "        <td style=\"padding-left: 1em; padding-right: 1em; text-align: center; vertical-align: top\">3</td>\n",
       "        <td style=\"padding-left: 1em; padding-right: 1em; text-align: center; vertical-align: top\">-4833982096941402721</td>\n",
       "        <td style=\"padding-left: 1em; padding-right: 1em; text-align: center; vertical-align: top\">2016-05-01 00:08:05</td>\n",
       "        <td style=\"padding-left: 1em; padding-right: 1em; text-align: center; vertical-align: top\">106.6</td>\n",
       "        <td style=\"padding-left: 1em; padding-right: 1em; text-align: center; vertical-align: top\">29.7</td>\n",
       "        <td style=\"padding-left: 1em; padding-right: 1em; text-align: center; vertical-align: top\">None</td>\n",
       "    </tr>\n",
       "</table>\n",
       "<table frame=\"box\" rules=\"cols\">\n",
       "    <tr>\n",
       "        <th style=\"padding-left: 1em; padding-right: 1em; text-align: center\">active_app_id</th>\n",
       "        <th style=\"padding-left: 1em; padding-right: 1em; text-align: center\">active_tfidf</th>\n",
       "        <th style=\"padding-left: 1em; padding-right: 1em; text-align: center\">installed_label</th>\n",
       "        <th style=\"padding-left: 1em; padding-right: 1em; text-align: center\">installed_app_id</th>\n",
       "    </tr>\n",
       "    <tr>\n",
       "        <td style=\"padding-left: 1em; padding-right: 1em; text-align: center; vertical-align: top\">None</td>\n",
       "        <td style=\"padding-left: 1em; padding-right: 1em; text-align: center; vertical-align: top\">None</td>\n",
       "        <td style=\"padding-left: 1em; padding-right: 1em; text-align: center; vertical-align: top\">None</td>\n",
       "        <td style=\"padding-left: 1em; padding-right: 1em; text-align: center; vertical-align: top\">None</td>\n",
       "    </tr>\n",
       "    <tr>\n",
       "        <td style=\"padding-left: 1em; padding-right: 1em; text-align: center; vertical-align: top\">[5927333115845830913,<br>-653184325010919369, ...</td>\n",
       "        <td style=\"padding-left: 1em; padding-right: 1em; text-align: center; vertical-align: top\">{'747':<br>4.9236469360864525, ...</td>\n",
       "        <td style=\"padding-left: 1em; padding-right: 1em; text-align: center; vertical-align: top\">721 548 302 303 704 251<br>263 405 730 756 757 775 ...</td>\n",
       "        <td style=\"padding-left: 1em; padding-right: 1em; text-align: center; vertical-align: top\">[-5720078949152207372,<br>-1633887856876571208, ...</td>\n",
       "    </tr>\n",
       "    <tr>\n",
       "        <td style=\"padding-left: 1em; padding-right: 1em; text-align: center; vertical-align: top\">None</td>\n",
       "        <td style=\"padding-left: 1em; padding-right: 1em; text-align: center; vertical-align: top\">None</td>\n",
       "        <td style=\"padding-left: 1em; padding-right: 1em; text-align: center; vertical-align: top\">None</td>\n",
       "        <td style=\"padding-left: 1em; padding-right: 1em; text-align: center; vertical-align: top\">None</td>\n",
       "    </tr>\n",
       "</table>\n",
       "<table frame=\"box\" rules=\"cols\">\n",
       "    <tr>\n",
       "        <th style=\"padding-left: 1em; padding-right: 1em; text-align: center\">install_tfidf</th>\n",
       "        <th style=\"padding-left: 1em; padding-right: 1em; text-align: center\">weekday</th>\n",
       "        <th style=\"padding-left: 1em; padding-right: 1em; text-align: center\">period</th>\n",
       "        <th style=\"padding-left: 1em; padding-right: 1em; text-align: center\">phone_brand</th>\n",
       "        <th style=\"padding-left: 1em; padding-right: 1em; text-align: center\">device_model</th>\n",
       "    </tr>\n",
       "    <tr>\n",
       "        <td style=\"padding-left: 1em; padding-right: 1em; text-align: center; vertical-align: top\">None</td>\n",
       "        <td style=\"padding-left: 1em; padding-right: 1em; text-align: center; vertical-align: top\">Sunday</td>\n",
       "        <td style=\"padding-left: 1em; padding-right: 1em; text-align: center; vertical-align: top\">midnight</td>\n",
       "        <td style=\"padding-left: 1em; padding-right: 1em; text-align: center; vertical-align: top\">小米</td>\n",
       "        <td style=\"padding-left: 1em; padding-right: 1em; text-align: center; vertical-align: top\">红米note</td>\n",
       "    </tr>\n",
       "    <tr>\n",
       "        <td style=\"padding-left: 1em; padding-right: 1em; text-align: center; vertical-align: top\">{'704':<br>0.08500655644858628, ...</td>\n",
       "        <td style=\"padding-left: 1em; padding-right: 1em; text-align: center; vertical-align: top\">Sunday</td>\n",
       "        <td style=\"padding-left: 1em; padding-right: 1em; text-align: center; vertical-align: top\">midnight</td>\n",
       "        <td style=\"padding-left: 1em; padding-right: 1em; text-align: center; vertical-align: top\">三星</td>\n",
       "        <td style=\"padding-left: 1em; padding-right: 1em; text-align: center; vertical-align: top\">Galaxy Grand Prime</td>\n",
       "    </tr>\n",
       "    <tr>\n",
       "        <td style=\"padding-left: 1em; padding-right: 1em; text-align: center; vertical-align: top\">None</td>\n",
       "        <td style=\"padding-left: 1em; padding-right: 1em; text-align: center; vertical-align: top\">Sunday</td>\n",
       "        <td style=\"padding-left: 1em; padding-right: 1em; text-align: center; vertical-align: top\">midnight</td>\n",
       "        <td style=\"padding-left: 1em; padding-right: 1em; text-align: center; vertical-align: top\">魅族</td>\n",
       "        <td style=\"padding-left: 1em; padding-right: 1em; text-align: center; vertical-align: top\">MX4 Pro</td>\n",
       "    </tr>\n",
       "</table>\n",
       "[3 rows x 15 columns]<br/>\n",
       "</div>"
      ],
      "text/plain": [
       "Columns:\n",
       "\tevent_id\tint\n",
       "\tdevice_id\tstr\n",
       "\ttimestamp\tdatetime\n",
       "\tlongitude\tfloat\n",
       "\tlatitude\tfloat\n",
       "\tactive_label\tstr\n",
       "\tactive_app_id\tlist\n",
       "\tactive_tfidf\tdict\n",
       "\tinstalled_label\tstr\n",
       "\tinstalled_app_id\tlist\n",
       "\tinstall_tfidf\tdict\n",
       "\tweekday\tstr\n",
       "\tperiod\tstr\n",
       "\tphone_brand\tstr\n",
       "\tdevice_model\tstr\n",
       "\n",
       "Rows: 3\n",
       "\n",
       "Data:\n",
       "+----------+----------------------+---------------------+-----------+----------+\n",
       "| event_id |      device_id       |      timestamp      | longitude | latitude |\n",
       "+----------+----------------------+---------------------+-----------+----------+\n",
       "|    1     |  29182687948017175   | 2016-05-01 00:55:25 |   121.38  |  31.24   |\n",
       "|    2     | -6401643145415154744 | 2016-05-01 00:54:12 |   103.65  |  30.97   |\n",
       "|    3     | -4833982096941402721 | 2016-05-01 00:08:05 |   106.6   |   29.7   |\n",
       "+----------+----------------------+---------------------+-----------+----------+\n",
       "+-------------------------------+-------------------------------+\n",
       "|          active_label         |         active_app_id         |\n",
       "+-------------------------------+-------------------------------+\n",
       "|              None             |              None             |\n",
       "| 549 710 548 704 172 405 73... | [5927333115845830913, -653... |\n",
       "|              None             |              None             |\n",
       "+-------------------------------+-------------------------------+\n",
       "+-------------------------------+-------------------------------+\n",
       "|          active_tfidf         |        installed_label        |\n",
       "+-------------------------------+-------------------------------+\n",
       "|              None             |              None             |\n",
       "| {'747': 4.9236469360864525... | 721 548 302 303 704 251 26... |\n",
       "|              None             |              None             |\n",
       "+-------------------------------+-------------------------------+\n",
       "+-------------------------------+-------------------------------+---------+\n",
       "|        installed_app_id       |         install_tfidf         | weekday |\n",
       "+-------------------------------+-------------------------------+---------+\n",
       "|              None             |              None             |  Sunday |\n",
       "| [-5720078949152207372, -16... | {'704': 0.0850065564485862... |  Sunday |\n",
       "|              None             |              None             |  Sunday |\n",
       "+-------------------------------+-------------------------------+---------+\n",
       "+----------+-------------+--------------------+\n",
       "|  period  | phone_brand |    device_model    |\n",
       "+----------+-------------+--------------------+\n",
       "| midnight |     小米    |      红米note      |\n",
       "| midnight |     三星    | Galaxy Grand Prime |\n",
       "| midnight |     魅族    |      MX4 Pro       |\n",
       "+----------+-------------+--------------------+\n",
       "[3 rows x 15 columns]"
      ]
     },
     "execution_count": 19,
     "metadata": {},
     "output_type": "execute_result"
    }
   ],
   "source": [
    "events.head(3)"
   ]
  },
  {
   "cell_type": "code",
   "execution_count": 20,
   "metadata": {
    "collapsed": false
   },
   "outputs": [
    {
     "data": {
      "text/html": [
       "<div style=\"max-height:1000px;max-width:1500px;overflow:auto;\"><table frame=\"box\" rules=\"cols\">\n",
       "    <tr>\n",
       "        <th style=\"padding-left: 1em; padding-right: 1em; text-align: center\">device_id</th>\n",
       "        <th style=\"padding-left: 1em; padding-right: 1em; text-align: center\">gender</th>\n",
       "        <th style=\"padding-left: 1em; padding-right: 1em; text-align: center\">age</th>\n",
       "        <th style=\"padding-left: 1em; padding-right: 1em; text-align: center\">group</th>\n",
       "        <th style=\"padding-left: 1em; padding-right: 1em; text-align: center\">event_id</th>\n",
       "        <th style=\"padding-left: 1em; padding-right: 1em; text-align: center\">timestamp</th>\n",
       "        <th style=\"padding-left: 1em; padding-right: 1em; text-align: center\">longitude</th>\n",
       "        <th style=\"padding-left: 1em; padding-right: 1em; text-align: center\">latitude</th>\n",
       "        <th style=\"padding-left: 1em; padding-right: 1em; text-align: center\">active_label</th>\n",
       "    </tr>\n",
       "    <tr>\n",
       "        <td style=\"padding-left: 1em; padding-right: 1em; text-align: center; vertical-align: top\">-8195816569128397698</td>\n",
       "        <td style=\"padding-left: 1em; padding-right: 1em; text-align: center; vertical-align: top\">M</td>\n",
       "        <td style=\"padding-left: 1em; padding-right: 1em; text-align: center; vertical-align: top\">39</td>\n",
       "        <td style=\"padding-left: 1em; padding-right: 1em; text-align: center; vertical-align: top\">M39+</td>\n",
       "        <td style=\"padding-left: 1em; padding-right: 1em; text-align: center; vertical-align: top\">10</td>\n",
       "        <td style=\"padding-left: 1em; padding-right: 1em; text-align: center; vertical-align: top\">2016-05-01 00:41:31</td>\n",
       "        <td style=\"padding-left: 1em; padding-right: 1em; text-align: center; vertical-align: top\">119.34</td>\n",
       "        <td style=\"padding-left: 1em; padding-right: 1em; text-align: center; vertical-align: top\">26.04</td>\n",
       "        <td style=\"padding-left: 1em; padding-right: 1em; text-align: center; vertical-align: top\">None</td>\n",
       "    </tr>\n",
       "    <tr>\n",
       "        <td style=\"padding-left: 1em; padding-right: 1em; text-align: center; vertical-align: top\">6130108008013735751</td>\n",
       "        <td style=\"padding-left: 1em; padding-right: 1em; text-align: center; vertical-align: top\">F</td>\n",
       "        <td style=\"padding-left: 1em; padding-right: 1em; text-align: center; vertical-align: top\">45</td>\n",
       "        <td style=\"padding-left: 1em; padding-right: 1em; text-align: center; vertical-align: top\">F43+</td>\n",
       "        <td style=\"padding-left: 1em; padding-right: 1em; text-align: center; vertical-align: top\">20</td>\n",
       "        <td style=\"padding-left: 1em; padding-right: 1em; text-align: center; vertical-align: top\">2016-05-01 00:17:33</td>\n",
       "        <td style=\"padding-left: 1em; padding-right: 1em; text-align: center; vertical-align: top\">129.51</td>\n",
       "        <td style=\"padding-left: 1em; padding-right: 1em; text-align: center; vertical-align: top\">42.91</td>\n",
       "        <td style=\"padding-left: 1em; padding-right: 1em; text-align: center; vertical-align: top\">None</td>\n",
       "    </tr>\n",
       "    <tr>\n",
       "        <td style=\"padding-left: 1em; padding-right: 1em; text-align: center; vertical-align: top\">-1663840927569383079</td>\n",
       "        <td style=\"padding-left: 1em; padding-right: 1em; text-align: center; vertical-align: top\">F</td>\n",
       "        <td style=\"padding-left: 1em; padding-right: 1em; text-align: center; vertical-align: top\">19</td>\n",
       "        <td style=\"padding-left: 1em; padding-right: 1em; text-align: center; vertical-align: top\">F23-</td>\n",
       "        <td style=\"padding-left: 1em; padding-right: 1em; text-align: center; vertical-align: top\">22</td>\n",
       "        <td style=\"padding-left: 1em; padding-right: 1em; text-align: center; vertical-align: top\">2016-05-01 00:43:15</td>\n",
       "        <td style=\"padding-left: 1em; padding-right: 1em; text-align: center; vertical-align: top\">116.45</td>\n",
       "        <td style=\"padding-left: 1em; padding-right: 1em; text-align: center; vertical-align: top\">33.93</td>\n",
       "        <td style=\"padding-left: 1em; padding-right: 1em; text-align: center; vertical-align: top\">None</td>\n",
       "    </tr>\n",
       "</table>\n",
       "<table frame=\"box\" rules=\"cols\">\n",
       "    <tr>\n",
       "        <th style=\"padding-left: 1em; padding-right: 1em; text-align: center\">active_app_id</th>\n",
       "        <th style=\"padding-left: 1em; padding-right: 1em; text-align: center\">active_tfidf</th>\n",
       "        <th style=\"padding-left: 1em; padding-right: 1em; text-align: center\">installed_label</th>\n",
       "        <th style=\"padding-left: 1em; padding-right: 1em; text-align: center\">installed_app_id</th>\n",
       "        <th style=\"padding-left: 1em; padding-right: 1em; text-align: center\">install_tfidf</th>\n",
       "        <th style=\"padding-left: 1em; padding-right: 1em; text-align: center\">weekday</th>\n",
       "        <th style=\"padding-left: 1em; padding-right: 1em; text-align: center\">period</th>\n",
       "        <th style=\"padding-left: 1em; padding-right: 1em; text-align: center\">phone_brand</th>\n",
       "    </tr>\n",
       "    <tr>\n",
       "        <td style=\"padding-left: 1em; padding-right: 1em; text-align: center; vertical-align: top\">None</td>\n",
       "        <td style=\"padding-left: 1em; padding-right: 1em; text-align: center; vertical-align: top\">None</td>\n",
       "        <td style=\"padding-left: 1em; padding-right: 1em; text-align: center; vertical-align: top\">None</td>\n",
       "        <td style=\"padding-left: 1em; padding-right: 1em; text-align: center; vertical-align: top\">None</td>\n",
       "        <td style=\"padding-left: 1em; padding-right: 1em; text-align: center; vertical-align: top\">None</td>\n",
       "        <td style=\"padding-left: 1em; padding-right: 1em; text-align: center; vertical-align: top\">Sunday</td>\n",
       "        <td style=\"padding-left: 1em; padding-right: 1em; text-align: center; vertical-align: top\">midnight</td>\n",
       "        <td style=\"padding-left: 1em; padding-right: 1em; text-align: center; vertical-align: top\">锤子</td>\n",
       "    </tr>\n",
       "    <tr>\n",
       "        <td style=\"padding-left: 1em; padding-right: 1em; text-align: center; vertical-align: top\">None</td>\n",
       "        <td style=\"padding-left: 1em; padding-right: 1em; text-align: center; vertical-align: top\">None</td>\n",
       "        <td style=\"padding-left: 1em; padding-right: 1em; text-align: center; vertical-align: top\">None</td>\n",
       "        <td style=\"padding-left: 1em; padding-right: 1em; text-align: center; vertical-align: top\">None</td>\n",
       "        <td style=\"padding-left: 1em; padding-right: 1em; text-align: center; vertical-align: top\">None</td>\n",
       "        <td style=\"padding-left: 1em; padding-right: 1em; text-align: center; vertical-align: top\">Sunday</td>\n",
       "        <td style=\"padding-left: 1em; padding-right: 1em; text-align: center; vertical-align: top\">midnight</td>\n",
       "        <td style=\"padding-left: 1em; padding-right: 1em; text-align: center; vertical-align: top\">酷派</td>\n",
       "    </tr>\n",
       "    <tr>\n",
       "        <td style=\"padding-left: 1em; padding-right: 1em; text-align: center; vertical-align: top\">None</td>\n",
       "        <td style=\"padding-left: 1em; padding-right: 1em; text-align: center; vertical-align: top\">None</td>\n",
       "        <td style=\"padding-left: 1em; padding-right: 1em; text-align: center; vertical-align: top\">None</td>\n",
       "        <td style=\"padding-left: 1em; padding-right: 1em; text-align: center; vertical-align: top\">None</td>\n",
       "        <td style=\"padding-left: 1em; padding-right: 1em; text-align: center; vertical-align: top\">None</td>\n",
       "        <td style=\"padding-left: 1em; padding-right: 1em; text-align: center; vertical-align: top\">Sunday</td>\n",
       "        <td style=\"padding-left: 1em; padding-right: 1em; text-align: center; vertical-align: top\">midnight</td>\n",
       "        <td style=\"padding-left: 1em; padding-right: 1em; text-align: center; vertical-align: top\">vivo</td>\n",
       "    </tr>\n",
       "</table>\n",
       "<table frame=\"box\" rules=\"cols\">\n",
       "    <tr>\n",
       "        <th style=\"padding-left: 1em; padding-right: 1em; text-align: center\">device_model</th>\n",
       "    </tr>\n",
       "    <tr>\n",
       "        <td style=\"padding-left: 1em; padding-right: 1em; text-align: center; vertical-align: top\">坚果手机</td>\n",
       "    </tr>\n",
       "    <tr>\n",
       "        <td style=\"padding-left: 1em; padding-right: 1em; text-align: center; vertical-align: top\">大神F1</td>\n",
       "    </tr>\n",
       "    <tr>\n",
       "        <td style=\"padding-left: 1em; padding-right: 1em; text-align: center; vertical-align: top\">X5Max+</td>\n",
       "    </tr>\n",
       "</table>\n",
       "[3 rows x 18 columns]<br/>\n",
       "</div>"
      ],
      "text/plain": [
       "Columns:\n",
       "\tdevice_id\tstr\n",
       "\tgender\tstr\n",
       "\tage\tint\n",
       "\tgroup\tstr\n",
       "\tevent_id\tint\n",
       "\ttimestamp\tdatetime\n",
       "\tlongitude\tfloat\n",
       "\tlatitude\tfloat\n",
       "\tactive_label\tstr\n",
       "\tactive_app_id\tlist\n",
       "\tactive_tfidf\tdict\n",
       "\tinstalled_label\tstr\n",
       "\tinstalled_app_id\tlist\n",
       "\tinstall_tfidf\tdict\n",
       "\tweekday\tstr\n",
       "\tperiod\tstr\n",
       "\tphone_brand\tstr\n",
       "\tdevice_model\tstr\n",
       "\n",
       "Rows: 3\n",
       "\n",
       "Data:\n",
       "+----------------------+--------+-----+-------+----------+---------------------+\n",
       "|      device_id       | gender | age | group | event_id |      timestamp      |\n",
       "+----------------------+--------+-----+-------+----------+---------------------+\n",
       "| -8195816569128397698 |   M    |  39 |  M39+ |    10    | 2016-05-01 00:41:31 |\n",
       "| 6130108008013735751  |   F    |  45 |  F43+ |    20    | 2016-05-01 00:17:33 |\n",
       "| -1663840927569383079 |   F    |  19 |  F23- |    22    | 2016-05-01 00:43:15 |\n",
       "+----------------------+--------+-----+-------+----------+---------------------+\n",
       "+-----------+----------+--------------+---------------+--------------+-----------------+\n",
       "| longitude | latitude | active_label | active_app_id | active_tfidf | installed_label |\n",
       "+-----------+----------+--------------+---------------+--------------+-----------------+\n",
       "|   119.34  |  26.04   |     None     |      None     |     None     |       None      |\n",
       "|   129.51  |  42.91   |     None     |      None     |     None     |       None      |\n",
       "|   116.45  |  33.93   |     None     |      None     |     None     |       None      |\n",
       "+-----------+----------+--------------+---------------+--------------+-----------------+\n",
       "+------------------+---------------+---------+----------+-------------+\n",
       "| installed_app_id | install_tfidf | weekday |  period  | phone_brand |\n",
       "+------------------+---------------+---------+----------+-------------+\n",
       "|       None       |      None     |  Sunday | midnight |     锤子    |\n",
       "|       None       |      None     |  Sunday | midnight |     酷派    |\n",
       "|       None       |      None     |  Sunday | midnight |     vivo    |\n",
       "+------------------+---------------+---------+----------+-------------+\n",
       "+--------------+\n",
       "| device_model |\n",
       "+--------------+\n",
       "|   坚果手机   |\n",
       "|    大神F1    |\n",
       "|    X5Max+    |\n",
       "+--------------+\n",
       "[3 rows x 18 columns]"
      ]
     },
     "execution_count": 20,
     "metadata": {},
     "output_type": "execute_result"
    }
   ],
   "source": [
    "# merging events into training and testing dataset\n",
    "ga_train = ga_train.join(events, on='device_id', how='inner')\n",
    "ga_train.head(3)"
   ]
  },
  {
   "cell_type": "code",
   "execution_count": 21,
   "metadata": {
    "collapsed": false
   },
   "outputs": [],
   "source": [
    "ga_test = ga_test.join(events, on='device_id', how='inner')"
   ]
  },
  {
   "cell_type": "markdown",
   "metadata": {},
   "source": [
    "## Applying Gradient boosting decision trees"
   ]
  },
  {
   "cell_type": "code",
   "execution_count": 22,
   "metadata": {
    "collapsed": true
   },
   "outputs": [],
   "source": [
    "# Creating validation set\n",
    "import time\n",
    "ga_train_id = gl.SFrame({'device_id':ga_train['device_id'].unique()})\n",
    "ga_train_id = gl.cross_validation.shuffle(ga_train_id, random_seed=5)\n",
    "folds = gl.cross_validation.KFold(ga_train_id, num_folds=5)"
   ]
  },
  {
   "cell_type": "code",
   "execution_count": 23,
   "metadata": {
    "collapsed": false
   },
   "outputs": [],
   "source": [
    "fold_train, fold_val = folds[0]\n",
    "fold_train = fold_train.join(ga_train, on='device_id')\n",
    "fold_val = fold_val.join(ga_train, on='device_id')"
   ]
  },
  {
   "cell_type": "code",
   "execution_count": 24,
   "metadata": {
    "collapsed": false
   },
   "outputs": [],
   "source": [
    "# make sure no device_id overlapping between train and validation set\n",
    "assert set(fold_val['device_id'].unique()) & set(fold_train['device_id'].unique()) == set()"
   ]
  },
  {
   "cell_type": "markdown",
   "metadata": {},
   "source": [
    "### 1) app features"
   ]
  },
  {
   "cell_type": "code",
   "execution_count": 25,
   "metadata": {
    "collapsed": false
   },
   "outputs": [
    {
     "data": {
      "text/html": [
       "<pre>Boosted trees classifier:</pre>"
      ],
      "text/plain": [
       "Boosted trees classifier:"
      ]
     },
     "metadata": {},
     "output_type": "display_data"
    },
    {
     "data": {
      "text/html": [
       "<pre>--------------------------------------------------------</pre>"
      ],
      "text/plain": [
       "--------------------------------------------------------"
      ]
     },
     "metadata": {},
     "output_type": "display_data"
    },
    {
     "data": {
      "text/html": [
       "<pre>Number of examples          : 770048</pre>"
      ],
      "text/plain": [
       "Number of examples          : 770048"
      ]
     },
     "metadata": {},
     "output_type": "display_data"
    },
    {
     "data": {
      "text/html": [
       "<pre>Number of classes           : 12</pre>"
      ],
      "text/plain": [
       "Number of classes           : 12"
      ]
     },
     "metadata": {},
     "output_type": "display_data"
    },
    {
     "data": {
      "text/html": [
       "<pre>Number of feature columns   : 1</pre>"
      ],
      "text/plain": [
       "Number of feature columns   : 1"
      ]
     },
     "metadata": {},
     "output_type": "display_data"
    },
    {
     "data": {
      "text/html": [
       "<pre>Number of unpacked features : 444</pre>"
      ],
      "text/plain": [
       "Number of unpacked features : 444"
      ]
     },
     "metadata": {},
     "output_type": "display_data"
    },
    {
     "data": {
      "text/html": [
       "<pre>+-----------+--------------+-------------------+-------------------+---------------------+---------------------+</pre>"
      ],
      "text/plain": [
       "+-----------+--------------+-------------------+-------------------+---------------------+---------------------+"
      ]
     },
     "metadata": {},
     "output_type": "display_data"
    },
    {
     "data": {
      "text/html": [
       "<pre>| Iteration | Elapsed Time | Training-accuracy | Training-log_loss | Validation-accuracy | Validation-log_loss |</pre>"
      ],
      "text/plain": [
       "| Iteration | Elapsed Time | Training-accuracy | Training-log_loss | Validation-accuracy | Validation-log_loss |"
      ]
     },
     "metadata": {},
     "output_type": "display_data"
    },
    {
     "data": {
      "text/html": [
       "<pre>+-----------+--------------+-------------------+-------------------+---------------------+---------------------+</pre>"
      ],
      "text/plain": [
       "+-----------+--------------+-------------------+-------------------+---------------------+---------------------+"
      ]
     },
     "metadata": {},
     "output_type": "display_data"
    },
    {
     "data": {
      "text/html": [
       "<pre>| 1         | 2.708305     | 0.184509          | 2.411094          | 0.192470            | 2.422492            |</pre>"
      ],
      "text/plain": [
       "| 1         | 2.708305     | 0.184509          | 2.411094          | 0.192470            | 2.422492            |"
      ]
     },
     "metadata": {},
     "output_type": "display_data"
    },
    {
     "data": {
      "text/html": [
       "<pre>| 2         | 5.357069     | 0.193731          | 2.366133          | 0.195823            | 2.382555            |</pre>"
      ],
      "text/plain": [
       "| 2         | 5.357069     | 0.193731          | 2.366133          | 0.195823            | 2.382555            |"
      ]
     },
     "metadata": {},
     "output_type": "display_data"
    },
    {
     "data": {
      "text/html": [
       "<pre>| 3         | 8.036802     | 0.198919          | 2.333642          | 0.195316            | 2.355856            |</pre>"
      ],
      "text/plain": [
       "| 3         | 8.036802     | 0.198919          | 2.333642          | 0.195316            | 2.355856            |"
      ]
     },
     "metadata": {},
     "output_type": "display_data"
    },
    {
     "data": {
      "text/html": [
       "<pre>| 4         | 10.764099    | 0.204473          | 2.308290          | 0.194606            | 2.336567            |</pre>"
      ],
      "text/plain": [
       "| 4         | 10.764099    | 0.204473          | 2.308290          | 0.194606            | 2.336567            |"
      ]
     },
     "metadata": {},
     "output_type": "display_data"
    },
    {
     "data": {
      "text/html": [
       "<pre>| 5         | 13.504155    | 0.208674          | 2.288446          | 0.194991            | 2.322294            |</pre>"
      ],
      "text/plain": [
       "| 5         | 13.504155    | 0.208674          | 2.288446          | 0.194991            | 2.322294            |"
      ]
     },
     "metadata": {},
     "output_type": "display_data"
    },
    {
     "data": {
      "text/html": [
       "<pre>| 6         | 16.218227    | 0.211545          | 2.273612          | 0.197527            | 2.312370            |</pre>"
      ],
      "text/plain": [
       "| 6         | 16.218227    | 0.211545          | 2.273612          | 0.197527            | 2.312370            |"
      ]
     },
     "metadata": {},
     "output_type": "display_data"
    },
    {
     "data": {
      "text/html": [
       "<pre>| 7         | 19.240882    | 0.214166          | 2.260998          | 0.198522            | 2.303967            |</pre>"
      ],
      "text/plain": [
       "| 7         | 19.240882    | 0.214166          | 2.260998          | 0.198522            | 2.303967            |"
      ]
     },
     "metadata": {},
     "output_type": "display_data"
    },
    {
     "data": {
      "text/html": [
       "<pre>| 8         | 22.572032    | 0.216803          | 2.250124          | 0.197852            | 2.298062            |</pre>"
      ],
      "text/plain": [
       "| 8         | 22.572032    | 0.216803          | 2.250124          | 0.197852            | 2.298062            |"
      ]
     },
     "metadata": {},
     "output_type": "display_data"
    },
    {
     "data": {
      "text/html": [
       "<pre>| 9         | 26.359905    | 0.217788          | 2.241973          | 0.198390            | 2.293199            |</pre>"
      ],
      "text/plain": [
       "| 9         | 26.359905    | 0.217788          | 2.241973          | 0.198390            | 2.293199            |"
      ]
     },
     "metadata": {},
     "output_type": "display_data"
    },
    {
     "data": {
      "text/html": [
       "<pre>| 10        | 30.512855    | 0.220021          | 2.234502          | 0.198709            | 2.289337            |</pre>"
      ],
      "text/plain": [
       "| 10        | 30.512855    | 0.220021          | 2.234502          | 0.198709            | 2.289337            |"
      ]
     },
     "metadata": {},
     "output_type": "display_data"
    },
    {
     "data": {
      "text/html": [
       "<pre>| 11        | 34.472554    | 0.221882          | 2.227178          | 0.199486            | 2.286258            |</pre>"
      ],
      "text/plain": [
       "| 11        | 34.472554    | 0.221882          | 2.227178          | 0.199486            | 2.286258            |"
      ]
     },
     "metadata": {},
     "output_type": "display_data"
    },
    {
     "data": {
      "text/html": [
       "<pre>| 12        | 38.211727    | 0.223419          | 2.221271          | 0.199770            | 2.283651            |</pre>"
      ],
      "text/plain": [
       "| 12        | 38.211727    | 0.223419          | 2.221271          | 0.199770            | 2.283651            |"
      ]
     },
     "metadata": {},
     "output_type": "display_data"
    },
    {
     "data": {
      "text/html": [
       "<pre>| 13        | 42.160777    | 0.225040          | 2.215739          | 0.199968            | 2.281667            |</pre>"
      ],
      "text/plain": [
       "| 13        | 42.160777    | 0.225040          | 2.215739          | 0.199968            | 2.281667            |"
      ]
     },
     "metadata": {},
     "output_type": "display_data"
    },
    {
     "data": {
      "text/html": [
       "<pre>| 14        | 45.984794    | 0.226495          | 2.211177          | 0.199541            | 2.280744            |</pre>"
      ],
      "text/plain": [
       "| 14        | 45.984794    | 0.226495          | 2.211177          | 0.199541            | 2.280744            |"
      ]
     },
     "metadata": {},
     "output_type": "display_data"
    },
    {
     "data": {
      "text/html": [
       "<pre>| 15        | 49.727078    | 0.228151          | 2.206537          | 0.197908            | 2.279940            |</pre>"
      ],
      "text/plain": [
       "| 15        | 49.727078    | 0.228151          | 2.206537          | 0.197908            | 2.279940            |"
      ]
     },
     "metadata": {},
     "output_type": "display_data"
    },
    {
     "data": {
      "text/html": [
       "<pre>| 16        | 53.540396    | 0.229631          | 2.202040          | 0.198451            | 2.279209            |</pre>"
      ],
      "text/plain": [
       "| 16        | 53.540396    | 0.229631          | 2.202040          | 0.198451            | 2.279209            |"
      ]
     },
     "metadata": {},
     "output_type": "display_data"
    },
    {
     "data": {
      "text/html": [
       "<pre>| 17        | 57.498337    | 0.230918          | 2.198264          | 0.198994            | 2.278422            |</pre>"
      ],
      "text/plain": [
       "| 17        | 57.498337    | 0.230918          | 2.198264          | 0.198994            | 2.278422            |"
      ]
     },
     "metadata": {},
     "output_type": "display_data"
    },
    {
     "data": {
      "text/html": [
       "<pre>| 18        | 61.232785    | 0.232004          | 2.194335          | 0.199298            | 2.277565            |</pre>"
      ],
      "text/plain": [
       "| 18        | 61.232785    | 0.232004          | 2.194335          | 0.199298            | 2.277565            |"
      ]
     },
     "metadata": {},
     "output_type": "display_data"
    },
    {
     "data": {
      "text/html": [
       "<pre>| 19        | 65.021652    | 0.233145          | 2.190910          | 0.198750            | 2.277375            |</pre>"
      ],
      "text/plain": [
       "| 19        | 65.021652    | 0.233145          | 2.190910          | 0.198750            | 2.277375            |"
      ]
     },
     "metadata": {},
     "output_type": "display_data"
    },
    {
     "data": {
      "text/html": [
       "<pre>| 20        | 69.015872    | 0.234159          | 2.187477          | 0.198801            | 2.276010            |</pre>"
      ],
      "text/plain": [
       "| 20        | 69.015872    | 0.234159          | 2.187477          | 0.198801            | 2.276010            |"
      ]
     },
     "metadata": {},
     "output_type": "display_data"
    },
    {
     "data": {
      "text/html": [
       "<pre>| 21        | 72.833366    | 0.235293          | 2.184280          | 0.198126            | 2.275739            |</pre>"
      ],
      "text/plain": [
       "| 21        | 72.833366    | 0.235293          | 2.184280          | 0.198126            | 2.275739            |"
      ]
     },
     "metadata": {},
     "output_type": "display_data"
    },
    {
     "data": {
      "text/html": [
       "<pre>| 22        | 76.801994    | 0.236362          | 2.181221          | 0.198035            | 2.275765            |</pre>"
      ],
      "text/plain": [
       "| 22        | 76.801994    | 0.236362          | 2.181221          | 0.198035            | 2.275765            |"
      ]
     },
     "metadata": {},
     "output_type": "display_data"
    },
    {
     "data": {
      "text/html": [
       "<pre>| 23        | 80.677811    | 0.237614          | 2.178005          | 0.197812            | 2.275494            |</pre>"
      ],
      "text/plain": [
       "| 23        | 80.677811    | 0.237614          | 2.178005          | 0.197812            | 2.275494            |"
      ]
     },
     "metadata": {},
     "output_type": "display_data"
    },
    {
     "data": {
      "text/html": [
       "<pre>| 24        | 84.606441    | 0.238667          | 2.175113          | 0.197685            | 2.275531            |</pre>"
      ],
      "text/plain": [
       "| 24        | 84.606441    | 0.238667          | 2.175113          | 0.197685            | 2.275531            |"
      ]
     },
     "metadata": {},
     "output_type": "display_data"
    },
    {
     "data": {
      "text/html": [
       "<pre>| 25        | 88.362348    | 0.239467          | 2.172771          | 0.197837            | 2.275185            |</pre>"
      ],
      "text/plain": [
       "| 25        | 88.362348    | 0.239467          | 2.172771          | 0.197837            | 2.275185            |"
      ]
     },
     "metadata": {},
     "output_type": "display_data"
    },
    {
     "data": {
      "text/html": [
       "<pre>| 26        | 92.050525    | 0.240162          | 2.170161          | 0.198826            | 2.275383            |</pre>"
      ],
      "text/plain": [
       "| 26        | 92.050525    | 0.240162          | 2.170161          | 0.198826            | 2.275383            |"
      ]
     },
     "metadata": {},
     "output_type": "display_data"
    },
    {
     "data": {
      "text/html": [
       "<pre>| 27        | 95.888986    | 0.241493          | 2.167447          | 0.198466            | 2.275658            |</pre>"
      ],
      "text/plain": [
       "| 27        | 95.888986    | 0.241493          | 2.167447          | 0.198466            | 2.275658            |"
      ]
     },
     "metadata": {},
     "output_type": "display_data"
    },
    {
     "data": {
      "text/html": [
       "<pre>| 28        | 99.794888    | 0.242398          | 2.164950          | 0.198567            | 2.275417            |</pre>"
      ],
      "text/plain": [
       "| 28        | 99.794888    | 0.242398          | 2.164950          | 0.198567            | 2.275417            |"
      ]
     },
     "metadata": {},
     "output_type": "display_data"
    },
    {
     "data": {
      "text/html": [
       "<pre>| 29        | 103.729867   | 0.243054          | 2.162535          | 0.195904            | 2.275206            |</pre>"
      ],
      "text/plain": [
       "| 29        | 103.729867   | 0.243054          | 2.162535          | 0.195904            | 2.275206            |"
      ]
     },
     "metadata": {},
     "output_type": "display_data"
    },
    {
     "data": {
      "text/html": [
       "<pre>| 30        | 107.587850   | 0.243489          | 2.160919          | 0.197081            | 2.275026            |</pre>"
      ],
      "text/plain": [
       "| 30        | 107.587850   | 0.243489          | 2.160919          | 0.197081            | 2.275026            |"
      ]
     },
     "metadata": {},
     "output_type": "display_data"
    },
    {
     "data": {
      "text/html": [
       "<pre>| 31        | 111.365124   | 0.244174          | 2.158880          | 0.196701            | 2.274928            |</pre>"
      ],
      "text/plain": [
       "| 31        | 111.365124   | 0.244174          | 2.158880          | 0.196701            | 2.274928            |"
      ]
     },
     "metadata": {},
     "output_type": "display_data"
    },
    {
     "data": {
      "text/html": [
       "<pre>| 32        | 115.076829   | 0.244769          | 2.157061          | 0.196452            | 2.274941            |</pre>"
      ],
      "text/plain": [
       "| 32        | 115.076829   | 0.244769          | 2.157061          | 0.196452            | 2.274941            |"
      ]
     },
     "metadata": {},
     "output_type": "display_data"
    },
    {
     "data": {
      "text/html": [
       "<pre>| 33        | 118.940490   | 0.245533          | 2.154926          | 0.195950            | 2.274917            |</pre>"
      ],
      "text/plain": [
       "| 33        | 118.940490   | 0.245533          | 2.154926          | 0.195950            | 2.274917            |"
      ]
     },
     "metadata": {},
     "output_type": "display_data"
    },
    {
     "data": {
      "text/html": [
       "<pre>| 34        | 122.855795   | 0.246222          | 2.152728          | 0.195975            | 2.275041            |</pre>"
      ],
      "text/plain": [
       "| 34        | 122.855795   | 0.246222          | 2.152728          | 0.195975            | 2.275041            |"
      ]
     },
     "metadata": {},
     "output_type": "display_data"
    },
    {
     "data": {
      "text/html": [
       "<pre>| 35        | 126.598082   | 0.246908          | 2.151038          | 0.196366            | 2.275021            |</pre>"
      ],
      "text/plain": [
       "| 35        | 126.598082   | 0.246908          | 2.151038          | 0.196366            | 2.275021            |"
      ]
     },
     "metadata": {},
     "output_type": "display_data"
    },
    {
     "data": {
      "text/html": [
       "<pre>| 36        | 130.265765   | 0.247547          | 2.148942          | 0.196609            | 2.275036            |</pre>"
      ],
      "text/plain": [
       "| 36        | 130.265765   | 0.247547          | 2.148942          | 0.196609            | 2.275036            |"
      ]
     },
     "metadata": {},
     "output_type": "display_data"
    },
    {
     "data": {
      "text/html": [
       "<pre>| 37        | 134.279927   | 0.248378          | 2.146983          | 0.196934            | 2.275303            |</pre>"
      ],
      "text/plain": [
       "| 37        | 134.279927   | 0.248378          | 2.146983          | 0.196934            | 2.275303            |"
      ]
     },
     "metadata": {},
     "output_type": "display_data"
    },
    {
     "data": {
      "text/html": [
       "<pre>| 38        | 138.105606   | 0.249100          | 2.145264          | 0.196432            | 2.276177            |</pre>"
      ],
      "text/plain": [
       "| 38        | 138.105606   | 0.249100          | 2.145264          | 0.196432            | 2.276177            |"
      ]
     },
     "metadata": {},
     "output_type": "display_data"
    },
    {
     "data": {
      "text/html": [
       "<pre>| 39        | 142.018227   | 0.249805          | 2.143642          | 0.196457            | 2.276403            |</pre>"
      ],
      "text/plain": [
       "| 39        | 142.018227   | 0.249805          | 2.143642          | 0.196457            | 2.276403            |"
      ]
     },
     "metadata": {},
     "output_type": "display_data"
    },
    {
     "data": {
      "text/html": [
       "<pre>| 40        | 145.713212   | 0.250908          | 2.141271          | 0.196640            | 2.276155            |</pre>"
      ],
      "text/plain": [
       "| 40        | 145.713212   | 0.250908          | 2.141271          | 0.196640            | 2.276155            |"
      ]
     },
     "metadata": {},
     "output_type": "display_data"
    },
    {
     "data": {
      "text/html": [
       "<pre>| 41        | 149.458971   | 0.251387          | 2.139907          | 0.196508            | 2.276559            |</pre>"
      ],
      "text/plain": [
       "| 41        | 149.458971   | 0.251387          | 2.139907          | 0.196508            | 2.276559            |"
      ]
     },
     "metadata": {},
     "output_type": "display_data"
    },
    {
     "data": {
      "text/html": [
       "<pre>| 42        | 153.160615   | 0.252030          | 2.138264          | 0.196533            | 2.276855            |</pre>"
      ],
      "text/plain": [
       "| 42        | 153.160615   | 0.252030          | 2.138264          | 0.196533            | 2.276855            |"
      ]
     },
     "metadata": {},
     "output_type": "display_data"
    },
    {
     "data": {
      "text/html": [
       "<pre>| 43        | 157.012483   | 0.252656          | 2.136453          | 0.196528            | 2.276857            |</pre>"
      ],
      "text/plain": [
       "| 43        | 157.012483   | 0.252656          | 2.136453          | 0.196528            | 2.276857            |"
      ]
     },
     "metadata": {},
     "output_type": "display_data"
    },
    {
     "data": {
      "text/html": [
       "<pre>| 44        | 160.952322   | 0.252975          | 2.134856          | 0.196127            | 2.276792            |</pre>"
      ],
      "text/plain": [
       "| 44        | 160.952322   | 0.252975          | 2.134856          | 0.196127            | 2.276792            |"
      ]
     },
     "metadata": {},
     "output_type": "display_data"
    },
    {
     "data": {
      "text/html": [
       "<pre>| 45        | 164.801493   | 0.253566          | 2.133458          | 0.196290            | 2.276528            |</pre>"
      ],
      "text/plain": [
       "| 45        | 164.801493   | 0.253566          | 2.133458          | 0.196290            | 2.276528            |"
      ]
     },
     "metadata": {},
     "output_type": "display_data"
    },
    {
     "data": {
      "text/html": [
       "<pre>| 46        | 168.541907   | 0.254021          | 2.131973          | 0.196188            | 2.276583            |</pre>"
      ],
      "text/plain": [
       "| 46        | 168.541907   | 0.254021          | 2.131973          | 0.196188            | 2.276583            |"
      ]
     },
     "metadata": {},
     "output_type": "display_data"
    },
    {
     "data": {
      "text/html": [
       "<pre>| 47        | 172.168482   | 0.254575          | 2.130550          | 0.195980            | 2.277107            |</pre>"
      ],
      "text/plain": [
       "| 47        | 172.168482   | 0.254575          | 2.130550          | 0.195980            | 2.277107            |"
      ]
     },
     "metadata": {},
     "output_type": "display_data"
    },
    {
     "data": {
      "text/html": [
       "<pre>| 48        | 175.921098   | 0.255030          | 2.129317          | 0.196056            | 2.277237            |</pre>"
      ],
      "text/plain": [
       "| 48        | 175.921098   | 0.255030          | 2.129317          | 0.196056            | 2.277237            |"
      ]
     },
     "metadata": {},
     "output_type": "display_data"
    },
    {
     "data": {
      "text/html": [
       "<pre>| 49        | 179.729829   | 0.255897          | 2.127505          | 0.196097            | 2.277062            |</pre>"
      ],
      "text/plain": [
       "| 49        | 179.729829   | 0.255897          | 2.127505          | 0.196097            | 2.277062            |"
      ]
     },
     "metadata": {},
     "output_type": "display_data"
    },
    {
     "data": {
      "text/html": [
       "<pre>| 50        | 183.489921   | 0.256414          | 2.125945          | 0.195229            | 2.277437            |</pre>"
      ],
      "text/plain": [
       "| 50        | 183.489921   | 0.256414          | 2.125945          | 0.195229            | 2.277437            |"
      ]
     },
     "metadata": {},
     "output_type": "display_data"
    },
    {
     "data": {
      "text/html": [
       "<pre>+-----------+--------------+-------------------+-------------------+---------------------+---------------------+</pre>"
      ],
      "text/plain": [
       "+-----------+--------------+-------------------+-------------------+---------------------+---------------------+"
      ]
     },
     "metadata": {},
     "output_type": "display_data"
    }
   ],
   "source": [
    "# feature selection trials\n",
    "target = \"group\"\n",
    "features = ['active_tfidf']\n",
    "model = gl.classifier.boosted_trees_classifier.create(fold_train,\n",
    "                                                      target=target, features=features,\n",
    "                                                      validation_set=fold_val, max_iterations = 50)"
   ]
  },
  {
   "cell_type": "code",
   "execution_count": 66,
   "metadata": {
    "collapsed": false
   },
   "outputs": [
    {
     "data": {
      "text/html": [
       "<pre>Boosted trees classifier:</pre>"
      ],
      "text/plain": [
       "Boosted trees classifier:"
      ]
     },
     "metadata": {},
     "output_type": "display_data"
    },
    {
     "data": {
      "text/html": [
       "<pre>--------------------------------------------------------</pre>"
      ],
      "text/plain": [
       "--------------------------------------------------------"
      ]
     },
     "metadata": {},
     "output_type": "display_data"
    },
    {
     "data": {
      "text/html": [
       "<pre>Number of examples          : 770373</pre>"
      ],
      "text/plain": [
       "Number of examples          : 770373"
      ]
     },
     "metadata": {},
     "output_type": "display_data"
    },
    {
     "data": {
      "text/html": [
       "<pre>Number of classes           : 12</pre>"
      ],
      "text/plain": [
       "Number of classes           : 12"
      ]
     },
     "metadata": {},
     "output_type": "display_data"
    },
    {
     "data": {
      "text/html": [
       "<pre>Number of feature columns   : 1</pre>"
      ],
      "text/plain": [
       "Number of feature columns   : 1"
      ]
     },
     "metadata": {},
     "output_type": "display_data"
    },
    {
     "data": {
      "text/html": [
       "<pre>Number of unpacked features : 481</pre>"
      ],
      "text/plain": [
       "Number of unpacked features : 481"
      ]
     },
     "metadata": {},
     "output_type": "display_data"
    },
    {
     "data": {
      "text/html": [
       "<pre>+-----------+--------------+-------------------+-------------------+---------------------+---------------------+</pre>"
      ],
      "text/plain": [
       "+-----------+--------------+-------------------+-------------------+---------------------+---------------------+"
      ]
     },
     "metadata": {},
     "output_type": "display_data"
    },
    {
     "data": {
      "text/html": [
       "<pre>| Iteration | Elapsed Time | Training-accuracy | Training-log_loss | Validation-accuracy | Validation-log_loss |</pre>"
      ],
      "text/plain": [
       "| Iteration | Elapsed Time | Training-accuracy | Training-log_loss | Validation-accuracy | Validation-log_loss |"
      ]
     },
     "metadata": {},
     "output_type": "display_data"
    },
    {
     "data": {
      "text/html": [
       "<pre>+-----------+--------------+-------------------+-------------------+---------------------+---------------------+</pre>"
      ],
      "text/plain": [
       "+-----------+--------------+-------------------+-------------------+---------------------+---------------------+"
      ]
     },
     "metadata": {},
     "output_type": "display_data"
    },
    {
     "data": {
      "text/html": [
       "<pre>| 1         | 4.464072     | 0.214935          | 2.391542          | 0.181101            | 2.427559            |</pre>"
      ],
      "text/plain": [
       "| 1         | 4.464072     | 0.214935          | 2.391542          | 0.181101            | 2.427559            |"
      ]
     },
     "metadata": {},
     "output_type": "display_data"
    },
    {
     "data": {
      "text/html": [
       "<pre>| 2         | 8.968691     | 0.225262          | 2.337105          | 0.181746            | 2.389796            |</pre>"
      ],
      "text/plain": [
       "| 2         | 8.968691     | 0.225262          | 2.337105          | 0.181746            | 2.389796            |"
      ]
     },
     "metadata": {},
     "output_type": "display_data"
    },
    {
     "data": {
      "text/html": [
       "<pre>| 3         | 13.311920    | 0.232169          | 2.299105          | 0.183179            | 2.363156            |</pre>"
      ],
      "text/plain": [
       "| 3         | 13.311920    | 0.232169          | 2.299105          | 0.183179            | 2.363156            |"
      ]
     },
     "metadata": {},
     "output_type": "display_data"
    },
    {
     "data": {
      "text/html": [
       "<pre>| 4         | 17.825455    | 0.237551          | 2.270041          | 0.184363            | 2.344990            |</pre>"
      ],
      "text/plain": [
       "| 4         | 17.825455    | 0.237551          | 2.270041          | 0.184363            | 2.344990            |"
      ]
     },
     "metadata": {},
     "output_type": "display_data"
    },
    {
     "data": {
      "text/html": [
       "<pre>| 5         | 22.188875    | 0.242136          | 2.247013          | 0.183682            | 2.334097            |</pre>"
      ],
      "text/plain": [
       "| 5         | 22.188875    | 0.242136          | 2.247013          | 0.183682            | 2.334097            |"
      ]
     },
     "metadata": {},
     "output_type": "display_data"
    },
    {
     "data": {
      "text/html": [
       "<pre>| 6         | 26.612858    | 0.246526          | 2.228666          | 0.185247            | 2.323799            |</pre>"
      ],
      "text/plain": [
       "| 6         | 26.612858    | 0.246526          | 2.228666          | 0.185247            | 2.323799            |"
      ]
     },
     "metadata": {},
     "output_type": "display_data"
    },
    {
     "data": {
      "text/html": [
       "<pre>| 7         | 31.101617    | 0.249488          | 2.214587          | 0.186390            | 2.316255            |</pre>"
      ],
      "text/plain": [
       "| 7         | 31.101617    | 0.249488          | 2.214587          | 0.186390            | 2.316255            |"
      ]
     },
     "metadata": {},
     "output_type": "display_data"
    },
    {
     "data": {
      "text/html": [
       "<pre>| 8         | 35.429689    | 0.252796          | 2.201091          | 0.187081            | 2.309701            |</pre>"
      ],
      "text/plain": [
       "| 8         | 35.429689    | 0.252796          | 2.201091          | 0.187081            | 2.309701            |"
      ]
     },
     "metadata": {},
     "output_type": "display_data"
    },
    {
     "data": {
      "text/html": [
       "<pre>| 9         | 39.778539    | 0.255235          | 2.190758          | 0.187432            | 2.305265            |</pre>"
      ],
      "text/plain": [
       "| 9         | 39.778539    | 0.255235          | 2.190758          | 0.187432            | 2.305265            |"
      ]
     },
     "metadata": {},
     "output_type": "display_data"
    },
    {
     "data": {
      "text/html": [
       "<pre>| 10        | 44.239383    | 0.257544          | 2.181756          | 0.186690            | 2.302978            |</pre>"
      ],
      "text/plain": [
       "| 10        | 44.239383    | 0.257544          | 2.181756          | 0.186690            | 2.302978            |"
      ]
     },
     "metadata": {},
     "output_type": "display_data"
    },
    {
     "data": {
      "text/html": [
       "<pre>| 11        | 48.718747    | 0.259673          | 2.173201          | 0.187569            | 2.299690            |</pre>"
      ],
      "text/plain": [
       "| 11        | 48.718747    | 0.259673          | 2.173201          | 0.187569            | 2.299690            |"
      ]
     },
     "metadata": {},
     "output_type": "display_data"
    },
    {
     "data": {
      "text/html": [
       "<pre>| 12        | 53.294848    | 0.261492          | 2.166903          | 0.187513            | 2.298100            |</pre>"
      ],
      "text/plain": [
       "| 12        | 53.294848    | 0.261492          | 2.166903          | 0.187513            | 2.298100            |"
      ]
     },
     "metadata": {},
     "output_type": "display_data"
    },
    {
     "data": {
      "text/html": [
       "<pre>| 13        | 57.672179    | 0.263835          | 2.160040          | 0.187584            | 2.296616            |</pre>"
      ],
      "text/plain": [
       "| 13        | 57.672179    | 0.263835          | 2.160040          | 0.187584            | 2.296616            |"
      ]
     },
     "metadata": {},
     "output_type": "display_data"
    },
    {
     "data": {
      "text/html": [
       "<pre>| 14        | 62.051529    | 0.265275          | 2.154476          | 0.187727            | 2.295259            |</pre>"
      ],
      "text/plain": [
       "| 14        | 62.051529    | 0.265275          | 2.154476          | 0.187727            | 2.295259            |"
      ]
     },
     "metadata": {},
     "output_type": "display_data"
    },
    {
     "data": {
      "text/html": [
       "<pre>| 15        | 66.551945    | 0.266949          | 2.149333          | 0.187610            | 2.294225            |</pre>"
      ],
      "text/plain": [
       "| 15        | 66.551945    | 0.266949          | 2.149333          | 0.187610            | 2.294225            |"
      ]
     },
     "metadata": {},
     "output_type": "display_data"
    },
    {
     "data": {
      "text/html": [
       "<pre>| 16        | 71.083353    | 0.268284          | 2.144316          | 0.187224            | 2.292975            |</pre>"
      ],
      "text/plain": [
       "| 16        | 71.083353    | 0.268284          | 2.144316          | 0.187224            | 2.292975            |"
      ]
     },
     "metadata": {},
     "output_type": "display_data"
    },
    {
     "data": {
      "text/html": [
       "<pre>| 17        | 75.558252    | 0.270068          | 2.139681          | 0.187447            | 2.291666            |</pre>"
      ],
      "text/plain": [
       "| 17        | 75.558252    | 0.270068          | 2.139681          | 0.187447            | 2.291666            |"
      ]
     },
     "metadata": {},
     "output_type": "display_data"
    },
    {
     "data": {
      "text/html": [
       "<pre>| 18        | 80.029932    | 0.271611          | 2.135277          | 0.187620            | 2.290835            |</pre>"
      ],
      "text/plain": [
       "| 18        | 80.029932    | 0.271611          | 2.135277          | 0.187620            | 2.290835            |"
      ]
     },
     "metadata": {},
     "output_type": "display_data"
    },
    {
     "data": {
      "text/html": [
       "<pre>| 19        | 84.473687    | 0.272992          | 2.131235          | 0.188113            | 2.289217            |</pre>"
      ],
      "text/plain": [
       "| 19        | 84.473687    | 0.272992          | 2.131235          | 0.188113            | 2.289217            |"
      ]
     },
     "metadata": {},
     "output_type": "display_data"
    },
    {
     "data": {
      "text/html": [
       "<pre>| 20        | 88.984110    | 0.273974          | 2.127721          | 0.188575            | 2.288834            |</pre>"
      ],
      "text/plain": [
       "| 20        | 88.984110    | 0.273974          | 2.127721          | 0.188575            | 2.288834            |"
      ]
     },
     "metadata": {},
     "output_type": "display_data"
    },
    {
     "data": {
      "text/html": [
       "<pre>| 21        | 93.358360    | 0.275141          | 2.124442          | 0.188870            | 2.287912            |</pre>"
      ],
      "text/plain": [
       "| 21        | 93.358360    | 0.275141          | 2.124442          | 0.188870            | 2.287912            |"
      ]
     },
     "metadata": {},
     "output_type": "display_data"
    },
    {
     "data": {
      "text/html": [
       "<pre>| 22        | 97.854507    | 0.275940          | 2.121511          | 0.189139            | 2.286790            |</pre>"
      ],
      "text/plain": [
       "| 22        | 97.854507    | 0.275940          | 2.121511          | 0.189139            | 2.286790            |"
      ]
     },
     "metadata": {},
     "output_type": "display_data"
    },
    {
     "data": {
      "text/html": [
       "<pre>| 23        | 102.285207   | 0.276797          | 2.118669          | 0.189109            | 2.286778            |</pre>"
      ],
      "text/plain": [
       "| 23        | 102.285207   | 0.276797          | 2.118669          | 0.189109            | 2.286778            |"
      ]
     },
     "metadata": {},
     "output_type": "display_data"
    },
    {
     "data": {
      "text/html": [
       "<pre>| 24        | 106.711461   | 0.277675          | 2.115714          | 0.189216            | 2.286091            |</pre>"
      ],
      "text/plain": [
       "| 24        | 106.711461   | 0.277675          | 2.115714          | 0.189216            | 2.286091            |"
      ]
     },
     "metadata": {},
     "output_type": "display_data"
    },
    {
     "data": {
      "text/html": [
       "<pre>| 25        | 111.195518   | 0.278522          | 2.112902          | 0.189149            | 2.286299            |</pre>"
      ],
      "text/plain": [
       "| 25        | 111.195518   | 0.278522          | 2.112902          | 0.189149            | 2.286299            |"
      ]
     },
     "metadata": {},
     "output_type": "display_data"
    },
    {
     "data": {
      "text/html": [
       "<pre>| 26        | 115.550924   | 0.279301          | 2.110305          | 0.189083            | 2.286340            |</pre>"
      ],
      "text/plain": [
       "| 26        | 115.550924   | 0.279301          | 2.110305          | 0.189083            | 2.286340            |"
      ]
     },
     "metadata": {},
     "output_type": "display_data"
    },
    {
     "data": {
      "text/html": [
       "<pre>| 27        | 119.923756   | 0.280206          | 2.107904          | 0.189231            | 2.286174            |</pre>"
      ],
      "text/plain": [
       "| 27        | 119.923756   | 0.280206          | 2.107904          | 0.189231            | 2.286174            |"
      ]
     },
     "metadata": {},
     "output_type": "display_data"
    },
    {
     "data": {
      "text/html": [
       "<pre>| 28        | 124.442589   | 0.280855          | 2.105700          | 0.189210            | 2.286264            |</pre>"
      ],
      "text/plain": [
       "| 28        | 124.442589   | 0.280855          | 2.105700          | 0.189210            | 2.286264            |"
      ]
     },
     "metadata": {},
     "output_type": "display_data"
    },
    {
     "data": {
      "text/html": [
       "<pre>| 29        | 128.768480   | 0.281369          | 2.103560          | 0.189307            | 2.286739            |</pre>"
      ],
      "text/plain": [
       "| 29        | 128.768480   | 0.281369          | 2.103560          | 0.189307            | 2.286739            |"
      ]
     },
     "metadata": {},
     "output_type": "display_data"
    },
    {
     "data": {
      "text/html": [
       "<pre>| 30        | 133.217018   | 0.281945          | 2.101615          | 0.189388            | 2.286616            |</pre>"
      ],
      "text/plain": [
       "| 30        | 133.217018   | 0.281945          | 2.101615          | 0.189388            | 2.286616            |"
      ]
     },
     "metadata": {},
     "output_type": "display_data"
    },
    {
     "data": {
      "text/html": [
       "<pre>| 31        | 137.628503   | 0.282623          | 2.099333          | 0.189261            | 2.286315            |</pre>"
      ],
      "text/plain": [
       "| 31        | 137.628503   | 0.282623          | 2.099333          | 0.189261            | 2.286315            |"
      ]
     },
     "metadata": {},
     "output_type": "display_data"
    },
    {
     "data": {
      "text/html": [
       "<pre>| 32        | 142.079059   | 0.283268          | 2.096880          | 0.189592            | 2.286112            |</pre>"
      ],
      "text/plain": [
       "| 32        | 142.079059   | 0.283268          | 2.096880          | 0.189592            | 2.286112            |"
      ]
     },
     "metadata": {},
     "output_type": "display_data"
    },
    {
     "data": {
      "text/html": [
       "<pre>| 33        | 146.427321   | 0.284219          | 2.094671          | 0.189287            | 2.286549            |</pre>"
      ],
      "text/plain": [
       "| 33        | 146.427321   | 0.284219          | 2.094671          | 0.189287            | 2.286549            |"
      ]
     },
     "metadata": {},
     "output_type": "display_data"
    },
    {
     "data": {
      "text/html": [
       "<pre>| 34        | 151.011090   | 0.284831          | 2.092927          | 0.189236            | 2.286794            |</pre>"
      ],
      "text/plain": [
       "| 34        | 151.011090   | 0.284831          | 2.092927          | 0.189236            | 2.286794            |"
      ]
     },
     "metadata": {},
     "output_type": "display_data"
    },
    {
     "data": {
      "text/html": [
       "<pre>| 35        | 155.474271   | 0.285418          | 2.091101          | 0.189089            | 2.287167            |</pre>"
      ],
      "text/plain": [
       "| 35        | 155.474271   | 0.285418          | 2.091101          | 0.189089            | 2.287167            |"
      ]
     },
     "metadata": {},
     "output_type": "display_data"
    },
    {
     "data": {
      "text/html": [
       "<pre>| 36        | 159.950099   | 0.286143          | 2.088757          | 0.189576            | 2.287537            |</pre>"
      ],
      "text/plain": [
       "| 36        | 159.950099   | 0.286143          | 2.088757          | 0.189576            | 2.287537            |"
      ]
     },
     "metadata": {},
     "output_type": "display_data"
    },
    {
     "data": {
      "text/html": [
       "<pre>| 37        | 164.344441   | 0.286823          | 2.086775          | 0.189597            | 2.287226            |</pre>"
      ],
      "text/plain": [
       "| 37        | 164.344441   | 0.286823          | 2.086775          | 0.189597            | 2.287226            |"
      ]
     },
     "metadata": {},
     "output_type": "display_data"
    },
    {
     "data": {
      "text/html": [
       "<pre>| 38        | 168.725873   | 0.287544          | 2.084392          | 0.189531            | 2.287084            |</pre>"
      ],
      "text/plain": [
       "| 38        | 168.725873   | 0.287544          | 2.084392          | 0.189531            | 2.287084            |"
      ]
     },
     "metadata": {},
     "output_type": "display_data"
    },
    {
     "data": {
      "text/html": [
       "<pre>| 39        | 173.116231   | 0.288049          | 2.082656          | 0.188631            | 2.287457            |</pre>"
      ],
      "text/plain": [
       "| 39        | 173.116231   | 0.288049          | 2.082656          | 0.188631            | 2.287457            |"
      ]
     },
     "metadata": {},
     "output_type": "display_data"
    },
    {
     "data": {
      "text/html": [
       "<pre>| 40        | 177.568195   | 0.289099          | 2.080355          | 0.188347            | 2.288080            |</pre>"
      ],
      "text/plain": [
       "| 40        | 177.568195   | 0.289099          | 2.080355          | 0.188347            | 2.288080            |"
      ]
     },
     "metadata": {},
     "output_type": "display_data"
    },
    {
     "data": {
      "text/html": [
       "<pre>| 41        | 182.051666   | 0.289542          | 2.078972          | 0.188713            | 2.288035            |</pre>"
      ],
      "text/plain": [
       "| 41        | 182.051666   | 0.289542          | 2.078972          | 0.188713            | 2.288035            |"
      ]
     },
     "metadata": {},
     "output_type": "display_data"
    },
    {
     "data": {
      "text/html": [
       "<pre>| 42        | 186.544503   | 0.289895          | 2.077653          | 0.188850            | 2.287584            |</pre>"
      ],
      "text/plain": [
       "| 42        | 186.544503   | 0.289895          | 2.077653          | 0.188850            | 2.287584            |"
      ]
     },
     "metadata": {},
     "output_type": "display_data"
    },
    {
     "data": {
      "text/html": [
       "<pre>| 43        | 190.992086   | 0.290416          | 2.076002          | 0.188840            | 2.287828            |</pre>"
      ],
      "text/plain": [
       "| 43        | 190.992086   | 0.290416          | 2.076002          | 0.188840            | 2.287828            |"
      ]
     },
     "metadata": {},
     "output_type": "display_data"
    },
    {
     "data": {
      "text/html": [
       "<pre>| 44        | 195.408030   | 0.290772          | 2.074485          | 0.188565            | 2.288008            |</pre>"
      ],
      "text/plain": [
       "| 44        | 195.408030   | 0.290772          | 2.074485          | 0.188565            | 2.288008            |"
      ]
     },
     "metadata": {},
     "output_type": "display_data"
    },
    {
     "data": {
      "text/html": [
       "<pre>| 45        | 199.755968   | 0.291517          | 2.072405          | 0.188230            | 2.288932            |</pre>"
      ],
      "text/plain": [
       "| 45        | 199.755968   | 0.291517          | 2.072405          | 0.188230            | 2.288932            |"
      ]
     },
     "metadata": {},
     "output_type": "display_data"
    },
    {
     "data": {
      "text/html": [
       "<pre>| 46        | 204.011738   | 0.291960          | 2.070878          | 0.188484            | 2.289585            |</pre>"
      ],
      "text/plain": [
       "| 46        | 204.011738   | 0.291960          | 2.070878          | 0.188484            | 2.289585            |"
      ]
     },
     "metadata": {},
     "output_type": "display_data"
    },
    {
     "data": {
      "text/html": [
       "<pre>| 47        | 208.391876   | 0.292426          | 2.069352          | 0.188606            | 2.289780            |</pre>"
      ],
      "text/plain": [
       "| 47        | 208.391876   | 0.292426          | 2.069352          | 0.188606            | 2.289780            |"
      ]
     },
     "metadata": {},
     "output_type": "display_data"
    },
    {
     "data": {
      "text/html": [
       "<pre>| 48        | 212.810243   | 0.292826          | 2.068044          | 0.188342            | 2.290380            |</pre>"
      ],
      "text/plain": [
       "| 48        | 212.810243   | 0.292826          | 2.068044          | 0.188342            | 2.290380            |"
      ]
     },
     "metadata": {},
     "output_type": "display_data"
    },
    {
     "data": {
      "text/html": [
       "<pre>| 49        | 217.102493   | 0.293351          | 2.066295          | 0.188433            | 2.290678            |</pre>"
      ],
      "text/plain": [
       "| 49        | 217.102493   | 0.293351          | 2.066295          | 0.188433            | 2.290678            |"
      ]
     },
     "metadata": {},
     "output_type": "display_data"
    },
    {
     "data": {
      "text/html": [
       "<pre>| 50        | 221.634582   | 0.293806          | 2.065000          | 0.188784            | 2.290450            |</pre>"
      ],
      "text/plain": [
       "| 50        | 221.634582   | 0.293806          | 2.065000          | 0.188784            | 2.290450            |"
      ]
     },
     "metadata": {},
     "output_type": "display_data"
    },
    {
     "data": {
      "text/html": [
       "<pre>+-----------+--------------+-------------------+-------------------+---------------------+---------------------+</pre>"
      ],
      "text/plain": [
       "+-----------+--------------+-------------------+-------------------+---------------------+---------------------+"
      ]
     },
     "metadata": {},
     "output_type": "display_data"
    }
   ],
   "source": [
    "target = \"group\"\n",
    "features = ['install_tfidf']\n",
    "model = gl.classifier.boosted_trees_classifier.create(fold_train,\n",
    "                                                      target=target, features=features,\n",
    "                                                      validation_set=fold_val, max_iterations = 50)"
   ]
  },
  {
   "cell_type": "code",
   "execution_count": 67,
   "metadata": {
    "collapsed": false
   },
   "outputs": [
    {
     "data": {
      "text/html": [
       "<pre>Boosted trees classifier:</pre>"
      ],
      "text/plain": [
       "Boosted trees classifier:"
      ]
     },
     "metadata": {},
     "output_type": "display_data"
    },
    {
     "data": {
      "text/html": [
       "<pre>--------------------------------------------------------</pre>"
      ],
      "text/plain": [
       "--------------------------------------------------------"
      ]
     },
     "metadata": {},
     "output_type": "display_data"
    },
    {
     "data": {
      "text/html": [
       "<pre>Number of examples          : 770373</pre>"
      ],
      "text/plain": [
       "Number of examples          : 770373"
      ]
     },
     "metadata": {},
     "output_type": "display_data"
    },
    {
     "data": {
      "text/html": [
       "<pre>Number of classes           : 12</pre>"
      ],
      "text/plain": [
       "Number of classes           : 12"
      ]
     },
     "metadata": {},
     "output_type": "display_data"
    },
    {
     "data": {
      "text/html": [
       "<pre>Number of feature columns   : 1</pre>"
      ],
      "text/plain": [
       "Number of feature columns   : 1"
      ]
     },
     "metadata": {},
     "output_type": "display_data"
    },
    {
     "data": {
      "text/html": [
       "<pre>Number of unpacked features : 1</pre>"
      ],
      "text/plain": [
       "Number of unpacked features : 1"
      ]
     },
     "metadata": {},
     "output_type": "display_data"
    },
    {
     "data": {
      "text/html": [
       "<pre>+-----------+--------------+-------------------+-------------------+---------------------+---------------------+</pre>"
      ],
      "text/plain": [
       "+-----------+--------------+-------------------+-------------------+---------------------+---------------------+"
      ]
     },
     "metadata": {},
     "output_type": "display_data"
    },
    {
     "data": {
      "text/html": [
       "<pre>| Iteration | Elapsed Time | Training-accuracy | Training-log_loss | Validation-accuracy | Validation-log_loss |</pre>"
      ],
      "text/plain": [
       "| Iteration | Elapsed Time | Training-accuracy | Training-log_loss | Validation-accuracy | Validation-log_loss |"
      ]
     },
     "metadata": {},
     "output_type": "display_data"
    },
    {
     "data": {
      "text/html": [
       "<pre>+-----------+--------------+-------------------+-------------------+---------------------+---------------------+</pre>"
      ],
      "text/plain": [
       "+-----------+--------------+-------------------+-------------------+---------------------+---------------------+"
      ]
     },
     "metadata": {},
     "output_type": "display_data"
    },
    {
     "data": {
      "text/html": [
       "<pre>| 1         | 1.444717     | 0.185283          | 2.428334          | 0.178748            | 2.433916            |</pre>"
      ],
      "text/plain": [
       "| 1         | 1.444717     | 0.185283          | 2.428334          | 0.178748            | 2.433916            |"
      ]
     },
     "metadata": {},
     "output_type": "display_data"
    },
    {
     "data": {
      "text/html": [
       "<pre>| 2         | 2.902049     | 0.188258          | 2.393294          | 0.180354            | 2.400152            |</pre>"
      ],
      "text/plain": [
       "| 2         | 2.902049     | 0.188258          | 2.393294          | 0.180354            | 2.400152            |"
      ]
     },
     "metadata": {},
     "output_type": "display_data"
    },
    {
     "data": {
      "text/html": [
       "<pre>| 3         | 4.313488     | 0.189780          | 2.369412          | 0.179571            | 2.377219            |</pre>"
      ],
      "text/plain": [
       "| 3         | 4.313488     | 0.189780          | 2.369412          | 0.179571            | 2.377219            |"
      ]
     },
     "metadata": {},
     "output_type": "display_data"
    },
    {
     "data": {
      "text/html": [
       "<pre>| 4         | 5.718297     | 0.191830          | 2.352586          | 0.179983            | 2.360965            |</pre>"
      ],
      "text/plain": [
       "| 4         | 5.718297     | 0.191830          | 2.352586          | 0.179983            | 2.360965            |"
      ]
     },
     "metadata": {},
     "output_type": "display_data"
    },
    {
     "data": {
      "text/html": [
       "<pre>| 5         | 7.142620     | 0.192666          | 2.340446          | 0.178718            | 2.348514            |</pre>"
      ],
      "text/plain": [
       "| 5         | 7.142620     | 0.192666          | 2.340446          | 0.178718            | 2.348514            |"
      ]
     },
     "metadata": {},
     "output_type": "display_data"
    },
    {
     "data": {
      "text/html": [
       "<pre>| 6         | 8.545359     | 0.194024          | 2.331512          | 0.179449            | 2.339977            |</pre>"
      ],
      "text/plain": [
       "| 6         | 8.545359     | 0.194024          | 2.331512          | 0.179449            | 2.339977            |"
      ]
     },
     "metadata": {},
     "output_type": "display_data"
    },
    {
     "data": {
      "text/html": [
       "<pre>| 7         | 9.954067     | 0.194503          | 2.324786          | 0.179902            | 2.333809            |</pre>"
      ],
      "text/plain": [
       "| 7         | 9.954067     | 0.194503          | 2.324786          | 0.179902            | 2.333809            |"
      ]
     },
     "metadata": {},
     "output_type": "display_data"
    },
    {
     "data": {
      "text/html": [
       "<pre>| 8         | 11.372749    | 0.195346          | 2.319649          | 0.179917            | 2.329265            |</pre>"
      ],
      "text/plain": [
       "| 8         | 11.372749    | 0.195346          | 2.319649          | 0.179917            | 2.329265            |"
      ]
     },
     "metadata": {},
     "output_type": "display_data"
    },
    {
     "data": {
      "text/html": [
       "<pre>| 9         | 12.789661    | 0.196243          | 2.315654          | 0.180130            | 2.325745            |</pre>"
      ],
      "text/plain": [
       "| 9         | 12.789661    | 0.196243          | 2.315654          | 0.180130            | 2.325745            |"
      ]
     },
     "metadata": {},
     "output_type": "display_data"
    },
    {
     "data": {
      "text/html": [
       "<pre>| 10        | 14.264146    | 0.196618          | 2.312492          | 0.180196            | 2.323202            |</pre>"
      ],
      "text/plain": [
       "| 10        | 14.264146    | 0.196618          | 2.312492          | 0.180196            | 2.323202            |"
      ]
     },
     "metadata": {},
     "output_type": "display_data"
    },
    {
     "data": {
      "text/html": [
       "<pre>| 11        | 15.680884    | 0.197012          | 2.309934          | 0.180034            | 2.321038            |</pre>"
      ],
      "text/plain": [
       "| 11        | 15.680884    | 0.197012          | 2.309934          | 0.180034            | 2.321038            |"
      ]
     },
     "metadata": {},
     "output_type": "display_data"
    },
    {
     "data": {
      "text/html": [
       "<pre>| 12        | 17.051744    | 0.197650          | 2.307794          | 0.180059            | 2.319785            |</pre>"
      ],
      "text/plain": [
       "| 12        | 17.051744    | 0.197650          | 2.307794          | 0.180059            | 2.319785            |"
      ]
     },
     "metadata": {},
     "output_type": "display_data"
    },
    {
     "data": {
      "text/html": [
       "<pre>| 13        | 18.435351    | 0.198370          | 2.306005          | 0.180720            | 2.318625            |</pre>"
      ],
      "text/plain": [
       "| 13        | 18.435351    | 0.198370          | 2.306005          | 0.180720            | 2.318625            |"
      ]
     },
     "metadata": {},
     "output_type": "display_data"
    },
    {
     "data": {
      "text/html": [
       "<pre>| 14        | 19.815295    | 0.198635          | 2.304458          | 0.180303            | 2.317662            |</pre>"
      ],
      "text/plain": [
       "| 14        | 19.815295    | 0.198635          | 2.304458          | 0.180303            | 2.317662            |"
      ]
     },
     "metadata": {},
     "output_type": "display_data"
    },
    {
     "data": {
      "text/html": [
       "<pre>| 15        | 21.196839    | 0.199219          | 2.303100          | 0.180389            | 2.316837            |</pre>"
      ],
      "text/plain": [
       "| 15        | 21.196839    | 0.199219          | 2.303100          | 0.180389            | 2.316837            |"
      ]
     },
     "metadata": {},
     "output_type": "display_data"
    },
    {
     "data": {
      "text/html": [
       "<pre>| 16        | 22.608653    | 0.199727          | 2.301888          | 0.180415            | 2.316241            |</pre>"
      ],
      "text/plain": [
       "| 16        | 22.608653    | 0.199727          | 2.301888          | 0.180415            | 2.316241            |"
      ]
     },
     "metadata": {},
     "output_type": "display_data"
    },
    {
     "data": {
      "text/html": [
       "<pre>| 17        | 23.991200    | 0.200055          | 2.300776          | 0.180395            | 2.315776            |</pre>"
      ],
      "text/plain": [
       "| 17        | 23.991200    | 0.200055          | 2.300776          | 0.180395            | 2.315776            |"
      ]
     },
     "metadata": {},
     "output_type": "display_data"
    },
    {
     "data": {
      "text/html": [
       "<pre>| 18        | 25.446314    | 0.200602          | 2.299745          | 0.180522            | 2.315521            |</pre>"
      ],
      "text/plain": [
       "| 18        | 25.446314    | 0.200602          | 2.299745          | 0.180522            | 2.315521            |"
      ]
     },
     "metadata": {},
     "output_type": "display_data"
    },
    {
     "data": {
      "text/html": [
       "<pre>| 19        | 26.876663    | 0.200868          | 2.298784          | 0.180522            | 2.315304            |</pre>"
      ],
      "text/plain": [
       "| 19        | 26.876663    | 0.200868          | 2.298784          | 0.180522            | 2.315304            |"
      ]
     },
     "metadata": {},
     "output_type": "display_data"
    },
    {
     "data": {
      "text/html": [
       "<pre>| 20        | 28.246199    | 0.201193          | 2.297888          | 0.180516            | 2.315072            |</pre>"
      ],
      "text/plain": [
       "| 20        | 28.246199    | 0.201193          | 2.297888          | 0.180516            | 2.315072            |"
      ]
     },
     "metadata": {},
     "output_type": "display_data"
    },
    {
     "data": {
      "text/html": [
       "<pre>| 21        | 29.628247    | 0.201400          | 2.297033          | 0.180522            | 2.314698            |</pre>"
      ],
      "text/plain": [
       "| 21        | 29.628247    | 0.201400          | 2.297033          | 0.180522            | 2.314698            |"
      ]
     },
     "metadata": {},
     "output_type": "display_data"
    },
    {
     "data": {
      "text/html": [
       "<pre>| 22        | 31.021005    | 0.201689          | 2.296223          | 0.180588            | 2.314553            |</pre>"
      ],
      "text/plain": [
       "| 22        | 31.021005    | 0.201689          | 2.296223          | 0.180588            | 2.314553            |"
      ]
     },
     "metadata": {},
     "output_type": "display_data"
    },
    {
     "data": {
      "text/html": [
       "<pre>| 23        | 32.413890    | 0.201929          | 2.295447          | 0.180588            | 2.314370            |</pre>"
      ],
      "text/plain": [
       "| 23        | 32.413890    | 0.201929          | 2.295447          | 0.180588            | 2.314370            |"
      ]
     },
     "metadata": {},
     "output_type": "display_data"
    },
    {
     "data": {
      "text/html": [
       "<pre>| 24        | 33.813339    | 0.202223          | 2.294702          | 0.180948            | 2.314157            |</pre>"
      ],
      "text/plain": [
       "| 24        | 33.813339    | 0.202223          | 2.294702          | 0.180948            | 2.314157            |"
      ]
     },
     "metadata": {},
     "output_type": "display_data"
    },
    {
     "data": {
      "text/html": [
       "<pre>| 25        | 35.211465    | 0.202316          | 2.293988          | 0.180623            | 2.314006            |</pre>"
      ],
      "text/plain": [
       "| 25        | 35.211465    | 0.202316          | 2.293988          | 0.180623            | 2.314006            |"
      ]
     },
     "metadata": {},
     "output_type": "display_data"
    },
    {
     "data": {
      "text/html": [
       "<pre>| 26        | 36.586521    | 0.202551          | 2.293308          | 0.180257            | 2.313971            |</pre>"
      ],
      "text/plain": [
       "| 26        | 36.586521    | 0.202551          | 2.293308          | 0.180257            | 2.313971            |"
      ]
     },
     "metadata": {},
     "output_type": "display_data"
    },
    {
     "data": {
      "text/html": [
       "<pre>| 27        | 37.965033    | 0.202863          | 2.292643          | 0.180267            | 2.313934            |</pre>"
      ],
      "text/plain": [
       "| 27        | 37.965033    | 0.202863          | 2.292643          | 0.180267            | 2.313934            |"
      ]
     },
     "metadata": {},
     "output_type": "display_data"
    },
    {
     "data": {
      "text/html": [
       "<pre>| 28        | 39.352753    | 0.203239          | 2.291992          | 0.181167            | 2.313895            |</pre>"
      ],
      "text/plain": [
       "| 28        | 39.352753    | 0.203239          | 2.291992          | 0.181167            | 2.313895            |"
      ]
     },
     "metadata": {},
     "output_type": "display_data"
    },
    {
     "data": {
      "text/html": [
       "<pre>| 29        | 40.757756    | 0.203483          | 2.291360          | 0.181167            | 2.313912            |</pre>"
      ],
      "text/plain": [
       "| 29        | 40.757756    | 0.203483          | 2.291360          | 0.181167            | 2.313912            |"
      ]
     },
     "metadata": {},
     "output_type": "display_data"
    },
    {
     "data": {
      "text/html": [
       "<pre>| 30        | 42.161272    | 0.203717          | 2.290743          | 0.181167            | 2.313883            |</pre>"
      ],
      "text/plain": [
       "| 30        | 42.161272    | 0.203717          | 2.290743          | 0.181167            | 2.313883            |"
      ]
     },
     "metadata": {},
     "output_type": "display_data"
    },
    {
     "data": {
      "text/html": [
       "<pre>| 31        | 43.569934    | 0.203814          | 2.290144          | 0.181152            | 2.313802            |</pre>"
      ],
      "text/plain": [
       "| 31        | 43.569934    | 0.203814          | 2.290144          | 0.181152            | 2.313802            |"
      ]
     },
     "metadata": {},
     "output_type": "display_data"
    },
    {
     "data": {
      "text/html": [
       "<pre>| 32        | 44.996091    | 0.204078          | 2.289563          | 0.181213            | 2.313838            |</pre>"
      ],
      "text/plain": [
       "| 32        | 44.996091    | 0.204078          | 2.289563          | 0.181213            | 2.313838            |"
      ]
     },
     "metadata": {},
     "output_type": "display_data"
    },
    {
     "data": {
      "text/html": [
       "<pre>| 33        | 46.398390    | 0.204210          | 2.288993          | 0.181213            | 2.313893            |</pre>"
      ],
      "text/plain": [
       "| 33        | 46.398390    | 0.204210          | 2.288993          | 0.181213            | 2.313893            |"
      ]
     },
     "metadata": {},
     "output_type": "display_data"
    },
    {
     "data": {
      "text/html": [
       "<pre>| 34        | 47.803953    | 0.204454          | 2.288436          | 0.181218            | 2.313723            |</pre>"
      ],
      "text/plain": [
       "| 34        | 47.803953    | 0.204454          | 2.288436          | 0.181218            | 2.313723            |"
      ]
     },
     "metadata": {},
     "output_type": "display_data"
    },
    {
     "data": {
      "text/html": [
       "<pre>| 35        | 49.179893    | 0.204677          | 2.287888          | 0.181192            | 2.313628            |</pre>"
      ],
      "text/plain": [
       "| 35        | 49.179893    | 0.204677          | 2.287888          | 0.181192            | 2.313628            |"
      ]
     },
     "metadata": {},
     "output_type": "display_data"
    },
    {
     "data": {
      "text/html": [
       "<pre>| 36        | 50.575161    | 0.204919          | 2.287356          | 0.181502            | 2.313612            |</pre>"
      ],
      "text/plain": [
       "| 36        | 50.575161    | 0.204919          | 2.287356          | 0.181502            | 2.313612            |"
      ]
     },
     "metadata": {},
     "output_type": "display_data"
    },
    {
     "data": {
      "text/html": [
       "<pre>| 37        | 51.954895    | 0.205044          | 2.286834          | 0.181832            | 2.313614            |</pre>"
      ],
      "text/plain": [
       "| 37        | 51.954895    | 0.205044          | 2.286834          | 0.181832            | 2.313614            |"
      ]
     },
     "metadata": {},
     "output_type": "display_data"
    },
    {
     "data": {
      "text/html": [
       "<pre>| 38        | 53.313081    | 0.205316          | 2.286323          | 0.181558            | 2.313672            |</pre>"
      ],
      "text/plain": [
       "| 38        | 53.313081    | 0.205316          | 2.286323          | 0.181558            | 2.313672            |"
      ]
     },
     "metadata": {},
     "output_type": "display_data"
    },
    {
     "data": {
      "text/html": [
       "<pre>| 39        | 54.694548    | 0.205450          | 2.285825          | 0.181609            | 2.313545            |</pre>"
      ],
      "text/plain": [
       "| 39        | 54.694548    | 0.205450          | 2.285825          | 0.181609            | 2.313545            |"
      ]
     },
     "metadata": {},
     "output_type": "display_data"
    },
    {
     "data": {
      "text/html": [
       "<pre>| 40        | 56.078105    | 0.205638          | 2.285333          | 0.181634            | 2.313417            |</pre>"
      ],
      "text/plain": [
       "| 40        | 56.078105    | 0.205638          | 2.285333          | 0.181634            | 2.313417            |"
      ]
     },
     "metadata": {},
     "output_type": "display_data"
    },
    {
     "data": {
      "text/html": [
       "<pre>| 41        | 57.463380    | 0.205807          | 2.284851          | 0.181634            | 2.313437            |</pre>"
      ],
      "text/plain": [
       "| 41        | 57.463380    | 0.205807          | 2.284851          | 0.181634            | 2.313437            |"
      ]
     },
     "metadata": {},
     "output_type": "display_data"
    },
    {
     "data": {
      "text/html": [
       "<pre>| 42        | 58.840573    | 0.205994          | 2.284376          | 0.181624            | 2.313422            |</pre>"
      ],
      "text/plain": [
       "| 42        | 58.840573    | 0.205994          | 2.284376          | 0.181624            | 2.313422            |"
      ]
     },
     "metadata": {},
     "output_type": "display_data"
    },
    {
     "data": {
      "text/html": [
       "<pre>| 43        | 60.299657    | 0.206235          | 2.283908          | 0.181614            | 2.313411            |</pre>"
      ],
      "text/plain": [
       "| 43        | 60.299657    | 0.206235          | 2.283908          | 0.181614            | 2.313411            |"
      ]
     },
     "metadata": {},
     "output_type": "display_data"
    },
    {
     "data": {
      "text/html": [
       "<pre>| 44        | 61.681576    | 0.206465          | 2.283447          | 0.181705            | 2.313416            |</pre>"
      ],
      "text/plain": [
       "| 44        | 61.681576    | 0.206465          | 2.283447          | 0.181705            | 2.313416            |"
      ]
     },
     "metadata": {},
     "output_type": "display_data"
    },
    {
     "data": {
      "text/html": [
       "<pre>| 45        | 63.063351    | 0.206680          | 2.282993          | 0.181284            | 2.313475            |</pre>"
      ],
      "text/plain": [
       "| 45        | 63.063351    | 0.206680          | 2.282993          | 0.181284            | 2.313475            |"
      ]
     },
     "metadata": {},
     "output_type": "display_data"
    },
    {
     "data": {
      "text/html": [
       "<pre>| 46        | 64.455150    | 0.206866          | 2.282549          | 0.181319            | 2.313463            |</pre>"
      ],
      "text/plain": [
       "| 46        | 64.455150    | 0.206866          | 2.282549          | 0.181319            | 2.313463            |"
      ]
     },
     "metadata": {},
     "output_type": "display_data"
    },
    {
     "data": {
      "text/html": [
       "<pre>| 47        | 65.847078    | 0.207031          | 2.282114          | 0.181319            | 2.313333            |</pre>"
      ],
      "text/plain": [
       "| 47        | 65.847078    | 0.207031          | 2.282114          | 0.181319            | 2.313333            |"
      ]
     },
     "metadata": {},
     "output_type": "display_data"
    },
    {
     "data": {
      "text/html": [
       "<pre>| 48        | 67.220141    | 0.207168          | 2.281687          | 0.181319            | 2.313331            |</pre>"
      ],
      "text/plain": [
       "| 48        | 67.220141    | 0.207168          | 2.281687          | 0.181319            | 2.313331            |"
      ]
     },
     "metadata": {},
     "output_type": "display_data"
    },
    {
     "data": {
      "text/html": [
       "<pre>| 49        | 68.594352    | 0.207379          | 2.281265          | 0.181299            | 2.313299            |</pre>"
      ],
      "text/plain": [
       "| 49        | 68.594352    | 0.207379          | 2.281265          | 0.181299            | 2.313299            |"
      ]
     },
     "metadata": {},
     "output_type": "display_data"
    },
    {
     "data": {
      "text/html": [
       "<pre>| 50        | 70.015979    | 0.207583          | 2.280849          | 0.181365            | 2.313308            |</pre>"
      ],
      "text/plain": [
       "| 50        | 70.015979    | 0.207583          | 2.280849          | 0.181365            | 2.313308            |"
      ]
     },
     "metadata": {},
     "output_type": "display_data"
    },
    {
     "data": {
      "text/html": [
       "<pre>+-----------+--------------+-------------------+-------------------+---------------------+---------------------+</pre>"
      ],
      "text/plain": [
       "+-----------+--------------+-------------------+-------------------+---------------------+---------------------+"
      ]
     },
     "metadata": {},
     "output_type": "display_data"
    }
   ],
   "source": [
    "target = \"group\"\n",
    "features = ['active_label']\n",
    "model = gl.classifier.boosted_trees_classifier.create(fold_train,\n",
    "                                                      target=target, features=features,\n",
    "                                                      validation_set=fold_val, max_iterations = 50)"
   ]
  },
  {
   "cell_type": "code",
   "execution_count": 89,
   "metadata": {
    "collapsed": false
   },
   "outputs": [
    {
     "data": {
      "text/html": [
       "<pre>Boosted trees classifier:</pre>"
      ],
      "text/plain": [
       "Boosted trees classifier:"
      ]
     },
     "metadata": {},
     "output_type": "display_data"
    },
    {
     "data": {
      "text/html": [
       "<pre>--------------------------------------------------------</pre>"
      ],
      "text/plain": [
       "--------------------------------------------------------"
      ]
     },
     "metadata": {},
     "output_type": "display_data"
    },
    {
     "data": {
      "text/html": [
       "<pre>Number of examples          : 770373</pre>"
      ],
      "text/plain": [
       "Number of examples          : 770373"
      ]
     },
     "metadata": {},
     "output_type": "display_data"
    },
    {
     "data": {
      "text/html": [
       "<pre>Number of classes           : 12</pre>"
      ],
      "text/plain": [
       "Number of classes           : 12"
      ]
     },
     "metadata": {},
     "output_type": "display_data"
    },
    {
     "data": {
      "text/html": [
       "<pre>Number of feature columns   : 1</pre>"
      ],
      "text/plain": [
       "Number of feature columns   : 1"
      ]
     },
     "metadata": {},
     "output_type": "display_data"
    },
    {
     "data": {
      "text/html": [
       "<pre>Number of unpacked features : 1</pre>"
      ],
      "text/plain": [
       "Number of unpacked features : 1"
      ]
     },
     "metadata": {},
     "output_type": "display_data"
    },
    {
     "data": {
      "text/html": [
       "<pre>+-----------+--------------+-------------------+-------------------+---------------------+---------------------+</pre>"
      ],
      "text/plain": [
       "+-----------+--------------+-------------------+-------------------+---------------------+---------------------+"
      ]
     },
     "metadata": {},
     "output_type": "display_data"
    },
    {
     "data": {
      "text/html": [
       "<pre>| Iteration | Elapsed Time | Training-accuracy | Training-log_loss | Validation-accuracy | Validation-log_loss |</pre>"
      ],
      "text/plain": [
       "| Iteration | Elapsed Time | Training-accuracy | Training-log_loss | Validation-accuracy | Validation-log_loss |"
      ]
     },
     "metadata": {},
     "output_type": "display_data"
    },
    {
     "data": {
      "text/html": [
       "<pre>+-----------+--------------+-------------------+-------------------+---------------------+---------------------+</pre>"
      ],
      "text/plain": [
       "+-----------+--------------+-------------------+-------------------+---------------------+---------------------+"
      ]
     },
     "metadata": {},
     "output_type": "display_data"
    },
    {
     "data": {
      "text/html": [
       "<pre>| 1         | 1.146276     | 0.186171          | 2.427915          | 0.174277            | 2.435264            |</pre>"
      ],
      "text/plain": [
       "| 1         | 1.146276     | 0.186171          | 2.427915          | 0.174277            | 2.435264            |"
      ]
     },
     "metadata": {},
     "output_type": "display_data"
    },
    {
     "data": {
      "text/html": [
       "<pre>| 2         | 2.246823     | 0.188119          | 2.393928          | 0.174277            | 2.402379            |</pre>"
      ],
      "text/plain": [
       "| 2         | 2.246823     | 0.188119          | 2.393928          | 0.174277            | 2.402379            |"
      ]
     },
     "metadata": {},
     "output_type": "display_data"
    },
    {
     "data": {
      "text/html": [
       "<pre>| 3         | 3.349136     | 0.189319          | 2.371073          | 0.174277            | 2.379812            |</pre>"
      ],
      "text/plain": [
       "| 3         | 3.349136     | 0.189319          | 2.371073          | 0.174277            | 2.379812            |"
      ]
     },
     "metadata": {},
     "output_type": "display_data"
    },
    {
     "data": {
      "text/html": [
       "<pre>| 4         | 4.458961     | 0.190246          | 2.355079          | 0.174277            | 2.363871            |</pre>"
      ],
      "text/plain": [
       "| 4         | 4.458961     | 0.190246          | 2.355079          | 0.174277            | 2.363871            |"
      ]
     },
     "metadata": {},
     "output_type": "display_data"
    },
    {
     "data": {
      "text/html": [
       "<pre>| 5         | 5.545657     | 0.190950          | 2.343697          | 0.174277            | 2.352477            |</pre>"
      ],
      "text/plain": [
       "| 5         | 5.545657     | 0.190950          | 2.343697          | 0.174277            | 2.352477            |"
      ]
     },
     "metadata": {},
     "output_type": "display_data"
    },
    {
     "data": {
      "text/html": [
       "<pre>| 6         | 6.811703     | 0.191616          | 2.335470          | 0.174277            | 2.344366            |</pre>"
      ],
      "text/plain": [
       "| 6         | 6.811703     | 0.191616          | 2.335470          | 0.174277            | 2.344366            |"
      ]
     },
     "metadata": {},
     "output_type": "display_data"
    },
    {
     "data": {
      "text/html": [
       "<pre>| 7         | 7.982897     | 0.192085          | 2.329433          | 0.174277            | 2.338389            |</pre>"
      ],
      "text/plain": [
       "| 7         | 7.982897     | 0.192085          | 2.329433          | 0.174277            | 2.338389            |"
      ]
     },
     "metadata": {},
     "output_type": "display_data"
    },
    {
     "data": {
      "text/html": [
       "<pre>| 8         | 9.152688     | 0.192565          | 2.324914          | 0.174277            | 2.333982            |</pre>"
      ],
      "text/plain": [
       "| 8         | 9.152688     | 0.192565          | 2.324914          | 0.174277            | 2.333982            |"
      ]
     },
     "metadata": {},
     "output_type": "display_data"
    },
    {
     "data": {
      "text/html": [
       "<pre>| 9         | 10.320988    | 0.193142          | 2.321493          | 0.174277            | 2.330699            |</pre>"
      ],
      "text/plain": [
       "| 9         | 10.320988    | 0.193142          | 2.321493          | 0.174277            | 2.330699            |"
      ]
     },
     "metadata": {},
     "output_type": "display_data"
    },
    {
     "data": {
      "text/html": [
       "<pre>| 10        | 11.482453    | 0.193471          | 2.318862          | 0.174277            | 2.328271            |</pre>"
      ],
      "text/plain": [
       "| 10        | 11.482453    | 0.193471          | 2.318862          | 0.174277            | 2.328271            |"
      ]
     },
     "metadata": {},
     "output_type": "display_data"
    },
    {
     "data": {
      "text/html": [
       "<pre>| 11        | 12.573901    | 0.193596          | 2.316797          | 0.174277            | 2.326510            |</pre>"
      ],
      "text/plain": [
       "| 11        | 12.573901    | 0.193596          | 2.316797          | 0.174277            | 2.326510            |"
      ]
     },
     "metadata": {},
     "output_type": "display_data"
    },
    {
     "data": {
      "text/html": [
       "<pre>| 12        | 13.687476    | 0.193717          | 2.315140          | 0.174277            | 2.325191            |</pre>"
      ],
      "text/plain": [
       "| 12        | 13.687476    | 0.193717          | 2.315140          | 0.174277            | 2.325191            |"
      ]
     },
     "metadata": {},
     "output_type": "display_data"
    },
    {
     "data": {
      "text/html": [
       "<pre>| 13        | 14.813678    | 0.193998          | 2.313777          | 0.174256            | 2.324132            |</pre>"
      ],
      "text/plain": [
       "| 13        | 14.813678    | 0.193998          | 2.313777          | 0.174256            | 2.324132            |"
      ]
     },
     "metadata": {},
     "output_type": "display_data"
    },
    {
     "data": {
      "text/html": [
       "<pre>| 14        | 15.917529    | 0.194197          | 2.312626          | 0.174256            | 2.323321            |</pre>"
      ],
      "text/plain": [
       "| 14        | 15.917529    | 0.194197          | 2.312626          | 0.174256            | 2.323321            |"
      ]
     },
     "metadata": {},
     "output_type": "display_data"
    },
    {
     "data": {
      "text/html": [
       "<pre>| 15        | 17.013725    | 0.194362          | 2.311637          | 0.174256            | 2.322725            |</pre>"
      ],
      "text/plain": [
       "| 15        | 17.013725    | 0.194362          | 2.311637          | 0.174256            | 2.322725            |"
      ]
     },
     "metadata": {},
     "output_type": "display_data"
    },
    {
     "data": {
      "text/html": [
       "<pre>| 16        | 18.121644    | 0.194503          | 2.310753          | 0.174256            | 2.322243            |</pre>"
      ],
      "text/plain": [
       "| 16        | 18.121644    | 0.194503          | 2.310753          | 0.174256            | 2.322243            |"
      ]
     },
     "metadata": {},
     "output_type": "display_data"
    },
    {
     "data": {
      "text/html": [
       "<pre>| 17        | 19.229386    | 0.194724          | 2.309961          | 0.174256            | 2.321876            |</pre>"
      ],
      "text/plain": [
       "| 17        | 19.229386    | 0.194724          | 2.309961          | 0.174256            | 2.321876            |"
      ]
     },
     "metadata": {},
     "output_type": "display_data"
    },
    {
     "data": {
      "text/html": [
       "<pre>| 18        | 20.402682    | 0.194906          | 2.309245          | 0.174256            | 2.321649            |</pre>"
      ],
      "text/plain": [
       "| 18        | 20.402682    | 0.194906          | 2.309245          | 0.174256            | 2.321649            |"
      ]
     },
     "metadata": {},
     "output_type": "display_data"
    },
    {
     "data": {
      "text/html": [
       "<pre>| 19        | 21.546746    | 0.195255          | 2.308592          | 0.174256            | 2.321405            |</pre>"
      ],
      "text/plain": [
       "| 19        | 21.546746    | 0.195255          | 2.308592          | 0.174256            | 2.321405            |"
      ]
     },
     "metadata": {},
     "output_type": "display_data"
    },
    {
     "data": {
      "text/html": [
       "<pre>| 20        | 22.643694    | 0.195453          | 2.307980          | 0.174256            | 2.321217            |</pre>"
      ],
      "text/plain": [
       "| 20        | 22.643694    | 0.195453          | 2.307980          | 0.174256            | 2.321217            |"
      ]
     },
     "metadata": {},
     "output_type": "display_data"
    },
    {
     "data": {
      "text/html": [
       "<pre>| 21        | 23.743054    | 0.195666          | 2.307405          | 0.174256            | 2.321061            |</pre>"
      ],
      "text/plain": [
       "| 21        | 23.743054    | 0.195666          | 2.307405          | 0.174256            | 2.321061            |"
      ]
     },
     "metadata": {},
     "output_type": "display_data"
    },
    {
     "data": {
      "text/html": [
       "<pre>| 22        | 24.853894    | 0.195893          | 2.306859          | 0.174256            | 2.320933            |</pre>"
      ],
      "text/plain": [
       "| 22        | 24.853894    | 0.195893          | 2.306859          | 0.174256            | 2.320933            |"
      ]
     },
     "metadata": {},
     "output_type": "display_data"
    },
    {
     "data": {
      "text/html": [
       "<pre>| 23        | 25.957542    | 0.196170          | 2.306333          | 0.174256            | 2.320834            |</pre>"
      ],
      "text/plain": [
       "| 23        | 25.957542    | 0.196170          | 2.306333          | 0.174256            | 2.320834            |"
      ]
     },
     "metadata": {},
     "output_type": "display_data"
    },
    {
     "data": {
      "text/html": [
       "<pre>| 24        | 27.058673    | 0.196393          | 2.305820          | 0.174256            | 2.320766            |</pre>"
      ],
      "text/plain": [
       "| 24        | 27.058673    | 0.196393          | 2.305820          | 0.174256            | 2.320766            |"
      ]
     },
     "metadata": {},
     "output_type": "display_data"
    },
    {
     "data": {
      "text/html": [
       "<pre>| 25        | 28.166388    | 0.196707          | 2.305325          | 0.174256            | 2.320697            |</pre>"
      ],
      "text/plain": [
       "| 25        | 28.166388    | 0.196707          | 2.305325          | 0.174256            | 2.320697            |"
      ]
     },
     "metadata": {},
     "output_type": "display_data"
    },
    {
     "data": {
      "text/html": [
       "<pre>| 26        | 29.267092    | 0.197002          | 2.304847          | 0.174256            | 2.320710            |</pre>"
      ],
      "text/plain": [
       "| 26        | 29.267092    | 0.197002          | 2.304847          | 0.174256            | 2.320710            |"
      ]
     },
     "metadata": {},
     "output_type": "display_data"
    },
    {
     "data": {
      "text/html": [
       "<pre>| 27        | 30.361998    | 0.197319          | 2.304383          | 0.174256            | 2.320666            |</pre>"
      ],
      "text/plain": [
       "| 27        | 30.361998    | 0.197319          | 2.304383          | 0.174256            | 2.320666            |"
      ]
     },
     "metadata": {},
     "output_type": "display_data"
    },
    {
     "data": {
      "text/html": [
       "<pre>| 28        | 31.450999    | 0.197494          | 2.303932          | 0.174256            | 2.320626            |</pre>"
      ],
      "text/plain": [
       "| 28        | 31.450999    | 0.197494          | 2.303932          | 0.174256            | 2.320626            |"
      ]
     },
     "metadata": {},
     "output_type": "display_data"
    },
    {
     "data": {
      "text/html": [
       "<pre>| 29        | 32.581151    | 0.197625          | 2.303496          | 0.174256            | 2.320634            |</pre>"
      ],
      "text/plain": [
       "| 29        | 32.581151    | 0.197625          | 2.303496          | 0.174256            | 2.320634            |"
      ]
     },
     "metadata": {},
     "output_type": "display_data"
    },
    {
     "data": {
      "text/html": [
       "<pre>| 30        | 33.854153    | 0.197835          | 2.303073          | 0.174256            | 2.320608            |</pre>"
      ],
      "text/plain": [
       "| 30        | 33.854153    | 0.197835          | 2.303073          | 0.174256            | 2.320608            |"
      ]
     },
     "metadata": {},
     "output_type": "display_data"
    },
    {
     "data": {
      "text/html": [
       "<pre>| 31        | 34.995805    | 0.198007          | 2.302667          | 0.174256            | 2.320596            |</pre>"
      ],
      "text/plain": [
       "| 31        | 34.995805    | 0.198007          | 2.302667          | 0.174256            | 2.320596            |"
      ]
     },
     "metadata": {},
     "output_type": "display_data"
    },
    {
     "data": {
      "text/html": [
       "<pre>| 32        | 36.125384    | 0.198205          | 2.302273          | 0.174256            | 2.320575            |</pre>"
      ],
      "text/plain": [
       "| 32        | 36.125384    | 0.198205          | 2.302273          | 0.174256            | 2.320575            |"
      ]
     },
     "metadata": {},
     "output_type": "display_data"
    },
    {
     "data": {
      "text/html": [
       "<pre>| 33        | 37.237737    | 0.198439          | 2.301886          | 0.174256            | 2.320580            |</pre>"
      ],
      "text/plain": [
       "| 33        | 37.237737    | 0.198439          | 2.301886          | 0.174256            | 2.320580            |"
      ]
     },
     "metadata": {},
     "output_type": "display_data"
    },
    {
     "data": {
      "text/html": [
       "<pre>| 34        | 38.473396    | 0.198700          | 2.301504          | 0.174256            | 2.320573            |</pre>"
      ],
      "text/plain": [
       "| 34        | 38.473396    | 0.198700          | 2.301504          | 0.174256            | 2.320573            |"
      ]
     },
     "metadata": {},
     "output_type": "display_data"
    },
    {
     "data": {
      "text/html": [
       "<pre>| 35        | 39.877124    | 0.199014          | 2.301126          | 0.174256            | 2.320560            |</pre>"
      ],
      "text/plain": [
       "| 35        | 39.877124    | 0.199014          | 2.301126          | 0.174256            | 2.320560            |"
      ]
     },
     "metadata": {},
     "output_type": "display_data"
    },
    {
     "data": {
      "text/html": [
       "<pre>| 36        | 41.073370    | 0.199318          | 2.300750          | 0.174256            | 2.320551            |</pre>"
      ],
      "text/plain": [
       "| 36        | 41.073370    | 0.199318          | 2.300750          | 0.174256            | 2.320551            |"
      ]
     },
     "metadata": {},
     "output_type": "display_data"
    },
    {
     "data": {
      "text/html": [
       "<pre>| 37        | 42.193282    | 0.199523          | 2.300377          | 0.174256            | 2.320543            |</pre>"
      ],
      "text/plain": [
       "| 37        | 42.193282    | 0.199523          | 2.300377          | 0.174256            | 2.320543            |"
      ]
     },
     "metadata": {},
     "output_type": "display_data"
    },
    {
     "data": {
      "text/html": [
       "<pre>| 38        | 43.322478    | 0.199686          | 2.300006          | 0.174256            | 2.320537            |</pre>"
      ],
      "text/plain": [
       "| 38        | 43.322478    | 0.199686          | 2.300006          | 0.174256            | 2.320537            |"
      ]
     },
     "metadata": {},
     "output_type": "display_data"
    },
    {
     "data": {
      "text/html": [
       "<pre>| 39        | 44.443134    | 0.199850          | 2.299637          | 0.174256            | 2.320533            |</pre>"
      ],
      "text/plain": [
       "| 39        | 44.443134    | 0.199850          | 2.299637          | 0.174256            | 2.320533            |"
      ]
     },
     "metadata": {},
     "output_type": "display_data"
    },
    {
     "data": {
      "text/html": [
       "<pre>| 40        | 45.549162    | 0.199968          | 2.299273          | 0.174256            | 2.320562            |</pre>"
      ],
      "text/plain": [
       "| 40        | 45.549162    | 0.199968          | 2.299273          | 0.174256            | 2.320562            |"
      ]
     },
     "metadata": {},
     "output_type": "display_data"
    },
    {
     "data": {
      "text/html": [
       "<pre>| 41        | 46.666605    | 0.199978          | 2.298920          | 0.174256            | 2.320590            |</pre>"
      ],
      "text/plain": [
       "| 41        | 46.666605    | 0.199978          | 2.298920          | 0.174256            | 2.320590            |"
      ]
     },
     "metadata": {},
     "output_type": "display_data"
    },
    {
     "data": {
      "text/html": [
       "<pre>| 42        | 47.782230    | 0.200043          | 2.298572          | 0.174256            | 2.320586            |</pre>"
      ],
      "text/plain": [
       "| 42        | 47.782230    | 0.200043          | 2.298572          | 0.174256            | 2.320586            |"
      ]
     },
     "metadata": {},
     "output_type": "display_data"
    },
    {
     "data": {
      "text/html": [
       "<pre>| 43        | 48.885808    | 0.200176          | 2.298229          | 0.174256            | 2.320605            |</pre>"
      ],
      "text/plain": [
       "| 43        | 48.885808    | 0.200176          | 2.298229          | 0.174256            | 2.320605            |"
      ]
     },
     "metadata": {},
     "output_type": "display_data"
    },
    {
     "data": {
      "text/html": [
       "<pre>| 44        | 49.970036    | 0.200313          | 2.297892          | 0.174256            | 2.320600            |</pre>"
      ],
      "text/plain": [
       "| 44        | 49.970036    | 0.200313          | 2.297892          | 0.174256            | 2.320600            |"
      ]
     },
     "metadata": {},
     "output_type": "display_data"
    },
    {
     "data": {
      "text/html": [
       "<pre>| 45        | 51.083975    | 0.200451          | 2.297562          | 0.174256            | 2.320596            |</pre>"
      ],
      "text/plain": [
       "| 45        | 51.083975    | 0.200451          | 2.297562          | 0.174256            | 2.320596            |"
      ]
     },
     "metadata": {},
     "output_type": "display_data"
    },
    {
     "data": {
      "text/html": [
       "<pre>| 46        | 52.203318    | 0.200638          | 2.297239          | 0.174256            | 2.320596            |</pre>"
      ],
      "text/plain": [
       "| 46        | 52.203318    | 0.200638          | 2.297239          | 0.174256            | 2.320596            |"
      ]
     },
     "metadata": {},
     "output_type": "display_data"
    },
    {
     "data": {
      "text/html": [
       "<pre>| 47        | 53.310247    | 0.200905          | 2.296918          | 0.174256            | 2.320592            |</pre>"
      ],
      "text/plain": [
       "| 47        | 53.310247    | 0.200905          | 2.296918          | 0.174256            | 2.320592            |"
      ]
     },
     "metadata": {},
     "output_type": "display_data"
    },
    {
     "data": {
      "text/html": [
       "<pre>| 48        | 54.441217    | 0.201186          | 2.296602          | 0.174256            | 2.320587            |</pre>"
      ],
      "text/plain": [
       "| 48        | 54.441217    | 0.201186          | 2.296602          | 0.174256            | 2.320587            |"
      ]
     },
     "metadata": {},
     "output_type": "display_data"
    },
    {
     "data": {
      "text/html": [
       "<pre>| 49        | 55.565259    | 0.201384          | 2.296289          | 0.174256            | 2.320584            |</pre>"
      ],
      "text/plain": [
       "| 49        | 55.565259    | 0.201384          | 2.296289          | 0.174256            | 2.320584            |"
      ]
     },
     "metadata": {},
     "output_type": "display_data"
    },
    {
     "data": {
      "text/html": [
       "<pre>| 50        | 56.686660    | 0.201532          | 2.295983          | 0.174256            | 2.320582            |</pre>"
      ],
      "text/plain": [
       "| 50        | 56.686660    | 0.201532          | 2.295983          | 0.174256            | 2.320582            |"
      ]
     },
     "metadata": {},
     "output_type": "display_data"
    },
    {
     "data": {
      "text/html": [
       "<pre>+-----------+--------------+-------------------+-------------------+---------------------+---------------------+</pre>"
      ],
      "text/plain": [
       "+-----------+--------------+-------------------+-------------------+---------------------+---------------------+"
      ]
     },
     "metadata": {},
     "output_type": "display_data"
    }
   ],
   "source": [
    "target = \"group\"\n",
    "features = ['installed_label']\n",
    "model = gl.classifier.boosted_trees_classifier.create(fold_train,\n",
    "                                                      target=target, features=features,\n",
    "                                                      validation_set=fold_val, max_iterations = 50)"
   ]
  },
  {
   "cell_type": "code",
   "execution_count": 69,
   "metadata": {
    "collapsed": false,
    "scrolled": true
   },
   "outputs": [
    {
     "data": {
      "text/html": [
       "<pre>Boosted trees classifier:</pre>"
      ],
      "text/plain": [
       "Boosted trees classifier:"
      ]
     },
     "metadata": {},
     "output_type": "display_data"
    },
    {
     "data": {
      "text/html": [
       "<pre>--------------------------------------------------------</pre>"
      ],
      "text/plain": [
       "--------------------------------------------------------"
      ]
     },
     "metadata": {},
     "output_type": "display_data"
    },
    {
     "data": {
      "text/html": [
       "<pre>Number of examples          : 770373</pre>"
      ],
      "text/plain": [
       "Number of examples          : 770373"
      ]
     },
     "metadata": {},
     "output_type": "display_data"
    },
    {
     "data": {
      "text/html": [
       "<pre>Number of classes           : 12</pre>"
      ],
      "text/plain": [
       "Number of classes           : 12"
      ]
     },
     "metadata": {},
     "output_type": "display_data"
    },
    {
     "data": {
      "text/html": [
       "<pre>Number of feature columns   : 1</pre>"
      ],
      "text/plain": [
       "Number of feature columns   : 1"
      ]
     },
     "metadata": {},
     "output_type": "display_data"
    },
    {
     "data": {
      "text/html": [
       "<pre>Number of unpacked features : 1</pre>"
      ],
      "text/plain": [
       "Number of unpacked features : 1"
      ]
     },
     "metadata": {},
     "output_type": "display_data"
    },
    {
     "data": {
      "text/html": [
       "<pre>+-----------+--------------+-------------------+-------------------+---------------------+---------------------+</pre>"
      ],
      "text/plain": [
       "+-----------+--------------+-------------------+-------------------+---------------------+---------------------+"
      ]
     },
     "metadata": {},
     "output_type": "display_data"
    },
    {
     "data": {
      "text/html": [
       "<pre>| Iteration | Elapsed Time | Training-accuracy | Training-log_loss | Validation-accuracy | Validation-log_loss |</pre>"
      ],
      "text/plain": [
       "| Iteration | Elapsed Time | Training-accuracy | Training-log_loss | Validation-accuracy | Validation-log_loss |"
      ]
     },
     "metadata": {},
     "output_type": "display_data"
    },
    {
     "data": {
      "text/html": [
       "<pre>+-----------+--------------+-------------------+-------------------+---------------------+---------------------+</pre>"
      ],
      "text/plain": [
       "+-----------+--------------+-------------------+-------------------+---------------------+---------------------+"
      ]
     },
     "metadata": {},
     "output_type": "display_data"
    },
    {
     "data": {
      "text/html": [
       "<pre>| 1         | 1.349583     | 0.220970          | 2.386045          | 0.196609            | 2.423480            |</pre>"
      ],
      "text/plain": [
       "| 1         | 1.349583     | 0.220970          | 2.386045          | 0.196609            | 2.423480            |"
      ]
     },
     "metadata": {},
     "output_type": "display_data"
    },
    {
     "data": {
      "text/html": [
       "<pre>| 2         | 2.697541     | 0.239006          | 2.324355          | 0.190608            | 2.387973            |</pre>"
      ],
      "text/plain": [
       "| 2         | 2.697541     | 0.239006          | 2.324355          | 0.190608            | 2.387973            |"
      ]
     },
     "metadata": {},
     "output_type": "display_data"
    },
    {
     "data": {
      "text/html": [
       "<pre>| 3         | 4.028178     | 0.252696          | 2.276782          | 0.189988            | 2.362770            |</pre>"
      ],
      "text/plain": [
       "| 3         | 4.028178     | 0.252696          | 2.276782          | 0.189988            | 2.362770            |"
      ]
     },
     "metadata": {},
     "output_type": "display_data"
    },
    {
     "data": {
      "text/html": [
       "<pre>| 4         | 5.363105     | 0.260312          | 2.241664          | 0.189764            | 2.343910            |</pre>"
      ],
      "text/plain": [
       "| 4         | 5.363105     | 0.260312          | 2.241664          | 0.189764            | 2.343910            |"
      ]
     },
     "metadata": {},
     "output_type": "display_data"
    },
    {
     "data": {
      "text/html": [
       "<pre>| 5         | 6.693419     | 0.267139          | 2.216701          | 0.190018            | 2.330189            |</pre>"
      ],
      "text/plain": [
       "| 5         | 6.693419     | 0.267139          | 2.216701          | 0.190018            | 2.330189            |"
      ]
     },
     "metadata": {},
     "output_type": "display_data"
    },
    {
     "data": {
      "text/html": [
       "<pre>| 6         | 8.036759     | 0.270660          | 2.195315          | 0.190725            | 2.317284            |</pre>"
      ],
      "text/plain": [
       "| 6         | 8.036759     | 0.270660          | 2.195315          | 0.190725            | 2.317284            |"
      ]
     },
     "metadata": {},
     "output_type": "display_data"
    },
    {
     "data": {
      "text/html": [
       "<pre>| 7         | 9.373636     | 0.275190          | 2.177487          | 0.190877            | 2.309704            |</pre>"
      ],
      "text/plain": [
       "| 7         | 9.373636     | 0.275190          | 2.177487          | 0.190877            | 2.309704            |"
      ]
     },
     "metadata": {},
     "output_type": "display_data"
    },
    {
     "data": {
      "text/html": [
       "<pre>| 8         | 10.726685    | 0.281351          | 2.161905          | 0.190384            | 2.305043            |</pre>"
      ],
      "text/plain": [
       "| 8         | 10.726685    | 0.281351          | 2.161905          | 0.190384            | 2.305043            |"
      ]
     },
     "metadata": {},
     "output_type": "display_data"
    },
    {
     "data": {
      "text/html": [
       "<pre>| 9         | 12.051687    | 0.285625          | 2.148833          | 0.190293            | 2.301332            |</pre>"
      ],
      "text/plain": [
       "| 9         | 12.051687    | 0.285625          | 2.148833          | 0.190293            | 2.301332            |"
      ]
     },
     "metadata": {},
     "output_type": "display_data"
    },
    {
     "data": {
      "text/html": [
       "<pre>| 10        | 13.394386    | 0.289430          | 2.136560          | 0.190516            | 2.297172            |</pre>"
      ],
      "text/plain": [
       "| 10        | 13.394386    | 0.289430          | 2.136560          | 0.190516            | 2.297172            |"
      ]
     },
     "metadata": {},
     "output_type": "display_data"
    },
    {
     "data": {
      "text/html": [
       "<pre>| 11        | 14.717340    | 0.292535          | 2.126376          | 0.189546            | 2.295168            |</pre>"
      ],
      "text/plain": [
       "| 11        | 14.717340    | 0.292535          | 2.126376          | 0.189546            | 2.295168            |"
      ]
     },
     "metadata": {},
     "output_type": "display_data"
    },
    {
     "data": {
      "text/html": [
       "<pre>| 12        | 16.029950    | 0.295232          | 2.118300          | 0.189917            | 2.292543            |</pre>"
      ],
      "text/plain": [
       "| 12        | 16.029950    | 0.295232          | 2.118300          | 0.189917            | 2.292543            |"
      ]
     },
     "metadata": {},
     "output_type": "display_data"
    },
    {
     "data": {
      "text/html": [
       "<pre>| 13        | 17.384262    | 0.297680          | 2.109921          | 0.191243            | 2.289352            |</pre>"
      ],
      "text/plain": [
       "| 13        | 17.384262    | 0.297680          | 2.109921          | 0.191243            | 2.289352            |"
      ]
     },
     "metadata": {},
     "output_type": "display_data"
    },
    {
     "data": {
      "text/html": [
       "<pre>| 14        | 18.708762    | 0.300745          | 2.101638          | 0.191528            | 2.287765            |</pre>"
      ],
      "text/plain": [
       "| 14        | 18.708762    | 0.300745          | 2.101638          | 0.191528            | 2.287765            |"
      ]
     },
     "metadata": {},
     "output_type": "display_data"
    },
    {
     "data": {
      "text/html": [
       "<pre>| 15        | 20.029098    | 0.303806          | 2.094079          | 0.191629            | 2.286361            |</pre>"
      ],
      "text/plain": [
       "| 15        | 20.029098    | 0.303806          | 2.094079          | 0.191629            | 2.286361            |"
      ]
     },
     "metadata": {},
     "output_type": "display_data"
    },
    {
     "data": {
      "text/html": [
       "<pre>| 16        | 21.359391    | 0.306291          | 2.087272          | 0.191111            | 2.285064            |</pre>"
      ],
      "text/plain": [
       "| 16        | 21.359391    | 0.306291          | 2.087272          | 0.191111            | 2.285064            |"
      ]
     },
     "metadata": {},
     "output_type": "display_data"
    },
    {
     "data": {
      "text/html": [
       "<pre>| 17        | 22.676546    | 0.308229          | 2.081507          | 0.191055            | 2.283809            |</pre>"
      ],
      "text/plain": [
       "| 17        | 22.676546    | 0.308229          | 2.081507          | 0.191055            | 2.283809            |"
      ]
     },
     "metadata": {},
     "output_type": "display_data"
    },
    {
     "data": {
      "text/html": [
       "<pre>| 18        | 23.990328    | 0.310331          | 2.076013          | 0.191060            | 2.283277            |</pre>"
      ],
      "text/plain": [
       "| 18        | 23.990328    | 0.310331          | 2.076013          | 0.191060            | 2.283277            |"
      ]
     },
     "metadata": {},
     "output_type": "display_data"
    },
    {
     "data": {
      "text/html": [
       "<pre>| 19        | 25.324961    | 0.312625          | 2.070107          | 0.191629            | 2.282641            |</pre>"
      ],
      "text/plain": [
       "| 19        | 25.324961    | 0.312625          | 2.070107          | 0.191629            | 2.282641            |"
      ]
     },
     "metadata": {},
     "output_type": "display_data"
    },
    {
     "data": {
      "text/html": [
       "<pre>| 20        | 26.645481    | 0.314280          | 2.065292          | 0.191568            | 2.282973            |</pre>"
      ],
      "text/plain": [
       "| 20        | 26.645481    | 0.314280          | 2.065292          | 0.191568            | 2.282973            |"
      ]
     },
     "metadata": {},
     "output_type": "display_data"
    },
    {
     "data": {
      "text/html": [
       "<pre>| 21        | 27.968719    | 0.316371          | 2.059936          | 0.191065            | 2.281926            |</pre>"
      ],
      "text/plain": [
       "| 21        | 27.968719    | 0.316371          | 2.059936          | 0.191065            | 2.281926            |"
      ]
     },
     "metadata": {},
     "output_type": "display_data"
    },
    {
     "data": {
      "text/html": [
       "<pre>| 22        | 29.303248    | 0.318032          | 2.054942          | 0.191771            | 2.281112            |</pre>"
      ],
      "text/plain": [
       "| 22        | 29.303248    | 0.318032          | 2.054942          | 0.191771            | 2.281112            |"
      ]
     },
     "metadata": {},
     "output_type": "display_data"
    },
    {
     "data": {
      "text/html": [
       "<pre>| 23        | 30.627345    | 0.319386          | 2.050897          | 0.191375            | 2.281041            |</pre>"
      ],
      "text/plain": [
       "| 23        | 30.627345    | 0.319386          | 2.050897          | 0.191375            | 2.281041            |"
      ]
     },
     "metadata": {},
     "output_type": "display_data"
    },
    {
     "data": {
      "text/html": [
       "<pre>| 24        | 31.980454    | 0.320724          | 2.046908          | 0.191065            | 2.281633            |</pre>"
      ],
      "text/plain": [
       "| 24        | 31.980454    | 0.320724          | 2.046908          | 0.191065            | 2.281633            |"
      ]
     },
     "metadata": {},
     "output_type": "display_data"
    },
    {
     "data": {
      "text/html": [
       "<pre>| 25        | 33.317349    | 0.322745          | 2.041868          | 0.190918            | 2.281530            |</pre>"
      ],
      "text/plain": [
       "| 25        | 33.317349    | 0.322745          | 2.041868          | 0.190918            | 2.281530            |"
      ]
     },
     "metadata": {},
     "output_type": "display_data"
    },
    {
     "data": {
      "text/html": [
       "<pre>| 26        | 34.654432    | 0.323881          | 2.036905          | 0.190313            | 2.281338            |</pre>"
      ],
      "text/plain": [
       "| 26        | 34.654432    | 0.323881          | 2.036905          | 0.190313            | 2.281338            |"
      ]
     },
     "metadata": {},
     "output_type": "display_data"
    },
    {
     "data": {
      "text/html": [
       "<pre>| 27        | 35.961838    | 0.324891          | 2.033829          | 0.190958            | 2.280895            |</pre>"
      ],
      "text/plain": [
       "| 27        | 35.961838    | 0.324891          | 2.033829          | 0.190958            | 2.280895            |"
      ]
     },
     "metadata": {},
     "output_type": "display_data"
    },
    {
     "data": {
      "text/html": [
       "<pre>| 28        | 37.298327    | 0.325768          | 2.030471          | 0.190720            | 2.280100            |</pre>"
      ],
      "text/plain": [
       "| 28        | 37.298327    | 0.325768          | 2.030471          | 0.190720            | 2.280100            |"
      ]
     },
     "metadata": {},
     "output_type": "display_data"
    },
    {
     "data": {
      "text/html": [
       "<pre>| 29        | 38.614072    | 0.327506          | 2.026623          | 0.190989            | 2.279451            |</pre>"
      ],
      "text/plain": [
       "| 29        | 38.614072    | 0.327506          | 2.026623          | 0.190989            | 2.279451            |"
      ]
     },
     "metadata": {},
     "output_type": "display_data"
    },
    {
     "data": {
      "text/html": [
       "<pre>| 30        | 39.936903    | 0.328414          | 2.023547          | 0.191512            | 2.279780            |</pre>"
      ],
      "text/plain": [
       "| 30        | 39.936903    | 0.328414          | 2.023547          | 0.191512            | 2.279780            |"
      ]
     },
     "metadata": {},
     "output_type": "display_data"
    },
    {
     "data": {
      "text/html": [
       "<pre>| 31        | 41.266165    | 0.329473          | 2.019960          | 0.191853            | 2.280037            |</pre>"
      ],
      "text/plain": [
       "| 31        | 41.266165    | 0.329473          | 2.019960          | 0.191853            | 2.280037            |"
      ]
     },
     "metadata": {},
     "output_type": "display_data"
    },
    {
     "data": {
      "text/html": [
       "<pre>| 32        | 42.598952    | 0.330296          | 2.017125          | 0.192137            | 2.279369            |</pre>"
      ],
      "text/plain": [
       "| 32        | 42.598952    | 0.330296          | 2.017125          | 0.192137            | 2.279369            |"
      ]
     },
     "metadata": {},
     "output_type": "display_data"
    },
    {
     "data": {
      "text/html": [
       "<pre>| 33        | 43.916172    | 0.331088          | 2.014298          | 0.192346            | 2.280029            |</pre>"
      ],
      "text/plain": [
       "| 33        | 43.916172    | 0.331088          | 2.014298          | 0.192346            | 2.280029            |"
      ]
     },
     "metadata": {},
     "output_type": "display_data"
    },
    {
     "data": {
      "text/html": [
       "<pre>| 34        | 45.236658    | 0.332120          | 2.011349          | 0.193194            | 2.279955            |</pre>"
      ],
      "text/plain": [
       "| 34        | 45.236658    | 0.332120          | 2.011349          | 0.193194            | 2.279955            |"
      ]
     },
     "metadata": {},
     "output_type": "display_data"
    },
    {
     "data": {
      "text/html": [
       "<pre>| 35        | 46.555619    | 0.333313          | 2.008563          | 0.192889            | 2.280033            |</pre>"
      ],
      "text/plain": [
       "| 35        | 46.555619    | 0.333313          | 2.008563          | 0.192889            | 2.280033            |"
      ]
     },
     "metadata": {},
     "output_type": "display_data"
    },
    {
     "data": {
      "text/html": [
       "<pre>| 36        | 47.875486    | 0.333932          | 2.006078          | 0.192701            | 2.279895            |</pre>"
      ],
      "text/plain": [
       "| 36        | 47.875486    | 0.333932          | 2.006078          | 0.192701            | 2.279895            |"
      ]
     },
     "metadata": {},
     "output_type": "display_data"
    },
    {
     "data": {
      "text/html": [
       "<pre>| 37        | 49.250044    | 0.335122          | 2.003195          | 0.193016            | 2.278821            |</pre>"
      ],
      "text/plain": [
       "| 37        | 49.250044    | 0.335122          | 2.003195          | 0.193016            | 2.278821            |"
      ]
     },
     "metadata": {},
     "output_type": "display_data"
    },
    {
     "data": {
      "text/html": [
       "<pre>| 38        | 50.616432    | 0.336341          | 1.999666          | 0.192762            | 2.279233            |</pre>"
      ],
      "text/plain": [
       "| 38        | 50.616432    | 0.336341          | 1.999666          | 0.192762            | 2.279233            |"
      ]
     },
     "metadata": {},
     "output_type": "display_data"
    },
    {
     "data": {
      "text/html": [
       "<pre>| 39        | 51.947012    | 0.337191          | 1.997116          | 0.192859            | 2.278880            |</pre>"
      ],
      "text/plain": [
       "| 39        | 51.947012    | 0.337191          | 1.997116          | 0.192859            | 2.278880            |"
      ]
     },
     "metadata": {},
     "output_type": "display_data"
    },
    {
     "data": {
      "text/html": [
       "<pre>| 40        | 53.276490    | 0.337686          | 1.994697          | 0.193189            | 2.278079            |</pre>"
      ],
      "text/plain": [
       "| 40        | 53.276490    | 0.337686          | 1.994697          | 0.193189            | 2.278079            |"
      ]
     },
     "metadata": {},
     "output_type": "display_data"
    },
    {
     "data": {
      "text/html": [
       "<pre>| 41        | 54.603447    | 0.338404          | 1.992439          | 0.193362            | 2.278170            |</pre>"
      ],
      "text/plain": [
       "| 41        | 54.603447    | 0.338404          | 1.992439          | 0.193362            | 2.278170            |"
      ]
     },
     "metadata": {},
     "output_type": "display_data"
    },
    {
     "data": {
      "text/html": [
       "<pre>| 42        | 55.911670    | 0.340047          | 1.990181          | 0.194383            | 2.278555            |</pre>"
      ],
      "text/plain": [
       "| 42        | 55.911670    | 0.340047          | 1.990181          | 0.194383            | 2.278555            |"
      ]
     },
     "metadata": {},
     "output_type": "display_data"
    },
    {
     "data": {
      "text/html": [
       "<pre>| 43        | 57.232822    | 0.340863          | 1.987322          | 0.194088            | 2.278829            |</pre>"
      ],
      "text/plain": [
       "| 43        | 57.232822    | 0.340863          | 1.987322          | 0.194088            | 2.278829            |"
      ]
     },
     "metadata": {},
     "output_type": "display_data"
    },
    {
     "data": {
      "text/html": [
       "<pre>| 44        | 58.561770    | 0.341400          | 1.984617          | 0.194541            | 2.279239            |</pre>"
      ],
      "text/plain": [
       "| 44        | 58.561770    | 0.341400          | 1.984617          | 0.194541            | 2.279239            |"
      ]
     },
     "metadata": {},
     "output_type": "display_data"
    },
    {
     "data": {
      "text/html": [
       "<pre>| 45        | 59.874238    | 0.342243          | 1.982283          | 0.194754            | 2.279526            |</pre>"
      ],
      "text/plain": [
       "| 45        | 59.874238    | 0.342243          | 1.982283          | 0.194754            | 2.279526            |"
      ]
     },
     "metadata": {},
     "output_type": "display_data"
    },
    {
     "data": {
      "text/html": [
       "<pre>| 46        | 61.224414    | 0.343532          | 1.978994          | 0.194952            | 2.279233            |</pre>"
      ],
      "text/plain": [
       "| 46        | 61.224414    | 0.343532          | 1.978994          | 0.194952            | 2.279233            |"
      ]
     },
     "metadata": {},
     "output_type": "display_data"
    },
    {
     "data": {
      "text/html": [
       "<pre>| 47        | 62.540631    | 0.344397          | 1.976549          | 0.195349            | 2.279294            |</pre>"
      ],
      "text/plain": [
       "| 47        | 62.540631    | 0.344397          | 1.976549          | 0.195349            | 2.279294            |"
      ]
     },
     "metadata": {},
     "output_type": "display_data"
    },
    {
     "data": {
      "text/html": [
       "<pre>| 48        | 63.868289    | 0.345411          | 1.974454          | 0.195252            | 2.279433            |</pre>"
      ],
      "text/plain": [
       "| 48        | 63.868289    | 0.345411          | 1.974454          | 0.195252            | 2.279433            |"
      ]
     },
     "metadata": {},
     "output_type": "display_data"
    },
    {
     "data": {
      "text/html": [
       "<pre>| 49        | 65.184107    | 0.345825          | 1.972458          | 0.195425            | 2.279856            |</pre>"
      ],
      "text/plain": [
       "| 49        | 65.184107    | 0.345825          | 1.972458          | 0.195425            | 2.279856            |"
      ]
     },
     "metadata": {},
     "output_type": "display_data"
    },
    {
     "data": {
      "text/html": [
       "<pre>| 50        | 66.494215    | 0.346579          | 1.970557          | 0.195450            | 2.279656            |</pre>"
      ],
      "text/plain": [
       "| 50        | 66.494215    | 0.346579          | 1.970557          | 0.195450            | 2.279656            |"
      ]
     },
     "metadata": {},
     "output_type": "display_data"
    },
    {
     "data": {
      "text/html": [
       "<pre>+-----------+--------------+-------------------+-------------------+---------------------+---------------------+</pre>"
      ],
      "text/plain": [
       "+-----------+--------------+-------------------+-------------------+---------------------+---------------------+"
      ]
     },
     "metadata": {},
     "output_type": "display_data"
    }
   ],
   "source": [
    "target = \"group\"\n",
    "features = ['active_app_id']\n",
    "model = gl.classifier.boosted_trees_classifier.create(fold_train,\n",
    "                                                      target=target, features=features,\n",
    "                                                      validation_set=fold_val, max_iterations = 50)"
   ]
  },
  {
   "cell_type": "code",
   "execution_count": 70,
   "metadata": {
    "collapsed": false
   },
   "outputs": [
    {
     "data": {
      "text/html": [
       "<pre>Boosted trees classifier:</pre>"
      ],
      "text/plain": [
       "Boosted trees classifier:"
      ]
     },
     "metadata": {},
     "output_type": "display_data"
    },
    {
     "data": {
      "text/html": [
       "<pre>--------------------------------------------------------</pre>"
      ],
      "text/plain": [
       "--------------------------------------------------------"
      ]
     },
     "metadata": {},
     "output_type": "display_data"
    },
    {
     "data": {
      "text/html": [
       "<pre>Number of examples          : 770373</pre>"
      ],
      "text/plain": [
       "Number of examples          : 770373"
      ]
     },
     "metadata": {},
     "output_type": "display_data"
    },
    {
     "data": {
      "text/html": [
       "<pre>Number of classes           : 12</pre>"
      ],
      "text/plain": [
       "Number of classes           : 12"
      ]
     },
     "metadata": {},
     "output_type": "display_data"
    },
    {
     "data": {
      "text/html": [
       "<pre>Number of feature columns   : 1</pre>"
      ],
      "text/plain": [
       "Number of feature columns   : 1"
      ]
     },
     "metadata": {},
     "output_type": "display_data"
    },
    {
     "data": {
      "text/html": [
       "<pre>Number of unpacked features : 1</pre>"
      ],
      "text/plain": [
       "Number of unpacked features : 1"
      ]
     },
     "metadata": {},
     "output_type": "display_data"
    },
    {
     "data": {
      "text/html": [
       "<pre>+-----------+--------------+-------------------+-------------------+---------------------+---------------------+</pre>"
      ],
      "text/plain": [
       "+-----------+--------------+-------------------+-------------------+---------------------+---------------------+"
      ]
     },
     "metadata": {},
     "output_type": "display_data"
    },
    {
     "data": {
      "text/html": [
       "<pre>| Iteration | Elapsed Time | Training-accuracy | Training-log_loss | Validation-accuracy | Validation-log_loss |</pre>"
      ],
      "text/plain": [
       "| Iteration | Elapsed Time | Training-accuracy | Training-log_loss | Validation-accuracy | Validation-log_loss |"
      ]
     },
     "metadata": {},
     "output_type": "display_data"
    },
    {
     "data": {
      "text/html": [
       "<pre>+-----------+--------------+-------------------+-------------------+---------------------+---------------------+</pre>"
      ],
      "text/plain": [
       "+-----------+--------------+-------------------+-------------------+---------------------+---------------------+"
      ]
     },
     "metadata": {},
     "output_type": "display_data"
    },
    {
     "data": {
      "text/html": [
       "<pre>| 1         | 1.707407     | 0.207742          | 2.398939          | 0.181187            | 2.431706            |</pre>"
      ],
      "text/plain": [
       "| 1         | 1.707407     | 0.207742          | 2.398939          | 0.181187            | 2.431706            |"
      ]
     },
     "metadata": {},
     "output_type": "display_data"
    },
    {
     "data": {
      "text/html": [
       "<pre>| 2         | 3.564094     | 0.217470          | 2.349591          | 0.184139            | 2.395313            |</pre>"
      ],
      "text/plain": [
       "| 2         | 3.564094     | 0.217470          | 2.349591          | 0.184139            | 2.395313            |"
      ]
     },
     "metadata": {},
     "output_type": "display_data"
    },
    {
     "data": {
      "text/html": [
       "<pre>| 3         | 5.439621     | 0.224445          | 2.314693          | 0.186131            | 2.369950            |</pre>"
      ],
      "text/plain": [
       "| 3         | 5.439621     | 0.224445          | 2.314693          | 0.186131            | 2.369950            |"
      ]
     },
     "metadata": {},
     "output_type": "display_data"
    },
    {
     "data": {
      "text/html": [
       "<pre>| 4         | 7.293830     | 0.229355          | 2.288953          | 0.187178            | 2.351452            |</pre>"
      ],
      "text/plain": [
       "| 4         | 7.293830     | 0.229355          | 2.288953          | 0.187178            | 2.351452            |"
      ]
     },
     "metadata": {},
     "output_type": "display_data"
    },
    {
     "data": {
      "text/html": [
       "<pre>| 5         | 9.181050     | 0.234621          | 2.267818          | 0.186304            | 2.337956            |</pre>"
      ],
      "text/plain": [
       "| 5         | 9.181050     | 0.234621          | 2.267818          | 0.186304            | 2.337956            |"
      ]
     },
     "metadata": {},
     "output_type": "display_data"
    },
    {
     "data": {
      "text/html": [
       "<pre>| 6         | 11.056369    | 0.237956          | 2.251667          | 0.186172            | 2.328799            |</pre>"
      ],
      "text/plain": [
       "| 6         | 11.056369    | 0.237956          | 2.251667          | 0.186172            | 2.328799            |"
      ]
     },
     "metadata": {},
     "output_type": "display_data"
    },
    {
     "data": {
      "text/html": [
       "<pre>| 7         | 12.930415    | 0.241453          | 2.238776          | 0.186761            | 2.320201            |</pre>"
      ],
      "text/plain": [
       "| 7         | 12.930415    | 0.241453          | 2.238776          | 0.186761            | 2.320201            |"
      ]
     },
     "metadata": {},
     "output_type": "display_data"
    },
    {
     "data": {
      "text/html": [
       "<pre>| 8         | 14.791575    | 0.245328          | 2.227501          | 0.186792            | 2.314483            |</pre>"
      ],
      "text/plain": [
       "| 8         | 14.791575    | 0.245328          | 2.227501          | 0.186792            | 2.314483            |"
      ]
     },
     "metadata": {},
     "output_type": "display_data"
    },
    {
     "data": {
      "text/html": [
       "<pre>| 9         | 16.679139    | 0.248604          | 2.217169          | 0.186914            | 2.310801            |</pre>"
      ],
      "text/plain": [
       "| 9         | 16.679139    | 0.248604          | 2.217169          | 0.186914            | 2.310801            |"
      ]
     },
     "metadata": {},
     "output_type": "display_data"
    },
    {
     "data": {
      "text/html": [
       "<pre>| 10        | 18.543698    | 0.251673          | 2.208962          | 0.186782            | 2.307137            |</pre>"
      ],
      "text/plain": [
       "| 10        | 18.543698    | 0.251673          | 2.208962          | 0.186782            | 2.307137            |"
      ]
     },
     "metadata": {},
     "output_type": "display_data"
    },
    {
     "data": {
      "text/html": [
       "<pre>| 11        | 20.416874    | 0.253885          | 2.201723          | 0.186746            | 2.304772            |</pre>"
      ],
      "text/plain": [
       "| 11        | 20.416874    | 0.253885          | 2.201723          | 0.186746            | 2.304772            |"
      ]
     },
     "metadata": {},
     "output_type": "display_data"
    },
    {
     "data": {
      "text/html": [
       "<pre>| 12        | 22.271578    | 0.255810          | 2.195580          | 0.187178            | 2.302579            |</pre>"
      ],
      "text/plain": [
       "| 12        | 22.271578    | 0.255810          | 2.195580          | 0.187178            | 2.302579            |"
      ]
     },
     "metadata": {},
     "output_type": "display_data"
    },
    {
     "data": {
      "text/html": [
       "<pre>| 13        | 24.128221    | 0.258011          | 2.189316          | 0.186888            | 2.300695            |</pre>"
      ],
      "text/plain": [
       "| 13        | 24.128221    | 0.258011          | 2.189316          | 0.186888            | 2.300695            |"
      ]
     },
     "metadata": {},
     "output_type": "display_data"
    },
    {
     "data": {
      "text/html": [
       "<pre>| 14        | 25.987229    | 0.259724          | 2.183790          | 0.187173            | 2.298813            |</pre>"
      ],
      "text/plain": [
       "| 14        | 25.987229    | 0.259724          | 2.183790          | 0.187173            | 2.298813            |"
      ]
     },
     "metadata": {},
     "output_type": "display_data"
    },
    {
     "data": {
      "text/html": [
       "<pre>| 15        | 27.858197    | 0.261459          | 2.178779          | 0.187539            | 2.297417            |</pre>"
      ],
      "text/plain": [
       "| 15        | 27.858197    | 0.261459          | 2.178779          | 0.187539            | 2.297417            |"
      ]
     },
     "metadata": {},
     "output_type": "display_data"
    },
    {
     "data": {
      "text/html": [
       "<pre>| 16        | 29.734168    | 0.263348          | 2.173766          | 0.187900            | 2.295716            |</pre>"
      ],
      "text/plain": [
       "| 16        | 29.734168    | 0.263348          | 2.173766          | 0.187900            | 2.295716            |"
      ]
     },
     "metadata": {},
     "output_type": "display_data"
    },
    {
     "data": {
      "text/html": [
       "<pre>| 17        | 31.575905    | 0.264786          | 2.169851          | 0.188489            | 2.292303            |</pre>"
      ],
      "text/plain": [
       "| 17        | 31.575905    | 0.264786          | 2.169851          | 0.188489            | 2.292303            |"
      ]
     },
     "metadata": {},
     "output_type": "display_data"
    },
    {
     "data": {
      "text/html": [
       "<pre>| 18        | 33.408375    | 0.266468          | 2.165505          | 0.188987            | 2.290543            |</pre>"
      ],
      "text/plain": [
       "| 18        | 33.408375    | 0.266468          | 2.165505          | 0.188987            | 2.290543            |"
      ]
     },
     "metadata": {},
     "output_type": "display_data"
    },
    {
     "data": {
      "text/html": [
       "<pre>| 19        | 35.260689    | 0.267729          | 2.162156          | 0.188926            | 2.289984            |</pre>"
      ],
      "text/plain": [
       "| 19        | 35.260689    | 0.267729          | 2.162156          | 0.188926            | 2.289984            |"
      ]
     },
     "metadata": {},
     "output_type": "display_data"
    },
    {
     "data": {
      "text/html": [
       "<pre>| 20        | 37.112165    | 0.268609          | 2.159061          | 0.189170            | 2.289575            |</pre>"
      ],
      "text/plain": [
       "| 20        | 37.112165    | 0.268609          | 2.159061          | 0.189170            | 2.289575            |"
      ]
     },
     "metadata": {},
     "output_type": "display_data"
    },
    {
     "data": {
      "text/html": [
       "<pre>| 21        | 38.970068    | 0.269520          | 2.155622          | 0.189073            | 2.289054            |</pre>"
      ],
      "text/plain": [
       "| 21        | 38.970068    | 0.269520          | 2.155622          | 0.189073            | 2.289054            |"
      ]
     },
     "metadata": {},
     "output_type": "display_data"
    },
    {
     "data": {
      "text/html": [
       "<pre>| 22        | 40.828392    | 0.270561          | 2.152730          | 0.188885            | 2.289379            |</pre>"
      ],
      "text/plain": [
       "| 22        | 40.828392    | 0.270561          | 2.152730          | 0.188885            | 2.289379            |"
      ]
     },
     "metadata": {},
     "output_type": "display_data"
    },
    {
     "data": {
      "text/html": [
       "<pre>| 23        | 42.680708    | 0.271761          | 2.149566          | 0.188901            | 2.288918            |</pre>"
      ],
      "text/plain": [
       "| 23        | 42.680708    | 0.271761          | 2.149566          | 0.188901            | 2.288918            |"
      ]
     },
     "metadata": {},
     "output_type": "display_data"
    },
    {
     "data": {
      "text/html": [
       "<pre>| 24        | 44.553483    | 0.272822          | 2.146376          | 0.188916            | 2.288522            |</pre>"
      ],
      "text/plain": [
       "| 24        | 44.553483    | 0.272822          | 2.146376          | 0.188916            | 2.288522            |"
      ]
     },
     "metadata": {},
     "output_type": "display_data"
    },
    {
     "data": {
      "text/html": [
       "<pre>| 25        | 46.394845    | 0.273982          | 2.143574          | 0.188967            | 2.287742            |</pre>"
      ],
      "text/plain": [
       "| 25        | 46.394845    | 0.273982          | 2.143574          | 0.188967            | 2.287742            |"
      ]
     },
     "metadata": {},
     "output_type": "display_data"
    },
    {
     "data": {
      "text/html": [
       "<pre>| 26        | 48.219759    | 0.274890          | 2.141212          | 0.189190            | 2.287212            |</pre>"
      ],
      "text/plain": [
       "| 26        | 48.219759    | 0.274890          | 2.141212          | 0.189190            | 2.287212            |"
      ]
     },
     "metadata": {},
     "output_type": "display_data"
    },
    {
     "data": {
      "text/html": [
       "<pre>| 27        | 50.067211    | 0.275538          | 2.139002          | 0.189571            | 2.286479            |</pre>"
      ],
      "text/plain": [
       "| 27        | 50.067211    | 0.275538          | 2.139002          | 0.189571            | 2.286479            |"
      ]
     },
     "metadata": {},
     "output_type": "display_data"
    },
    {
     "data": {
      "text/html": [
       "<pre>| 28        | 51.907985    | 0.276321          | 2.136520          | 0.190344            | 2.285602            |</pre>"
      ],
      "text/plain": [
       "| 28        | 51.907985    | 0.276321          | 2.136520          | 0.190344            | 2.285602            |"
      ]
     },
     "metadata": {},
     "output_type": "display_data"
    },
    {
     "data": {
      "text/html": [
       "<pre>| 29        | 53.775495    | 0.277123          | 2.134220          | 0.190425            | 2.285678            |</pre>"
      ],
      "text/plain": [
       "| 29        | 53.775495    | 0.277123          | 2.134220          | 0.190425            | 2.285678            |"
      ]
     },
     "metadata": {},
     "output_type": "display_data"
    },
    {
     "data": {
      "text/html": [
       "<pre>| 30        | 55.653899    | 0.277910          | 2.131816          | 0.190328            | 2.285511            |</pre>"
      ],
      "text/plain": [
       "| 30        | 55.653899    | 0.277910          | 2.131816          | 0.190328            | 2.285511            |"
      ]
     },
     "metadata": {},
     "output_type": "display_data"
    },
    {
     "data": {
      "text/html": [
       "<pre>| 31        | 57.504981    | 0.278553          | 2.129796          | 0.190369            | 2.285342            |</pre>"
      ],
      "text/plain": [
       "| 31        | 57.504981    | 0.278553          | 2.129796          | 0.190369            | 2.285342            |"
      ]
     },
     "metadata": {},
     "output_type": "display_data"
    },
    {
     "data": {
      "text/html": [
       "<pre>| 32        | 59.354315    | 0.279437          | 2.127309          | 0.190333            | 2.284875            |</pre>"
      ],
      "text/plain": [
       "| 32        | 59.354315    | 0.279437          | 2.127309          | 0.190333            | 2.284875            |"
      ]
     },
     "metadata": {},
     "output_type": "display_data"
    },
    {
     "data": {
      "text/html": [
       "<pre>| 33        | 61.188541    | 0.280027          | 2.125359          | 0.190415            | 2.284934            |</pre>"
      ],
      "text/plain": [
       "| 33        | 61.188541    | 0.280027          | 2.125359          | 0.190415            | 2.284934            |"
      ]
     },
     "metadata": {},
     "output_type": "display_data"
    },
    {
     "data": {
      "text/html": [
       "<pre>| 34        | 63.070704    | 0.280625          | 2.123532          | 0.190588            | 2.284583            |</pre>"
      ],
      "text/plain": [
       "| 34        | 63.070704    | 0.280625          | 2.123532          | 0.190588            | 2.284583            |"
      ]
     },
     "metadata": {},
     "output_type": "display_data"
    },
    {
     "data": {
      "text/html": [
       "<pre>| 35        | 64.911356    | 0.281208          | 2.121408          | 0.190740            | 2.284291            |</pre>"
      ],
      "text/plain": [
       "| 35        | 64.911356    | 0.281208          | 2.121408          | 0.190740            | 2.284291            |"
      ]
     },
     "metadata": {},
     "output_type": "display_data"
    },
    {
     "data": {
      "text/html": [
       "<pre>| 36        | 66.753656    | 0.281761          | 2.119646          | 0.190623            | 2.284116            |</pre>"
      ],
      "text/plain": [
       "| 36        | 66.753656    | 0.281761          | 2.119646          | 0.190623            | 2.284116            |"
      ]
     },
     "metadata": {},
     "output_type": "display_data"
    },
    {
     "data": {
      "text/html": [
       "<pre>| 37        | 68.605088    | 0.282483          | 2.117698          | 0.190359            | 2.283913            |</pre>"
      ],
      "text/plain": [
       "| 37        | 68.605088    | 0.282483          | 2.117698          | 0.190359            | 2.283913            |"
      ]
     },
     "metadata": {},
     "output_type": "display_data"
    },
    {
     "data": {
      "text/html": [
       "<pre>| 38        | 70.453479    | 0.283139          | 2.115976          | 0.190013            | 2.283592            |</pre>"
      ],
      "text/plain": [
       "| 38        | 70.453479    | 0.283139          | 2.115976          | 0.190013            | 2.283592            |"
      ]
     },
     "metadata": {},
     "output_type": "display_data"
    },
    {
     "data": {
      "text/html": [
       "<pre>| 39        | 72.288144    | 0.283705          | 2.114108          | 0.189922            | 2.283237            |</pre>"
      ],
      "text/plain": [
       "| 39        | 72.288144    | 0.283705          | 2.114108          | 0.189922            | 2.283237            |"
      ]
     },
     "metadata": {},
     "output_type": "display_data"
    },
    {
     "data": {
      "text/html": [
       "<pre>| 40        | 74.128917    | 0.284052          | 2.112773          | 0.189790            | 2.283286            |</pre>"
      ],
      "text/plain": [
       "| 40        | 74.128917    | 0.284052          | 2.112773          | 0.189790            | 2.283286            |"
      ]
     },
     "metadata": {},
     "output_type": "display_data"
    },
    {
     "data": {
      "text/html": [
       "<pre>| 41        | 75.972502    | 0.284423          | 2.111372          | 0.190003            | 2.283208            |</pre>"
      ],
      "text/plain": [
       "| 41        | 75.972502    | 0.284423          | 2.111372          | 0.190003            | 2.283208            |"
      ]
     },
     "metadata": {},
     "output_type": "display_data"
    },
    {
     "data": {
      "text/html": [
       "<pre>| 42        | 77.809009    | 0.284813          | 2.110182          | 0.190369            | 2.283012            |</pre>"
      ],
      "text/plain": [
       "| 42        | 77.809009    | 0.284813          | 2.110182          | 0.190369            | 2.283012            |"
      ]
     },
     "metadata": {},
     "output_type": "display_data"
    },
    {
     "data": {
      "text/html": [
       "<pre>| 43        | 79.665185    | 0.285258          | 2.108686          | 0.190572            | 2.282937            |</pre>"
      ],
      "text/plain": [
       "| 43        | 79.665185    | 0.285258          | 2.108686          | 0.190572            | 2.282937            |"
      ]
     },
     "metadata": {},
     "output_type": "display_data"
    },
    {
     "data": {
      "text/html": [
       "<pre>| 44        | 81.536837    | 0.285802          | 2.107129          | 0.190608            | 2.282994            |</pre>"
      ],
      "text/plain": [
       "| 44        | 81.536837    | 0.285802          | 2.107129          | 0.190608            | 2.282994            |"
      ]
     },
     "metadata": {},
     "output_type": "display_data"
    },
    {
     "data": {
      "text/html": [
       "<pre>| 45        | 83.399528    | 0.286440          | 2.105632          | 0.190455            | 2.282837            |</pre>"
      ],
      "text/plain": [
       "| 45        | 83.399528    | 0.286440          | 2.105632          | 0.190455            | 2.282837            |"
      ]
     },
     "metadata": {},
     "output_type": "display_data"
    },
    {
     "data": {
      "text/html": [
       "<pre>| 46        | 85.225441    | 0.286804          | 2.104177          | 0.190542            | 2.281991            |</pre>"
      ],
      "text/plain": [
       "| 46        | 85.225441    | 0.286804          | 2.104177          | 0.190542            | 2.281991            |"
      ]
     },
     "metadata": {},
     "output_type": "display_data"
    },
    {
     "data": {
      "text/html": [
       "<pre>| 47        | 87.087759    | 0.287084          | 2.102897          | 0.190669            | 2.281996            |</pre>"
      ],
      "text/plain": [
       "| 47        | 87.087759    | 0.287084          | 2.102897          | 0.190669            | 2.281996            |"
      ]
     },
     "metadata": {},
     "output_type": "display_data"
    },
    {
     "data": {
      "text/html": [
       "<pre>| 48        | 88.927141    | 0.287384          | 2.101635          | 0.190730            | 2.281993            |</pre>"
      ],
      "text/plain": [
       "| 48        | 88.927141    | 0.287384          | 2.101635          | 0.190730            | 2.281993            |"
      ]
     },
     "metadata": {},
     "output_type": "display_data"
    },
    {
     "data": {
      "text/html": [
       "<pre>| 49        | 90.759445    | 0.287832          | 2.100422          | 0.190633            | 2.281910            |</pre>"
      ],
      "text/plain": [
       "| 49        | 90.759445    | 0.287832          | 2.100422          | 0.190633            | 2.281910            |"
      ]
     },
     "metadata": {},
     "output_type": "display_data"
    },
    {
     "data": {
      "text/html": [
       "<pre>| 50        | 92.601308    | 0.288276          | 2.099236          | 0.190659            | 2.281642            |</pre>"
      ],
      "text/plain": [
       "| 50        | 92.601308    | 0.288276          | 2.099236          | 0.190659            | 2.281642            |"
      ]
     },
     "metadata": {},
     "output_type": "display_data"
    },
    {
     "data": {
      "text/html": [
       "<pre>+-----------+--------------+-------------------+-------------------+---------------------+---------------------+</pre>"
      ],
      "text/plain": [
       "+-----------+--------------+-------------------+-------------------+---------------------+---------------------+"
      ]
     },
     "metadata": {},
     "output_type": "display_data"
    }
   ],
   "source": [
    "target = \"group\"\n",
    "features = ['installed_app_id']\n",
    "model = gl.classifier.boosted_trees_classifier.create(fold_train,\n",
    "                                                      target=target, features=features,\n",
    "                                                      validation_set=fold_val, max_iterations = 50)"
   ]
  },
  {
   "cell_type": "markdown",
   "metadata": {},
   "source": [
    "### 2) time feature"
   ]
  },
  {
   "cell_type": "code",
   "execution_count": 71,
   "metadata": {
    "collapsed": false
   },
   "outputs": [
    {
     "data": {
      "text/html": [
       "<pre>Boosted trees classifier:</pre>"
      ],
      "text/plain": [
       "Boosted trees classifier:"
      ]
     },
     "metadata": {},
     "output_type": "display_data"
    },
    {
     "data": {
      "text/html": [
       "<pre>--------------------------------------------------------</pre>"
      ],
      "text/plain": [
       "--------------------------------------------------------"
      ]
     },
     "metadata": {},
     "output_type": "display_data"
    },
    {
     "data": {
      "text/html": [
       "<pre>Number of examples          : 770373</pre>"
      ],
      "text/plain": [
       "Number of examples          : 770373"
      ]
     },
     "metadata": {},
     "output_type": "display_data"
    },
    {
     "data": {
      "text/html": [
       "<pre>Number of classes           : 12</pre>"
      ],
      "text/plain": [
       "Number of classes           : 12"
      ]
     },
     "metadata": {},
     "output_type": "display_data"
    },
    {
     "data": {
      "text/html": [
       "<pre>Number of feature columns   : 1</pre>"
      ],
      "text/plain": [
       "Number of feature columns   : 1"
      ]
     },
     "metadata": {},
     "output_type": "display_data"
    },
    {
     "data": {
      "text/html": [
       "<pre>Number of unpacked features : 1</pre>"
      ],
      "text/plain": [
       "Number of unpacked features : 1"
      ]
     },
     "metadata": {},
     "output_type": "display_data"
    },
    {
     "data": {
      "text/html": [
       "<pre>+-----------+--------------+-------------------+-------------------+---------------------+---------------------+</pre>"
      ],
      "text/plain": [
       "+-----------+--------------+-------------------+-------------------+---------------------+---------------------+"
      ]
     },
     "metadata": {},
     "output_type": "display_data"
    },
    {
     "data": {
      "text/html": [
       "<pre>| Iteration | Elapsed Time | Training-accuracy | Training-log_loss | Validation-accuracy | Validation-log_loss |</pre>"
      ],
      "text/plain": [
       "| Iteration | Elapsed Time | Training-accuracy | Training-log_loss | Validation-accuracy | Validation-log_loss |"
      ]
     },
     "metadata": {},
     "output_type": "display_data"
    },
    {
     "data": {
      "text/html": [
       "<pre>+-----------+--------------+-------------------+-------------------+---------------------+---------------------+</pre>"
      ],
      "text/plain": [
       "+-----------+--------------+-------------------+-------------------+---------------------+---------------------+"
      ]
     },
     "metadata": {},
     "output_type": "display_data"
    },
    {
     "data": {
      "text/html": [
       "<pre>| 1         | 0.662723     | 0.174913          | 2.437803          | 0.177295            | 2.434620            |</pre>"
      ],
      "text/plain": [
       "| 1         | 0.662723     | 0.174913          | 2.437803          | 0.177295            | 2.434620            |"
      ]
     },
     "metadata": {},
     "output_type": "display_data"
    },
    {
     "data": {
      "text/html": [
       "<pre>| 2         | 1.314320     | 0.174913          | 2.407260          | 0.177295            | 2.401454            |</pre>"
      ],
      "text/plain": [
       "| 2         | 1.314320     | 0.174913          | 2.407260          | 0.177295            | 2.401454            |"
      ]
     },
     "metadata": {},
     "output_type": "display_data"
    },
    {
     "data": {
      "text/html": [
       "<pre>| 3         | 1.974478     | 0.174913          | 2.386665          | 0.177295            | 2.378674            |</pre>"
      ],
      "text/plain": [
       "| 3         | 1.974478     | 0.174913          | 2.386665          | 0.177295            | 2.378674            |"
      ]
     },
     "metadata": {},
     "output_type": "display_data"
    },
    {
     "data": {
      "text/html": [
       "<pre>| 4         | 2.627526     | 0.174913          | 2.372478          | 0.177295            | 2.362652            |</pre>"
      ],
      "text/plain": [
       "| 4         | 2.627526     | 0.174913          | 2.372478          | 0.177295            | 2.362652            |"
      ]
     },
     "metadata": {},
     "output_type": "display_data"
    },
    {
     "data": {
      "text/html": [
       "<pre>| 5         | 3.282986     | 0.174913          | 2.362581          | 0.177295            | 2.351206            |</pre>"
      ],
      "text/plain": [
       "| 5         | 3.282986     | 0.174913          | 2.362581          | 0.177295            | 2.351206            |"
      ]
     },
     "metadata": {},
     "output_type": "display_data"
    },
    {
     "data": {
      "text/html": [
       "<pre>| 6         | 3.931922     | 0.174913          | 2.355623          | 0.177295            | 2.342938            |</pre>"
      ],
      "text/plain": [
       "| 6         | 3.931922     | 0.174913          | 2.355623          | 0.177295            | 2.342938            |"
      ]
     },
     "metadata": {},
     "output_type": "display_data"
    },
    {
     "data": {
      "text/html": [
       "<pre>| 10        | 6.534404     | 0.174913          | 2.343014          | 0.177295            | 2.326810            |</pre>"
      ],
      "text/plain": [
       "| 10        | 6.534404     | 0.174913          | 2.343014          | 0.177295            | 2.326810            |"
      ]
     },
     "metadata": {},
     "output_type": "display_data"
    },
    {
     "data": {
      "text/html": [
       "<pre>| 11        | 7.199923     | 0.174913          | 2.341773          | 0.177295            | 2.325000            |</pre>"
      ],
      "text/plain": [
       "| 11        | 7.199923     | 0.174913          | 2.341773          | 0.177295            | 2.325000            |"
      ]
     },
     "metadata": {},
     "output_type": "display_data"
    },
    {
     "data": {
      "text/html": [
       "<pre>| 15        | 9.942916     | 0.174913          | 2.339518          | 0.177295            | 2.321223            |</pre>"
      ],
      "text/plain": [
       "| 15        | 9.942916     | 0.174913          | 2.339518          | 0.177295            | 2.321223            |"
      ]
     },
     "metadata": {},
     "output_type": "display_data"
    },
    {
     "data": {
      "text/html": [
       "<pre>| 20        | 13.204209    | 0.174913          | 2.338900          | 0.177295            | 2.319718            |</pre>"
      ],
      "text/plain": [
       "| 20        | 13.204209    | 0.174913          | 2.338900          | 0.177295            | 2.319718            |"
      ]
     },
     "metadata": {},
     "output_type": "display_data"
    },
    {
     "data": {
      "text/html": [
       "<pre>| 25        | 16.461445    | 0.174913          | 2.338792          | 0.177295            | 2.319239            |</pre>"
      ],
      "text/plain": [
       "| 25        | 16.461445    | 0.174913          | 2.338792          | 0.177295            | 2.319239            |"
      ]
     },
     "metadata": {},
     "output_type": "display_data"
    },
    {
     "data": {
      "text/html": [
       "<pre>| 30        | 19.748312    | 0.174913          | 2.338773          | 0.177295            | 2.319067            |</pre>"
      ],
      "text/plain": [
       "| 30        | 19.748312    | 0.174913          | 2.338773          | 0.177295            | 2.319067            |"
      ]
     },
     "metadata": {},
     "output_type": "display_data"
    },
    {
     "data": {
      "text/html": [
       "<pre>| 35        | 22.907228    | 0.174913          | 2.338770          | 0.177295            | 2.319000            |</pre>"
      ],
      "text/plain": [
       "| 35        | 22.907228    | 0.174913          | 2.338770          | 0.177295            | 2.319000            |"
      ]
     },
     "metadata": {},
     "output_type": "display_data"
    },
    {
     "data": {
      "text/html": [
       "<pre>| 40        | 25.892750    | 0.174913          | 2.338769          | 0.177295            | 2.318974            |</pre>"
      ],
      "text/plain": [
       "| 40        | 25.892750    | 0.174913          | 2.338769          | 0.177295            | 2.318974            |"
      ]
     },
     "metadata": {},
     "output_type": "display_data"
    },
    {
     "data": {
      "text/html": [
       "<pre>| 45        | 28.749575    | 0.174913          | 2.338769          | 0.177295            | 2.318963            |</pre>"
      ],
      "text/plain": [
       "| 45        | 28.749575    | 0.174913          | 2.338769          | 0.177295            | 2.318963            |"
      ]
     },
     "metadata": {},
     "output_type": "display_data"
    },
    {
     "data": {
      "text/html": [
       "<pre>| 50        | 31.443911    | 0.174913          | 2.338769          | 0.177295            | 2.318958            |</pre>"
      ],
      "text/plain": [
       "| 50        | 31.443911    | 0.174913          | 2.338769          | 0.177295            | 2.318958            |"
      ]
     },
     "metadata": {},
     "output_type": "display_data"
    },
    {
     "data": {
      "text/html": [
       "<pre>+-----------+--------------+-------------------+-------------------+---------------------+---------------------+</pre>"
      ],
      "text/plain": [
       "+-----------+--------------+-------------------+-------------------+---------------------+---------------------+"
      ]
     },
     "metadata": {},
     "output_type": "display_data"
    }
   ],
   "source": [
    "target = \"group\"\n",
    "features = ['period']\n",
    "model = gl.classifier.boosted_trees_classifier.create(fold_train,\n",
    "                                                      target=target, features=features,\n",
    "                                                      validation_set=fold_val, max_iterations = 50)"
   ]
  },
  {
   "cell_type": "code",
   "execution_count": 72,
   "metadata": {
    "collapsed": false
   },
   "outputs": [
    {
     "data": {
      "text/html": [
       "<pre>Boosted trees classifier:</pre>"
      ],
      "text/plain": [
       "Boosted trees classifier:"
      ]
     },
     "metadata": {},
     "output_type": "display_data"
    },
    {
     "data": {
      "text/html": [
       "<pre>--------------------------------------------------------</pre>"
      ],
      "text/plain": [
       "--------------------------------------------------------"
      ]
     },
     "metadata": {},
     "output_type": "display_data"
    },
    {
     "data": {
      "text/html": [
       "<pre>Number of examples          : 770373</pre>"
      ],
      "text/plain": [
       "Number of examples          : 770373"
      ]
     },
     "metadata": {},
     "output_type": "display_data"
    },
    {
     "data": {
      "text/html": [
       "<pre>Number of classes           : 12</pre>"
      ],
      "text/plain": [
       "Number of classes           : 12"
      ]
     },
     "metadata": {},
     "output_type": "display_data"
    },
    {
     "data": {
      "text/html": [
       "<pre>Number of feature columns   : 1</pre>"
      ],
      "text/plain": [
       "Number of feature columns   : 1"
      ]
     },
     "metadata": {},
     "output_type": "display_data"
    },
    {
     "data": {
      "text/html": [
       "<pre>Number of unpacked features : 1</pre>"
      ],
      "text/plain": [
       "Number of unpacked features : 1"
      ]
     },
     "metadata": {},
     "output_type": "display_data"
    },
    {
     "data": {
      "text/html": [
       "<pre>+-----------+--------------+-------------------+-------------------+---------------------+---------------------+</pre>"
      ],
      "text/plain": [
       "+-----------+--------------+-------------------+-------------------+---------------------+---------------------+"
      ]
     },
     "metadata": {},
     "output_type": "display_data"
    },
    {
     "data": {
      "text/html": [
       "<pre>| Iteration | Elapsed Time | Training-accuracy | Training-log_loss | Validation-accuracy | Validation-log_loss |</pre>"
      ],
      "text/plain": [
       "| Iteration | Elapsed Time | Training-accuracy | Training-log_loss | Validation-accuracy | Validation-log_loss |"
      ]
     },
     "metadata": {},
     "output_type": "display_data"
    },
    {
     "data": {
      "text/html": [
       "<pre>+-----------+--------------+-------------------+-------------------+---------------------+---------------------+</pre>"
      ],
      "text/plain": [
       "+-----------+--------------+-------------------+-------------------+---------------------+---------------------+"
      ]
     },
     "metadata": {},
     "output_type": "display_data"
    },
    {
     "data": {
      "text/html": [
       "<pre>| 1         | 0.783549     | 0.174913          | 2.438025          | 0.177295            | 2.435014            |</pre>"
      ],
      "text/plain": [
       "| 1         | 0.783549     | 0.174913          | 2.438025          | 0.177295            | 2.435014            |"
      ]
     },
     "metadata": {},
     "output_type": "display_data"
    },
    {
     "data": {
      "text/html": [
       "<pre>| 2         | 1.553036     | 0.174913          | 2.407583          | 0.177295            | 2.402127            |</pre>"
      ],
      "text/plain": [
       "| 2         | 1.553036     | 0.174913          | 2.407583          | 0.177295            | 2.402127            |"
      ]
     },
     "metadata": {},
     "output_type": "display_data"
    },
    {
     "data": {
      "text/html": [
       "<pre>| 3         | 2.313018     | 0.174913          | 2.387044          | 0.177295            | 2.379560            |</pre>"
      ],
      "text/plain": [
       "| 3         | 2.313018     | 0.174913          | 2.387044          | 0.177295            | 2.379560            |"
      ]
     },
     "metadata": {},
     "output_type": "display_data"
    },
    {
     "data": {
      "text/html": [
       "<pre>| 4         | 3.079666     | 0.174913          | 2.372890          | 0.177295            | 2.363708            |</pre>"
      ],
      "text/plain": [
       "| 4         | 3.079666     | 0.174913          | 2.372890          | 0.177295            | 2.363708            |"
      ]
     },
     "metadata": {},
     "output_type": "display_data"
    },
    {
     "data": {
      "text/html": [
       "<pre>| 5         | 3.852949     | 0.174913          | 2.363015          | 0.177295            | 2.352400            |</pre>"
      ],
      "text/plain": [
       "| 5         | 3.852949     | 0.174913          | 2.363015          | 0.177295            | 2.352400            |"
      ]
     },
     "metadata": {},
     "output_type": "display_data"
    },
    {
     "data": {
      "text/html": [
       "<pre>| 6         | 4.621806     | 0.174913          | 2.356073          | 0.177295            | 2.344245            |</pre>"
      ],
      "text/plain": [
       "| 6         | 4.621806     | 0.174913          | 2.356073          | 0.177295            | 2.344245            |"
      ]
     },
     "metadata": {},
     "output_type": "display_data"
    },
    {
     "data": {
      "text/html": [
       "<pre>| 10        | 7.688448     | 0.174913          | 2.343501          | 0.177295            | 2.328395            |</pre>"
      ],
      "text/plain": [
       "| 10        | 7.688448     | 0.174913          | 2.343501          | 0.177295            | 2.328395            |"
      ]
     },
     "metadata": {},
     "output_type": "display_data"
    },
    {
     "data": {
      "text/html": [
       "<pre>| 11        | 8.460502     | 0.174913          | 2.342266          | 0.177295            | 2.326624            |</pre>"
      ],
      "text/plain": [
       "| 11        | 8.460502     | 0.174913          | 2.342266          | 0.177295            | 2.326624            |"
      ]
     },
     "metadata": {},
     "output_type": "display_data"
    },
    {
     "data": {
      "text/html": [
       "<pre>| 15        | 11.513050    | 0.174913          | 2.340022          | 0.177295            | 2.322943            |</pre>"
      ],
      "text/plain": [
       "| 15        | 11.513050    | 0.174913          | 2.340022          | 0.177295            | 2.322943            |"
      ]
     },
     "metadata": {},
     "output_type": "display_data"
    },
    {
     "data": {
      "text/html": [
       "<pre>| 20        | 15.345614    | 0.174913          | 2.339407          | 0.177295            | 2.321483            |</pre>"
      ],
      "text/plain": [
       "| 20        | 15.345614    | 0.174913          | 2.339407          | 0.177295            | 2.321483            |"
      ]
     },
     "metadata": {},
     "output_type": "display_data"
    },
    {
     "data": {
      "text/html": [
       "<pre>| 25        | 19.163222    | 0.174913          | 2.339300          | 0.177295            | 2.321018            |</pre>"
      ],
      "text/plain": [
       "| 25        | 19.163222    | 0.174913          | 2.339300          | 0.177295            | 2.321018            |"
      ]
     },
     "metadata": {},
     "output_type": "display_data"
    },
    {
     "data": {
      "text/html": [
       "<pre>| 30        | 22.891713    | 0.174913          | 2.339282          | 0.177295            | 2.320851            |</pre>"
      ],
      "text/plain": [
       "| 30        | 22.891713    | 0.174913          | 2.339282          | 0.177295            | 2.320851            |"
      ]
     },
     "metadata": {},
     "output_type": "display_data"
    },
    {
     "data": {
      "text/html": [
       "<pre>| 35        | 26.466195    | 0.174913          | 2.339279          | 0.177295            | 2.320786            |</pre>"
      ],
      "text/plain": [
       "| 35        | 26.466195    | 0.174913          | 2.339279          | 0.177295            | 2.320786            |"
      ]
     },
     "metadata": {},
     "output_type": "display_data"
    },
    {
     "data": {
      "text/html": [
       "<pre>| 40        | 29.788640    | 0.174913          | 2.339278          | 0.177295            | 2.320760            |</pre>"
      ],
      "text/plain": [
       "| 40        | 29.788640    | 0.174913          | 2.339278          | 0.177295            | 2.320760            |"
      ]
     },
     "metadata": {},
     "output_type": "display_data"
    },
    {
     "data": {
      "text/html": [
       "<pre>| 45        | 32.889253    | 0.174913          | 2.339278          | 0.177295            | 2.320749            |</pre>"
      ],
      "text/plain": [
       "| 45        | 32.889253    | 0.174913          | 2.339278          | 0.177295            | 2.320749            |"
      ]
     },
     "metadata": {},
     "output_type": "display_data"
    },
    {
     "data": {
      "text/html": [
       "<pre>| 50        | 35.691710    | 0.174913          | 2.339278          | 0.177295            | 2.320744            |</pre>"
      ],
      "text/plain": [
       "| 50        | 35.691710    | 0.174913          | 2.339278          | 0.177295            | 2.320744            |"
      ]
     },
     "metadata": {},
     "output_type": "display_data"
    },
    {
     "data": {
      "text/html": [
       "<pre>+-----------+--------------+-------------------+-------------------+---------------------+---------------------+</pre>"
      ],
      "text/plain": [
       "+-----------+--------------+-------------------+-------------------+---------------------+---------------------+"
      ]
     },
     "metadata": {},
     "output_type": "display_data"
    }
   ],
   "source": [
    "target = \"group\"\n",
    "features = ['weekday']\n",
    "model = gl.classifier.boosted_trees_classifier.create(fold_train,\n",
    "                                                      target=target, features=features,\n",
    "                                                      validation_set=fold_val, max_iterations = 50)"
   ]
  },
  {
   "cell_type": "code",
   "execution_count": 73,
   "metadata": {
    "collapsed": false
   },
   "outputs": [
    {
     "data": {
      "text/html": [
       "<pre>Boosted trees classifier:</pre>"
      ],
      "text/plain": [
       "Boosted trees classifier:"
      ]
     },
     "metadata": {},
     "output_type": "display_data"
    },
    {
     "data": {
      "text/html": [
       "<pre>--------------------------------------------------------</pre>"
      ],
      "text/plain": [
       "--------------------------------------------------------"
      ]
     },
     "metadata": {},
     "output_type": "display_data"
    },
    {
     "data": {
      "text/html": [
       "<pre>Number of examples          : 770373</pre>"
      ],
      "text/plain": [
       "Number of examples          : 770373"
      ]
     },
     "metadata": {},
     "output_type": "display_data"
    },
    {
     "data": {
      "text/html": [
       "<pre>Number of classes           : 12</pre>"
      ],
      "text/plain": [
       "Number of classes           : 12"
      ]
     },
     "metadata": {},
     "output_type": "display_data"
    },
    {
     "data": {
      "text/html": [
       "<pre>Number of feature columns   : 2</pre>"
      ],
      "text/plain": [
       "Number of feature columns   : 2"
      ]
     },
     "metadata": {},
     "output_type": "display_data"
    },
    {
     "data": {
      "text/html": [
       "<pre>Number of unpacked features : 2</pre>"
      ],
      "text/plain": [
       "Number of unpacked features : 2"
      ]
     },
     "metadata": {},
     "output_type": "display_data"
    },
    {
     "data": {
      "text/html": [
       "<pre>+-----------+--------------+-------------------+-------------------+---------------------+---------------------+</pre>"
      ],
      "text/plain": [
       "+-----------+--------------+-------------------+-------------------+---------------------+---------------------+"
      ]
     },
     "metadata": {},
     "output_type": "display_data"
    },
    {
     "data": {
      "text/html": [
       "<pre>| Iteration | Elapsed Time | Training-accuracy | Training-log_loss | Validation-accuracy | Validation-log_loss |</pre>"
      ],
      "text/plain": [
       "| Iteration | Elapsed Time | Training-accuracy | Training-log_loss | Validation-accuracy | Validation-log_loss |"
      ]
     },
     "metadata": {},
     "output_type": "display_data"
    },
    {
     "data": {
      "text/html": [
       "<pre>+-----------+--------------+-------------------+-------------------+---------------------+---------------------+</pre>"
      ],
      "text/plain": [
       "+-----------+--------------+-------------------+-------------------+---------------------+---------------------+"
      ]
     },
     "metadata": {},
     "output_type": "display_data"
    },
    {
     "data": {
      "text/html": [
       "<pre>| 1         | 0.878720     | 0.176844          | 2.436911          | 0.177300            | 2.434687            |</pre>"
      ],
      "text/plain": [
       "| 1         | 0.878720     | 0.176844          | 2.436911          | 0.177300            | 2.434687            |"
      ]
     },
     "metadata": {},
     "output_type": "display_data"
    },
    {
     "data": {
      "text/html": [
       "<pre>| 2         | 1.741678     | 0.176844          | 2.405797          | 0.177300            | 2.401716            |</pre>"
      ],
      "text/plain": [
       "| 2         | 1.741678     | 0.176844          | 2.405797          | 0.177300            | 2.401716            |"
      ]
     },
     "metadata": {},
     "output_type": "display_data"
    },
    {
     "data": {
      "text/html": [
       "<pre>| 3         | 2.611083     | 0.176773          | 2.384780          | 0.178174            | 2.379174            |</pre>"
      ],
      "text/plain": [
       "| 3         | 2.611083     | 0.176773          | 2.384780          | 0.178174            | 2.379174            |"
      ]
     },
     "metadata": {},
     "output_type": "display_data"
    },
    {
     "data": {
      "text/html": [
       "<pre>| 4         | 3.473116     | 0.176844          | 2.370293          | 0.177300            | 2.363374            |</pre>"
      ],
      "text/plain": [
       "| 4         | 3.473116     | 0.176844          | 2.370293          | 0.177300            | 2.363374            |"
      ]
     },
     "metadata": {},
     "output_type": "display_data"
    },
    {
     "data": {
      "text/html": [
       "<pre>| 5         | 4.349131     | 0.176844          | 2.360148          | 0.177300            | 2.352177            |</pre>"
      ],
      "text/plain": [
       "| 5         | 4.349131     | 0.176844          | 2.360148          | 0.177300            | 2.352177            |"
      ]
     },
     "metadata": {},
     "output_type": "display_data"
    },
    {
     "data": {
      "text/html": [
       "<pre>| 6         | 5.216762     | 0.176939          | 2.353008          | 0.178174            | 2.344134            |</pre>"
      ],
      "text/plain": [
       "| 6         | 5.216762     | 0.176939          | 2.353008          | 0.178174            | 2.344134            |"
      ]
     },
     "metadata": {},
     "output_type": "display_data"
    },
    {
     "data": {
      "text/html": [
       "<pre>| 10        | 8.680797     | 0.176939          | 2.339960          | 0.178174            | 2.328758            |</pre>"
      ],
      "text/plain": [
       "| 10        | 8.680797     | 0.176939          | 2.339960          | 0.178174            | 2.328758            |"
      ]
     },
     "metadata": {},
     "output_type": "display_data"
    },
    {
     "data": {
      "text/html": [
       "<pre>| 11        | 9.543197     | 0.176939          | 2.338660          | 0.178174            | 2.327114            |</pre>"
      ],
      "text/plain": [
       "| 11        | 9.543197     | 0.176939          | 2.338660          | 0.178174            | 2.327114            |"
      ]
     },
     "metadata": {},
     "output_type": "display_data"
    },
    {
     "data": {
      "text/html": [
       "<pre>| 15        | 12.993782    | 0.177010          | 2.336247          | 0.177300            | 2.323855            |</pre>"
      ],
      "text/plain": [
       "| 15        | 12.993782    | 0.177010          | 2.336247          | 0.177300            | 2.323855            |"
      ]
     },
     "metadata": {},
     "output_type": "display_data"
    },
    {
     "data": {
      "text/html": [
       "<pre>| 20        | 17.319759    | 0.177008          | 2.335565          | 0.176406            | 2.322658            |</pre>"
      ],
      "text/plain": [
       "| 20        | 17.319759    | 0.177008          | 2.335565          | 0.176406            | 2.322658            |"
      ]
     },
     "metadata": {},
     "output_type": "display_data"
    },
    {
     "data": {
      "text/html": [
       "<pre>| 25        | 21.628616    | 0.177008          | 2.335393          | 0.176406            | 2.322362            |</pre>"
      ],
      "text/plain": [
       "| 25        | 21.628616    | 0.177008          | 2.335393          | 0.176406            | 2.322362            |"
      ]
     },
     "metadata": {},
     "output_type": "display_data"
    },
    {
     "data": {
      "text/html": [
       "<pre>| 30        | 25.924498    | 0.177008          | 2.335340          | 0.176406            | 2.322316            |</pre>"
      ],
      "text/plain": [
       "| 30        | 25.924498    | 0.177008          | 2.335340          | 0.176406            | 2.322316            |"
      ]
     },
     "metadata": {},
     "output_type": "display_data"
    },
    {
     "data": {
      "text/html": [
       "<pre>| 35        | 30.214191    | 0.177010          | 2.335329          | 0.177300            | 2.322306            |</pre>"
      ],
      "text/plain": [
       "| 35        | 30.214191    | 0.177010          | 2.335329          | 0.177300            | 2.322306            |"
      ]
     },
     "metadata": {},
     "output_type": "display_data"
    },
    {
     "data": {
      "text/html": [
       "<pre>| 40        | 34.499065    | 0.177010          | 2.335326          | 0.177300            | 2.322306            |</pre>"
      ],
      "text/plain": [
       "| 40        | 34.499065    | 0.177010          | 2.335326          | 0.177300            | 2.322306            |"
      ]
     },
     "metadata": {},
     "output_type": "display_data"
    },
    {
     "data": {
      "text/html": [
       "<pre>| 45        | 38.495989    | 0.177010          | 2.335326          | 0.177300            | 2.322311            |</pre>"
      ],
      "text/plain": [
       "| 45        | 38.495989    | 0.177010          | 2.335326          | 0.177300            | 2.322311            |"
      ]
     },
     "metadata": {},
     "output_type": "display_data"
    },
    {
     "data": {
      "text/html": [
       "<pre>| 50        | 42.068508    | 0.177010          | 2.335326          | 0.177300            | 2.322312            |</pre>"
      ],
      "text/plain": [
       "| 50        | 42.068508    | 0.177010          | 2.335326          | 0.177300            | 2.322312            |"
      ]
     },
     "metadata": {},
     "output_type": "display_data"
    },
    {
     "data": {
      "text/html": [
       "<pre>+-----------+--------------+-------------------+-------------------+---------------------+---------------------+</pre>"
      ],
      "text/plain": [
       "+-----------+--------------+-------------------+-------------------+---------------------+---------------------+"
      ]
     },
     "metadata": {},
     "output_type": "display_data"
    }
   ],
   "source": [
    "target = \"group\"\n",
    "features = ['period','weekday']\n",
    "model = gl.classifier.boosted_trees_classifier.create(fold_train,\n",
    "                                                      target=target, features=features,\n",
    "                                                      validation_set=fold_val, max_iterations = 50)"
   ]
  },
  {
   "cell_type": "markdown",
   "metadata": {},
   "source": [
    "### 3) location features"
   ]
  },
  {
   "cell_type": "code",
   "execution_count": 75,
   "metadata": {
    "collapsed": false
   },
   "outputs": [
    {
     "data": {
      "text/html": [
       "<pre>Boosted trees classifier:</pre>"
      ],
      "text/plain": [
       "Boosted trees classifier:"
      ]
     },
     "metadata": {},
     "output_type": "display_data"
    },
    {
     "data": {
      "text/html": [
       "<pre>--------------------------------------------------------</pre>"
      ],
      "text/plain": [
       "--------------------------------------------------------"
      ]
     },
     "metadata": {},
     "output_type": "display_data"
    },
    {
     "data": {
      "text/html": [
       "<pre>Number of examples          : 770373</pre>"
      ],
      "text/plain": [
       "Number of examples          : 770373"
      ]
     },
     "metadata": {},
     "output_type": "display_data"
    },
    {
     "data": {
      "text/html": [
       "<pre>Number of classes           : 12</pre>"
      ],
      "text/plain": [
       "Number of classes           : 12"
      ]
     },
     "metadata": {},
     "output_type": "display_data"
    },
    {
     "data": {
      "text/html": [
       "<pre>Number of feature columns   : 1</pre>"
      ],
      "text/plain": [
       "Number of feature columns   : 1"
      ]
     },
     "metadata": {},
     "output_type": "display_data"
    },
    {
     "data": {
      "text/html": [
       "<pre>Number of unpacked features : 1</pre>"
      ],
      "text/plain": [
       "Number of unpacked features : 1"
      ]
     },
     "metadata": {},
     "output_type": "display_data"
    },
    {
     "data": {
      "text/html": [
       "<pre>+-----------+--------------+-------------------+-------------------+---------------------+---------------------+</pre>"
      ],
      "text/plain": [
       "+-----------+--------------+-------------------+-------------------+---------------------+---------------------+"
      ]
     },
     "metadata": {},
     "output_type": "display_data"
    },
    {
     "data": {
      "text/html": [
       "<pre>| Iteration | Elapsed Time | Training-accuracy | Training-log_loss | Validation-accuracy | Validation-log_loss |</pre>"
      ],
      "text/plain": [
       "| Iteration | Elapsed Time | Training-accuracy | Training-log_loss | Validation-accuracy | Validation-log_loss |"
      ]
     },
     "metadata": {},
     "output_type": "display_data"
    },
    {
     "data": {
      "text/html": [
       "<pre>+-----------+--------------+-------------------+-------------------+---------------------+---------------------+</pre>"
      ],
      "text/plain": [
       "+-----------+--------------+-------------------+-------------------+---------------------+---------------------+"
      ]
     },
     "metadata": {},
     "output_type": "display_data"
    },
    {
     "data": {
      "text/html": [
       "<pre>| 1         | 1.394040     | 0.263876          | 2.336574          | 0.162691            | 2.437657            |</pre>"
      ],
      "text/plain": [
       "| 1         | 1.394040     | 0.263876          | 2.336574          | 0.162691            | 2.437657            |"
      ]
     },
     "metadata": {},
     "output_type": "display_data"
    },
    {
     "data": {
      "text/html": [
       "<pre>| 2         | 2.762936     | 0.282867          | 2.261318          | 0.161081            | 2.411450            |</pre>"
      ],
      "text/plain": [
       "| 2         | 2.762936     | 0.282867          | 2.261318          | 0.161081            | 2.411450            |"
      ]
     },
     "metadata": {},
     "output_type": "display_data"
    },
    {
     "data": {
      "text/html": [
       "<pre>| 3         | 4.140886     | 0.296284          | 2.207896          | 0.165273            | 2.394834            |</pre>"
      ],
      "text/plain": [
       "| 3         | 4.140886     | 0.296284          | 2.207896          | 0.165273            | 2.394834            |"
      ]
     },
     "metadata": {},
     "output_type": "display_data"
    },
    {
     "data": {
      "text/html": [
       "<pre>| 4         | 5.517186     | 0.309784          | 2.162761          | 0.167051            | 2.381072            |</pre>"
      ],
      "text/plain": [
       "| 4         | 5.517186     | 0.309784          | 2.162761          | 0.167051            | 2.381072            |"
      ]
     },
     "metadata": {},
     "output_type": "display_data"
    },
    {
     "data": {
      "text/html": [
       "<pre>| 5         | 6.901145     | 0.316760          | 2.130878          | 0.155629            | 2.376286            |</pre>"
      ],
      "text/plain": [
       "| 5         | 6.901145     | 0.316760          | 2.130878          | 0.155629            | 2.376286            |"
      ]
     },
     "metadata": {},
     "output_type": "display_data"
    },
    {
     "data": {
      "text/html": [
       "<pre>| 6         | 8.288325     | 0.325820          | 2.101523          | 0.161314            | 2.370596            |</pre>"
      ],
      "text/plain": [
       "| 6         | 8.288325     | 0.325820          | 2.101523          | 0.161314            | 2.370596            |"
      ]
     },
     "metadata": {},
     "output_type": "display_data"
    },
    {
     "data": {
      "text/html": [
       "<pre>| 7         | 9.667863     | 0.330410          | 2.079574          | 0.155446            | 2.368855            |</pre>"
      ],
      "text/plain": [
       "| 7         | 9.667863     | 0.330410          | 2.079574          | 0.155446            | 2.368855            |"
      ]
     },
     "metadata": {},
     "output_type": "display_data"
    },
    {
     "data": {
      "text/html": [
       "<pre>| 8         | 11.047362    | 0.331946          | 2.062991          | 0.155644            | 2.369797            |</pre>"
      ],
      "text/plain": [
       "| 8         | 11.047362    | 0.331946          | 2.062991          | 0.155644            | 2.369797            |"
      ]
     },
     "metadata": {},
     "output_type": "display_data"
    },
    {
     "data": {
      "text/html": [
       "<pre>| 9         | 12.414945    | 0.335349          | 2.045010          | 0.154729            | 2.370802            |</pre>"
      ],
      "text/plain": [
       "| 9         | 12.414945    | 0.335349          | 2.045010          | 0.154729            | 2.370802            |"
      ]
     },
     "metadata": {},
     "output_type": "display_data"
    },
    {
     "data": {
      "text/html": [
       "<pre>| 10        | 13.787150    | 0.341453          | 2.030081          | 0.154419            | 2.370984            |</pre>"
      ],
      "text/plain": [
       "| 10        | 13.787150    | 0.341453          | 2.030081          | 0.154419            | 2.370984            |"
      ]
     },
     "metadata": {},
     "output_type": "display_data"
    },
    {
     "data": {
      "text/html": [
       "<pre>| 11        | 15.166698    | 0.347604          | 2.015997          | 0.151360            | 2.373231            |</pre>"
      ],
      "text/plain": [
       "| 11        | 15.166698    | 0.347604          | 2.015997          | 0.151360            | 2.373231            |"
      ]
     },
     "metadata": {},
     "output_type": "display_data"
    },
    {
     "data": {
      "text/html": [
       "<pre>| 12        | 16.538153    | 0.350760          | 2.003478          | 0.151309            | 2.374871            |</pre>"
      ],
      "text/plain": [
       "| 12        | 16.538153    | 0.350760          | 2.003478          | 0.151309            | 2.374871            |"
      ]
     },
     "metadata": {},
     "output_type": "display_data"
    },
    {
     "data": {
      "text/html": [
       "<pre>| 13        | 17.971038    | 0.354766          | 1.991274          | 0.150186            | 2.378954            |</pre>"
      ],
      "text/plain": [
       "| 13        | 17.971038    | 0.354766          | 1.991274          | 0.150186            | 2.378954            |"
      ]
     },
     "metadata": {},
     "output_type": "display_data"
    },
    {
     "data": {
      "text/html": [
       "<pre>| 14        | 19.387822    | 0.357829          | 1.981809          | 0.151127            | 2.382063            |</pre>"
      ],
      "text/plain": [
       "| 14        | 19.387822    | 0.357829          | 1.981809          | 0.151127            | 2.382063            |"
      ]
     },
     "metadata": {},
     "output_type": "display_data"
    },
    {
     "data": {
      "text/html": [
       "<pre>| 15        | 20.778101    | 0.363076          | 1.970416          | 0.153982            | 2.381693            |</pre>"
      ],
      "text/plain": [
       "| 15        | 20.778101    | 0.363076          | 1.970416          | 0.153982            | 2.381693            |"
      ]
     },
     "metadata": {},
     "output_type": "display_data"
    },
    {
     "data": {
      "text/html": [
       "<pre>| 16        | 22.149217    | 0.366373          | 1.959455          | 0.153891            | 2.382952            |</pre>"
      ],
      "text/plain": [
       "| 16        | 22.149217    | 0.366373          | 1.959455          | 0.153891            | 2.382952            |"
      ]
     },
     "metadata": {},
     "output_type": "display_data"
    },
    {
     "data": {
      "text/html": [
       "<pre>| 17        | 23.530074    | 0.370800          | 1.949154          | 0.158438            | 2.386328            |</pre>"
      ],
      "text/plain": [
       "| 17        | 23.530074    | 0.370800          | 1.949154          | 0.158438            | 2.386328            |"
      ]
     },
     "metadata": {},
     "output_type": "display_data"
    },
    {
     "data": {
      "text/html": [
       "<pre>| 18        | 24.896442    | 0.373912          | 1.940806          | 0.151569            | 2.387903            |</pre>"
      ],
      "text/plain": [
       "| 18        | 24.896442    | 0.373912          | 1.940806          | 0.151569            | 2.387903            |"
      ]
     },
     "metadata": {},
     "output_type": "display_data"
    },
    {
     "data": {
      "text/html": [
       "<pre>| 19        | 26.259450    | 0.374991          | 1.933546          | 0.155507            | 2.386837            |</pre>"
      ],
      "text/plain": [
       "| 19        | 26.259450    | 0.374991          | 1.933546          | 0.155507            | 2.386837            |"
      ]
     },
     "metadata": {},
     "output_type": "display_data"
    },
    {
     "data": {
      "text/html": [
       "<pre>| 20        | 27.627769    | 0.377860          | 1.925400          | 0.150217            | 2.390011            |</pre>"
      ],
      "text/plain": [
       "| 20        | 27.627769    | 0.377860          | 1.925400          | 0.150217            | 2.390011            |"
      ]
     },
     "metadata": {},
     "output_type": "display_data"
    },
    {
     "data": {
      "text/html": [
       "<pre>| 21        | 28.980801    | 0.380503          | 1.916603          | 0.151706            | 2.393857            |</pre>"
      ],
      "text/plain": [
       "| 21        | 28.980801    | 0.380503          | 1.916603          | 0.151706            | 2.393857            |"
      ]
     },
     "metadata": {},
     "output_type": "display_data"
    },
    {
     "data": {
      "text/html": [
       "<pre>| 22        | 30.351631    | 0.381483          | 1.911259          | 0.160491            | 2.396258            |</pre>"
      ],
      "text/plain": [
       "| 22        | 30.351631    | 0.381483          | 1.911259          | 0.160491            | 2.396258            |"
      ]
     },
     "metadata": {},
     "output_type": "display_data"
    },
    {
     "data": {
      "text/html": [
       "<pre>| 23        | 31.721499    | 0.383757          | 1.905699          | 0.157910            | 2.398425            |</pre>"
      ],
      "text/plain": [
       "| 23        | 31.721499    | 0.383757          | 1.905699          | 0.157910            | 2.398425            |"
      ]
     },
     "metadata": {},
     "output_type": "display_data"
    },
    {
     "data": {
      "text/html": [
       "<pre>| 24        | 33.093875    | 0.385945          | 1.900324          | 0.157859            | 2.401076            |</pre>"
      ],
      "text/plain": [
       "| 24        | 33.093875    | 0.385945          | 1.900324          | 0.157859            | 2.401076            |"
      ]
     },
     "metadata": {},
     "output_type": "display_data"
    },
    {
     "data": {
      "text/html": [
       "<pre>| 25        | 34.454550    | 0.387338          | 1.895584          | 0.158449            | 2.403988            |</pre>"
      ],
      "text/plain": [
       "| 25        | 34.454550    | 0.387338          | 1.895584          | 0.158449            | 2.403988            |"
      ]
     },
     "metadata": {},
     "output_type": "display_data"
    },
    {
     "data": {
      "text/html": [
       "<pre>| 26        | 35.859232    | 0.390550          | 1.887449          | 0.158118            | 2.406271            |</pre>"
      ],
      "text/plain": [
       "| 26        | 35.859232    | 0.390550          | 1.887449          | 0.158118            | 2.406271            |"
      ]
     },
     "metadata": {},
     "output_type": "display_data"
    },
    {
     "data": {
      "text/html": [
       "<pre>| 27        | 37.247824    | 0.392718          | 1.879707          | 0.155837            | 2.409593            |</pre>"
      ],
      "text/plain": [
       "| 27        | 37.247824    | 0.392718          | 1.879707          | 0.155837            | 2.409593            |"
      ]
     },
     "metadata": {},
     "output_type": "display_data"
    },
    {
     "data": {
      "text/html": [
       "<pre>| 28        | 38.629768    | 0.394157          | 1.874288          | 0.149480            | 2.413613            |</pre>"
      ],
      "text/plain": [
       "| 28        | 38.629768    | 0.394157          | 1.874288          | 0.149480            | 2.413613            |"
      ]
     },
     "metadata": {},
     "output_type": "display_data"
    },
    {
     "data": {
      "text/html": [
       "<pre>| 29        | 40.001685    | 0.397706          | 1.868570          | 0.148799            | 2.417172            |</pre>"
      ],
      "text/plain": [
       "| 29        | 40.001685    | 0.397706          | 1.868570          | 0.148799            | 2.417172            |"
      ]
     },
     "metadata": {},
     "output_type": "display_data"
    },
    {
     "data": {
      "text/html": [
       "<pre>| 30        | 41.367726    | 0.399291          | 1.862464          | 0.148616            | 2.421353            |</pre>"
      ],
      "text/plain": [
       "| 30        | 41.367726    | 0.399291          | 1.862464          | 0.148616            | 2.421353            |"
      ]
     },
     "metadata": {},
     "output_type": "display_data"
    },
    {
     "data": {
      "text/html": [
       "<pre>| 31        | 42.770319    | 0.400844          | 1.856385          | 0.149028            | 2.424457            |</pre>"
      ],
      "text/plain": [
       "| 31        | 42.770319    | 0.400844          | 1.856385          | 0.149028            | 2.424457            |"
      ]
     },
     "metadata": {},
     "output_type": "display_data"
    },
    {
     "data": {
      "text/html": [
       "<pre>| 32        | 44.158633    | 0.403547          | 1.850855          | 0.148027            | 2.427903            |</pre>"
      ],
      "text/plain": [
       "| 32        | 44.158633    | 0.403547          | 1.850855          | 0.148027            | 2.427903            |"
      ]
     },
     "metadata": {},
     "output_type": "display_data"
    },
    {
     "data": {
      "text/html": [
       "<pre>| 33        | 45.547431    | 0.405193          | 1.845122          | 0.146142            | 2.430596            |</pre>"
      ],
      "text/plain": [
       "| 33        | 45.547431    | 0.405193          | 1.845122          | 0.146142            | 2.430596            |"
      ]
     },
     "metadata": {},
     "output_type": "display_data"
    },
    {
     "data": {
      "text/html": [
       "<pre>| 34        | 46.917352    | 0.405689          | 1.841166          | 0.146772            | 2.433673            |</pre>"
      ],
      "text/plain": [
       "| 34        | 46.917352    | 0.405689          | 1.841166          | 0.146772            | 2.433673            |"
      ]
     },
     "metadata": {},
     "output_type": "display_data"
    },
    {
     "data": {
      "text/html": [
       "<pre>| 35        | 48.305142    | 0.405407          | 1.837299          | 0.146066            | 2.436791            |</pre>"
      ],
      "text/plain": [
       "| 35        | 48.305142    | 0.405407          | 1.837299          | 0.146066            | 2.436791            |"
      ]
     },
     "metadata": {},
     "output_type": "display_data"
    },
    {
     "data": {
      "text/html": [
       "<pre>| 36        | 49.682839    | 0.406329          | 1.833413          | 0.146157            | 2.439770            |</pre>"
      ],
      "text/plain": [
       "| 36        | 49.682839    | 0.406329          | 1.833413          | 0.146157            | 2.439770            |"
      ]
     },
     "metadata": {},
     "output_type": "display_data"
    },
    {
     "data": {
      "text/html": [
       "<pre>| 37        | 51.059618    | 0.407366          | 1.830283          | 0.143840            | 2.443284            |</pre>"
      ],
      "text/plain": [
       "| 37        | 51.059618    | 0.407366          | 1.830283          | 0.143840            | 2.443284            |"
      ]
     },
     "metadata": {},
     "output_type": "display_data"
    },
    {
     "data": {
      "text/html": [
       "<pre>| 38        | 52.438105    | 0.408052          | 1.825577          | 0.144226            | 2.444888            |</pre>"
      ],
      "text/plain": [
       "| 38        | 52.438105    | 0.408052          | 1.825577          | 0.144226            | 2.444888            |"
      ]
     },
     "metadata": {},
     "output_type": "display_data"
    },
    {
     "data": {
      "text/html": [
       "<pre>| 39        | 53.821240    | 0.409338          | 1.821891          | 0.144404            | 2.444684            |</pre>"
      ],
      "text/plain": [
       "| 39        | 53.821240    | 0.409338          | 1.821891          | 0.144404            | 2.444684            |"
      ]
     },
     "metadata": {},
     "output_type": "display_data"
    },
    {
     "data": {
      "text/html": [
       "<pre>| 40        | 55.202873    | 0.410001          | 1.818273          | 0.144389            | 2.448564            |</pre>"
      ],
      "text/plain": [
       "| 40        | 55.202873    | 0.410001          | 1.818273          | 0.144389            | 2.448564            |"
      ]
     },
     "metadata": {},
     "output_type": "display_data"
    },
    {
     "data": {
      "text/html": [
       "<pre>| 41        | 56.573775    | 0.411432          | 1.814254          | 0.144297            | 2.451873            |</pre>"
      ],
      "text/plain": [
       "| 41        | 56.573775    | 0.411432          | 1.814254          | 0.144297            | 2.451873            |"
      ]
     },
     "metadata": {},
     "output_type": "display_data"
    },
    {
     "data": {
      "text/html": [
       "<pre>| 42        | 57.962301    | 0.411851          | 1.811439          | 0.143749            | 2.454623            |</pre>"
      ],
      "text/plain": [
       "| 42        | 57.962301    | 0.411851          | 1.811439          | 0.143749            | 2.454623            |"
      ]
     },
     "metadata": {},
     "output_type": "display_data"
    },
    {
     "data": {
      "text/html": [
       "<pre>| 43        | 59.334507    | 0.412808          | 1.808470          | 0.143555            | 2.456171            |</pre>"
      ],
      "text/plain": [
       "| 43        | 59.334507    | 0.412808          | 1.808470          | 0.143555            | 2.456171            |"
      ]
     },
     "metadata": {},
     "output_type": "display_data"
    },
    {
     "data": {
      "text/html": [
       "<pre>| 44        | 60.712816    | 0.413880          | 1.805279          | 0.143408            | 2.459438            |</pre>"
      ],
      "text/plain": [
       "| 44        | 60.712816    | 0.413880          | 1.805279          | 0.143408            | 2.459438            |"
      ]
     },
     "metadata": {},
     "output_type": "display_data"
    },
    {
     "data": {
      "text/html": [
       "<pre>| 45        | 62.085047    | 0.414025          | 1.802361          | 0.143535            | 2.463466            |</pre>"
      ],
      "text/plain": [
       "| 45        | 62.085047    | 0.414025          | 1.802361          | 0.143535            | 2.463466            |"
      ]
     },
     "metadata": {},
     "output_type": "display_data"
    },
    {
     "data": {
      "text/html": [
       "<pre>| 46        | 63.449734    | 0.415039          | 1.798934          | 0.143474            | 2.464958            |</pre>"
      ],
      "text/plain": [
       "| 46        | 63.449734    | 0.415039          | 1.798934          | 0.143474            | 2.464958            |"
      ]
     },
     "metadata": {},
     "output_type": "display_data"
    },
    {
     "data": {
      "text/html": [
       "<pre>| 47        | 64.816808    | 0.415492          | 1.796637          | 0.143906            | 2.466549            |</pre>"
      ],
      "text/plain": [
       "| 47        | 64.816808    | 0.415492          | 1.796637          | 0.143906            | 2.466549            |"
      ]
     },
     "metadata": {},
     "output_type": "display_data"
    },
    {
     "data": {
      "text/html": [
       "<pre>| 48        | 66.194067    | 0.416240          | 1.792842          | 0.143937            | 2.469168            |</pre>"
      ],
      "text/plain": [
       "| 48        | 66.194067    | 0.416240          | 1.792842          | 0.143937            | 2.469168            |"
      ]
     },
     "metadata": {},
     "output_type": "display_data"
    },
    {
     "data": {
      "text/html": [
       "<pre>| 49        | 67.566964    | 0.416901          | 1.790472          | 0.143825            | 2.472147            |</pre>"
      ],
      "text/plain": [
       "| 49        | 67.566964    | 0.416901          | 1.790472          | 0.143825            | 2.472147            |"
      ]
     },
     "metadata": {},
     "output_type": "display_data"
    },
    {
     "data": {
      "text/html": [
       "<pre>| 50        | 68.927214    | 0.417844          | 1.787450          | 0.143047            | 2.473943            |</pre>"
      ],
      "text/plain": [
       "| 50        | 68.927214    | 0.417844          | 1.787450          | 0.143047            | 2.473943            |"
      ]
     },
     "metadata": {},
     "output_type": "display_data"
    },
    {
     "data": {
      "text/html": [
       "<pre>+-----------+--------------+-------------------+-------------------+---------------------+---------------------+</pre>"
      ],
      "text/plain": [
       "+-----------+--------------+-------------------+-------------------+---------------------+---------------------+"
      ]
     },
     "metadata": {},
     "output_type": "display_data"
    }
   ],
   "source": [
    "target = \"group\"\n",
    "features = ['longitude']\n",
    "model = gl.classifier.boosted_trees_classifier.create(fold_train,\n",
    "                                                      target=target, features=features,\n",
    "                                                      validation_set=fold_val, max_iterations = 50)"
   ]
  },
  {
   "cell_type": "code",
   "execution_count": 76,
   "metadata": {
    "collapsed": false
   },
   "outputs": [
    {
     "data": {
      "text/html": [
       "<pre>Boosted trees classifier:</pre>"
      ],
      "text/plain": [
       "Boosted trees classifier:"
      ]
     },
     "metadata": {},
     "output_type": "display_data"
    },
    {
     "data": {
      "text/html": [
       "<pre>--------------------------------------------------------</pre>"
      ],
      "text/plain": [
       "--------------------------------------------------------"
      ]
     },
     "metadata": {},
     "output_type": "display_data"
    },
    {
     "data": {
      "text/html": [
       "<pre>Number of examples          : 770373</pre>"
      ],
      "text/plain": [
       "Number of examples          : 770373"
      ]
     },
     "metadata": {},
     "output_type": "display_data"
    },
    {
     "data": {
      "text/html": [
       "<pre>Number of classes           : 12</pre>"
      ],
      "text/plain": [
       "Number of classes           : 12"
      ]
     },
     "metadata": {},
     "output_type": "display_data"
    },
    {
     "data": {
      "text/html": [
       "<pre>Number of feature columns   : 1</pre>"
      ],
      "text/plain": [
       "Number of feature columns   : 1"
      ]
     },
     "metadata": {},
     "output_type": "display_data"
    },
    {
     "data": {
      "text/html": [
       "<pre>Number of unpacked features : 1</pre>"
      ],
      "text/plain": [
       "Number of unpacked features : 1"
      ]
     },
     "metadata": {},
     "output_type": "display_data"
    },
    {
     "data": {
      "text/html": [
       "<pre>+-----------+--------------+-------------------+-------------------+---------------------+---------------------+</pre>"
      ],
      "text/plain": [
       "+-----------+--------------+-------------------+-------------------+---------------------+---------------------+"
      ]
     },
     "metadata": {},
     "output_type": "display_data"
    },
    {
     "data": {
      "text/html": [
       "<pre>| Iteration | Elapsed Time | Training-accuracy | Training-log_loss | Validation-accuracy | Validation-log_loss |</pre>"
      ],
      "text/plain": [
       "| Iteration | Elapsed Time | Training-accuracy | Training-log_loss | Validation-accuracy | Validation-log_loss |"
      ]
     },
     "metadata": {},
     "output_type": "display_data"
    },
    {
     "data": {
      "text/html": [
       "<pre>+-----------+--------------+-------------------+-------------------+---------------------+---------------------+</pre>"
      ],
      "text/plain": [
       "+-----------+--------------+-------------------+-------------------+---------------------+---------------------+"
      ]
     },
     "metadata": {},
     "output_type": "display_data"
    },
    {
     "data": {
      "text/html": [
       "<pre>| 1         | 1.212209     | 0.258967          | 2.347107          | 0.165761            | 2.433268            |</pre>"
      ],
      "text/plain": [
       "| 1         | 1.212209     | 0.258967          | 2.347107          | 0.165761            | 2.433268            |"
      ]
     },
     "metadata": {},
     "output_type": "display_data"
    },
    {
     "data": {
      "text/html": [
       "<pre>| 2         | 2.412411     | 0.273244          | 2.275954          | 0.167412            | 2.403979            |</pre>"
      ],
      "text/plain": [
       "| 2         | 2.412411     | 0.273244          | 2.275954          | 0.167412            | 2.403979            |"
      ]
     },
     "metadata": {},
     "output_type": "display_data"
    },
    {
     "data": {
      "text/html": [
       "<pre>| 3         | 3.611282     | 0.288144          | 2.221009          | 0.167366            | 2.385190            |</pre>"
      ],
      "text/plain": [
       "| 3         | 3.611282     | 0.288144          | 2.221009          | 0.167366            | 2.385190            |"
      ]
     },
     "metadata": {},
     "output_type": "display_data"
    },
    {
     "data": {
      "text/html": [
       "<pre>| 4         | 4.807939     | 0.295410          | 2.179596          | 0.164358            | 2.373580            |</pre>"
      ],
      "text/plain": [
       "| 4         | 4.807939     | 0.295410          | 2.179596          | 0.164358            | 2.373580            |"
      ]
     },
     "metadata": {},
     "output_type": "display_data"
    },
    {
     "data": {
      "text/html": [
       "<pre>| 5         | 6.024209     | 0.305497          | 2.147411          | 0.156243            | 2.369335            |</pre>"
      ],
      "text/plain": [
       "| 5         | 6.024209     | 0.305497          | 2.147411          | 0.156243            | 2.369335            |"
      ]
     },
     "metadata": {},
     "output_type": "display_data"
    },
    {
     "data": {
      "text/html": [
       "<pre>| 6         | 7.233995     | 0.314950          | 2.120389          | 0.155608            | 2.364975            |</pre>"
      ],
      "text/plain": [
       "| 6         | 7.233995     | 0.314950          | 2.120389          | 0.155608            | 2.364975            |"
      ]
     },
     "metadata": {},
     "output_type": "display_data"
    },
    {
     "data": {
      "text/html": [
       "<pre>| 7         | 8.451743     | 0.323154          | 2.095456          | 0.159196            | 2.362666            |</pre>"
      ],
      "text/plain": [
       "| 7         | 8.451743     | 0.323154          | 2.095456          | 0.159196            | 2.362666            |"
      ]
     },
     "metadata": {},
     "output_type": "display_data"
    },
    {
     "data": {
      "text/html": [
       "<pre>| 8         | 9.668221     | 0.327034          | 2.076292          | 0.156187            | 2.362365            |</pre>"
      ],
      "text/plain": [
       "| 8         | 9.668221     | 0.327034          | 2.076292          | 0.156187            | 2.362365            |"
      ]
     },
     "metadata": {},
     "output_type": "display_data"
    },
    {
     "data": {
      "text/html": [
       "<pre>| 9         | 10.883520    | 0.330714          | 2.060352          | 0.154988            | 2.362172            |</pre>"
      ],
      "text/plain": [
       "| 9         | 10.883520    | 0.330714          | 2.060352          | 0.154988            | 2.362172            |"
      ]
     },
     "metadata": {},
     "output_type": "display_data"
    },
    {
     "data": {
      "text/html": [
       "<pre>| 10        | 12.106462    | 0.334968          | 2.046081          | 0.156259            | 2.361592            |</pre>"
      ],
      "text/plain": [
       "| 10        | 12.106462    | 0.334968          | 2.046081          | 0.156259            | 2.361592            |"
      ]
     },
     "metadata": {},
     "output_type": "display_data"
    },
    {
     "data": {
      "text/html": [
       "<pre>| 11        | 13.323143    | 0.345100          | 2.027598          | 0.156264            | 2.363990            |</pre>"
      ],
      "text/plain": [
       "| 11        | 13.323143    | 0.345100          | 2.027598          | 0.156264            | 2.363990            |"
      ]
     },
     "metadata": {},
     "output_type": "display_data"
    },
    {
     "data": {
      "text/html": [
       "<pre>| 12        | 14.529009    | 0.346562          | 2.016911          | 0.154628            | 2.364645            |</pre>"
      ],
      "text/plain": [
       "| 12        | 14.529009    | 0.346562          | 2.016911          | 0.154628            | 2.364645            |"
      ]
     },
     "metadata": {},
     "output_type": "display_data"
    },
    {
     "data": {
      "text/html": [
       "<pre>| 13        | 15.715099    | 0.348616          | 2.008040          | 0.152692            | 2.368314            |</pre>"
      ],
      "text/plain": [
       "| 13        | 15.715099    | 0.348616          | 2.008040          | 0.152692            | 2.368314            |"
      ]
     },
     "metadata": {},
     "output_type": "display_data"
    },
    {
     "data": {
      "text/html": [
       "<pre>| 14        | 16.905728    | 0.353274          | 1.994230          | 0.153677            | 2.369830            |</pre>"
      ],
      "text/plain": [
       "| 14        | 16.905728    | 0.353274          | 1.994230          | 0.153677            | 2.369830            |"
      ]
     },
     "metadata": {},
     "output_type": "display_data"
    },
    {
     "data": {
      "text/html": [
       "<pre>| 15        | 18.117944    | 0.358570          | 1.981258          | 0.149988            | 2.372946            |</pre>"
      ],
      "text/plain": [
       "| 15        | 18.117944    | 0.358570          | 1.981258          | 0.149988            | 2.372946            |"
      ]
     },
     "metadata": {},
     "output_type": "display_data"
    },
    {
     "data": {
      "text/html": [
       "<pre>| 16        | 19.321449    | 0.361100          | 1.971248          | 0.152839            | 2.375341            |</pre>"
      ],
      "text/plain": [
       "| 16        | 19.321449    | 0.361100          | 1.971248          | 0.152839            | 2.375341            |"
      ]
     },
     "metadata": {},
     "output_type": "display_data"
    },
    {
     "data": {
      "text/html": [
       "<pre>| 17        | 20.545060    | 0.363707          | 1.963301          | 0.156111            | 2.378689            |</pre>"
      ],
      "text/plain": [
       "| 17        | 20.545060    | 0.363707          | 1.963301          | 0.156111            | 2.378689            |"
      ]
     },
     "metadata": {},
     "output_type": "display_data"
    },
    {
     "data": {
      "text/html": [
       "<pre>| 18        | 21.762043    | 0.368555          | 1.948742          | 0.151625            | 2.378527            |</pre>"
      ],
      "text/plain": [
       "| 18        | 21.762043    | 0.368555          | 1.948742          | 0.151625            | 2.378527            |"
      ]
     },
     "metadata": {},
     "output_type": "display_data"
    },
    {
     "data": {
      "text/html": [
       "<pre>| 19        | 22.984410    | 0.371643          | 1.942898          | 0.152559            | 2.380145            |</pre>"
      ],
      "text/plain": [
       "| 19        | 22.984410    | 0.371643          | 1.942898          | 0.152559            | 2.380145            |"
      ]
     },
     "metadata": {},
     "output_type": "display_data"
    },
    {
     "data": {
      "text/html": [
       "<pre>| 20        | 24.195961    | 0.376633          | 1.932201          | 0.154358            | 2.382347            |</pre>"
      ],
      "text/plain": [
       "| 20        | 24.195961    | 0.376633          | 1.932201          | 0.154358            | 2.382347            |"
      ]
     },
     "metadata": {},
     "output_type": "display_data"
    },
    {
     "data": {
      "text/html": [
       "<pre>| 21        | 25.388598    | 0.377722          | 1.926877          | 0.153566            | 2.385065            |</pre>"
      ],
      "text/plain": [
       "| 21        | 25.388598    | 0.377722          | 1.926877          | 0.153566            | 2.385065            |"
      ]
     },
     "metadata": {},
     "output_type": "display_data"
    },
    {
     "data": {
      "text/html": [
       "<pre>| 22        | 26.597689    | 0.379140          | 1.919645          | 0.154897            | 2.386968            |</pre>"
      ],
      "text/plain": [
       "| 22        | 26.597689    | 0.379140          | 1.919645          | 0.154897            | 2.386968            |"
      ]
     },
     "metadata": {},
     "output_type": "display_data"
    },
    {
     "data": {
      "text/html": [
       "<pre>| 23        | 27.799498    | 0.383392          | 1.911003          | 0.153408            | 2.389233            |</pre>"
      ],
      "text/plain": [
       "| 23        | 27.799498    | 0.383392          | 1.911003          | 0.153408            | 2.389233            |"
      ]
     },
     "metadata": {},
     "output_type": "display_data"
    },
    {
     "data": {
      "text/html": [
       "<pre>| 24        | 28.995149    | 0.385197          | 1.905550          | 0.157509            | 2.389956            |</pre>"
      ],
      "text/plain": [
       "| 24        | 28.995149    | 0.385197          | 1.905550          | 0.157509            | 2.389956            |"
      ]
     },
     "metadata": {},
     "output_type": "display_data"
    },
    {
     "data": {
      "text/html": [
       "<pre>| 25        | 30.194266    | 0.388538          | 1.899393          | 0.157646            | 2.390905            |</pre>"
      ],
      "text/plain": [
       "| 25        | 30.194266    | 0.388538          | 1.899393          | 0.157646            | 2.390905            |"
      ]
     },
     "metadata": {},
     "output_type": "display_data"
    },
    {
     "data": {
      "text/html": [
       "<pre>| 26        | 31.377779    | 0.389886          | 1.893265          | 0.155908            | 2.393175            |</pre>"
      ],
      "text/plain": [
       "| 26        | 31.377779    | 0.389886          | 1.893265          | 0.155908            | 2.393175            |"
      ]
     },
     "metadata": {},
     "output_type": "display_data"
    },
    {
     "data": {
      "text/html": [
       "<pre>| 27        | 32.560658    | 0.391174          | 1.888200          | 0.155659            | 2.395555            |</pre>"
      ],
      "text/plain": [
       "| 27        | 32.560658    | 0.391174          | 1.888200          | 0.155659            | 2.395555            |"
      ]
     },
     "metadata": {},
     "output_type": "display_data"
    },
    {
     "data": {
      "text/html": [
       "<pre>| 28        | 33.752552    | 0.391409          | 1.883795          | 0.154328            | 2.399311            |</pre>"
      ],
      "text/plain": [
       "| 28        | 33.752552    | 0.391409          | 1.883795          | 0.154328            | 2.399311            |"
      ]
     },
     "metadata": {},
     "output_type": "display_data"
    },
    {
     "data": {
      "text/html": [
       "<pre>| 29        | 34.958074    | 0.393032          | 1.878802          | 0.154124            | 2.402906            |</pre>"
      ],
      "text/plain": [
       "| 29        | 34.958074    | 0.393032          | 1.878802          | 0.154124            | 2.402906            |"
      ]
     },
     "metadata": {},
     "output_type": "display_data"
    },
    {
     "data": {
      "text/html": [
       "<pre>| 30        | 36.153465    | 0.395209          | 1.872807          | 0.153845            | 2.406808            |</pre>"
      ],
      "text/plain": [
       "| 30        | 36.153465    | 0.395209          | 1.872807          | 0.153845            | 2.406808            |"
      ]
     },
     "metadata": {},
     "output_type": "display_data"
    },
    {
     "data": {
      "text/html": [
       "<pre>| 31        | 37.376124    | 0.396736          | 1.868291          | 0.155644            | 2.407214            |</pre>"
      ],
      "text/plain": [
       "| 31        | 37.376124    | 0.396736          | 1.868291          | 0.155644            | 2.407214            |"
      ]
     },
     "metadata": {},
     "output_type": "display_data"
    },
    {
     "data": {
      "text/html": [
       "<pre>| 32        | 38.581569    | 0.398800          | 1.862979          | 0.154292            | 2.408263            |</pre>"
      ],
      "text/plain": [
       "| 32        | 38.581569    | 0.398800          | 1.862979          | 0.154292            | 2.408263            |"
      ]
     },
     "metadata": {},
     "output_type": "display_data"
    },
    {
     "data": {
      "text/html": [
       "<pre>| 33        | 39.781563    | 0.400062          | 1.856795          | 0.154917            | 2.410164            |</pre>"
      ],
      "text/plain": [
       "| 33        | 39.781563    | 0.400062          | 1.856795          | 0.154917            | 2.410164            |"
      ]
     },
     "metadata": {},
     "output_type": "display_data"
    },
    {
     "data": {
      "text/html": [
       "<pre>| 34        | 40.997893    | 0.402057          | 1.852510          | 0.149236            | 2.412440            |</pre>"
      ],
      "text/plain": [
       "| 34        | 40.997893    | 0.402057          | 1.852510          | 0.149236            | 2.412440            |"
      ]
     },
     "metadata": {},
     "output_type": "display_data"
    },
    {
     "data": {
      "text/html": [
       "<pre>| 35        | 42.195866    | 0.403738          | 1.847682          | 0.150212            | 2.412819            |</pre>"
      ],
      "text/plain": [
       "| 35        | 42.195866    | 0.403738          | 1.847682          | 0.150212            | 2.412819            |"
      ]
     },
     "metadata": {},
     "output_type": "display_data"
    },
    {
     "data": {
      "text/html": [
       "<pre>| 36        | 43.394477    | 0.404226          | 1.843390          | 0.150496            | 2.415973            |</pre>"
      ],
      "text/plain": [
       "| 36        | 43.394477    | 0.404226          | 1.843390          | 0.150496            | 2.415973            |"
      ]
     },
     "metadata": {},
     "output_type": "display_data"
    },
    {
     "data": {
      "text/html": [
       "<pre>| 37        | 44.632460    | 0.405337          | 1.839337          | 0.149699            | 2.418884            |</pre>"
      ],
      "text/plain": [
       "| 37        | 44.632460    | 0.405337          | 1.839337          | 0.149699            | 2.418884            |"
      ]
     },
     "metadata": {},
     "output_type": "display_data"
    },
    {
     "data": {
      "text/html": [
       "<pre>| 38        | 45.825030    | 0.406273          | 1.836040          | 0.146518            | 2.422800            |</pre>"
      ],
      "text/plain": [
       "| 38        | 45.825030    | 0.406273          | 1.836040          | 0.146518            | 2.422800            |"
      ]
     },
     "metadata": {},
     "output_type": "display_data"
    },
    {
     "data": {
      "text/html": [
       "<pre>| 39        | 47.022093    | 0.407545          | 1.829224          | 0.144851            | 2.425338            |</pre>"
      ],
      "text/plain": [
       "| 39        | 47.022093    | 0.407545          | 1.829224          | 0.144851            | 2.425338            |"
      ]
     },
     "metadata": {},
     "output_type": "display_data"
    },
    {
     "data": {
      "text/html": [
       "<pre>| 40        | 48.217781    | 0.407963          | 1.824082          | 0.144968            | 2.430511            |</pre>"
      ],
      "text/plain": [
       "| 40        | 48.217781    | 0.407963          | 1.824082          | 0.144968            | 2.430511            |"
      ]
     },
     "metadata": {},
     "output_type": "display_data"
    },
    {
     "data": {
      "text/html": [
       "<pre>| 41        | 49.425259    | 0.409206          | 1.819296          | 0.144236            | 2.432805            |</pre>"
      ],
      "text/plain": [
       "| 41        | 49.425259    | 0.409206          | 1.819296          | 0.144236            | 2.432805            |"
      ]
     },
     "metadata": {},
     "output_type": "display_data"
    },
    {
     "data": {
      "text/html": [
       "<pre>| 42        | 50.618646    | 0.410739          | 1.814705          | 0.145151            | 2.434509            |</pre>"
      ],
      "text/plain": [
       "| 42        | 50.618646    | 0.410739          | 1.814705          | 0.145151            | 2.434509            |"
      ]
     },
     "metadata": {},
     "output_type": "display_data"
    },
    {
     "data": {
      "text/html": [
       "<pre>| 43        | 51.819111    | 0.411433          | 1.811733          | 0.144714            | 2.438197            |</pre>"
      ],
      "text/plain": [
       "| 43        | 51.819111    | 0.411433          | 1.811733          | 0.144714            | 2.438197            |"
      ]
     },
     "metadata": {},
     "output_type": "display_data"
    },
    {
     "data": {
      "text/html": [
       "<pre>| 44        | 53.002158    | 0.412208          | 1.808897          | 0.144501            | 2.441224            |</pre>"
      ],
      "text/plain": [
       "| 44        | 53.002158    | 0.412208          | 1.808897          | 0.144501            | 2.441224            |"
      ]
     },
     "metadata": {},
     "output_type": "display_data"
    },
    {
     "data": {
      "text/html": [
       "<pre>| 45        | 54.190676    | 0.413288          | 1.805789          | 0.145852            | 2.442039            |</pre>"
      ],
      "text/plain": [
       "| 45        | 54.190676    | 0.413288          | 1.805789          | 0.145852            | 2.442039            |"
      ]
     },
     "metadata": {},
     "output_type": "display_data"
    },
    {
     "data": {
      "text/html": [
       "<pre>| 46        | 55.389343    | 0.413580          | 1.802200          | 0.146172            | 2.445420            |</pre>"
      ],
      "text/plain": [
       "| 46        | 55.389343    | 0.413580          | 1.802200          | 0.146172            | 2.445420            |"
      ]
     },
     "metadata": {},
     "output_type": "display_data"
    },
    {
     "data": {
      "text/html": [
       "<pre>| 47        | 56.586174    | 0.415309          | 1.798550          | 0.145344            | 2.448245            |</pre>"
      ],
      "text/plain": [
       "| 47        | 56.586174    | 0.415309          | 1.798550          | 0.145344            | 2.448245            |"
      ]
     },
     "metadata": {},
     "output_type": "display_data"
    },
    {
     "data": {
      "text/html": [
       "<pre>| 48        | 57.805413    | 0.416011          | 1.795608          | 0.145466            | 2.450140            |</pre>"
      ],
      "text/plain": [
       "| 48        | 57.805413    | 0.416011          | 1.795608          | 0.145466            | 2.450140            |"
      ]
     },
     "metadata": {},
     "output_type": "display_data"
    },
    {
     "data": {
      "text/html": [
       "<pre>| 49        | 58.989546    | 0.416018          | 1.792928          | 0.145959            | 2.451716            |</pre>"
      ],
      "text/plain": [
       "| 49        | 58.989546    | 0.416018          | 1.792928          | 0.145959            | 2.451716            |"
      ]
     },
     "metadata": {},
     "output_type": "display_data"
    },
    {
     "data": {
      "text/html": [
       "<pre>| 50        | 60.168999    | 0.416250          | 1.790112          | 0.146101            | 2.455246            |</pre>"
      ],
      "text/plain": [
       "| 50        | 60.168999    | 0.416250          | 1.790112          | 0.146101            | 2.455246            |"
      ]
     },
     "metadata": {},
     "output_type": "display_data"
    },
    {
     "data": {
      "text/html": [
       "<pre>+-----------+--------------+-------------------+-------------------+---------------------+---------------------+</pre>"
      ],
      "text/plain": [
       "+-----------+--------------+-------------------+-------------------+---------------------+---------------------+"
      ]
     },
     "metadata": {},
     "output_type": "display_data"
    }
   ],
   "source": [
    "target = \"group\"\n",
    "features = ['latitude']\n",
    "model = gl.classifier.boosted_trees_classifier.create(fold_train,\n",
    "                                                      target=target, features=features,\n",
    "                                                      validation_set=fold_val, max_iterations = 50)"
   ]
  },
  {
   "cell_type": "code",
   "execution_count": 77,
   "metadata": {
    "collapsed": false
   },
   "outputs": [
    {
     "data": {
      "text/html": [
       "<pre>Boosted trees classifier:</pre>"
      ],
      "text/plain": [
       "Boosted trees classifier:"
      ]
     },
     "metadata": {},
     "output_type": "display_data"
    },
    {
     "data": {
      "text/html": [
       "<pre>--------------------------------------------------------</pre>"
      ],
      "text/plain": [
       "--------------------------------------------------------"
      ]
     },
     "metadata": {},
     "output_type": "display_data"
    },
    {
     "data": {
      "text/html": [
       "<pre>Number of examples          : 770373</pre>"
      ],
      "text/plain": [
       "Number of examples          : 770373"
      ]
     },
     "metadata": {},
     "output_type": "display_data"
    },
    {
     "data": {
      "text/html": [
       "<pre>Number of classes           : 12</pre>"
      ],
      "text/plain": [
       "Number of classes           : 12"
      ]
     },
     "metadata": {},
     "output_type": "display_data"
    },
    {
     "data": {
      "text/html": [
       "<pre>Number of feature columns   : 2</pre>"
      ],
      "text/plain": [
       "Number of feature columns   : 2"
      ]
     },
     "metadata": {},
     "output_type": "display_data"
    },
    {
     "data": {
      "text/html": [
       "<pre>Number of unpacked features : 2</pre>"
      ],
      "text/plain": [
       "Number of unpacked features : 2"
      ]
     },
     "metadata": {},
     "output_type": "display_data"
    },
    {
     "data": {
      "text/html": [
       "<pre>+-----------+--------------+-------------------+-------------------+---------------------+---------------------+</pre>"
      ],
      "text/plain": [
       "+-----------+--------------+-------------------+-------------------+---------------------+---------------------+"
      ]
     },
     "metadata": {},
     "output_type": "display_data"
    },
    {
     "data": {
      "text/html": [
       "<pre>| Iteration | Elapsed Time | Training-accuracy | Training-log_loss | Validation-accuracy | Validation-log_loss |</pre>"
      ],
      "text/plain": [
       "| Iteration | Elapsed Time | Training-accuracy | Training-log_loss | Validation-accuracy | Validation-log_loss |"
      ]
     },
     "metadata": {},
     "output_type": "display_data"
    },
    {
     "data": {
      "text/html": [
       "<pre>+-----------+--------------+-------------------+-------------------+---------------------+---------------------+</pre>"
      ],
      "text/plain": [
       "+-----------+--------------+-------------------+-------------------+---------------------+---------------------+"
      ]
     },
     "metadata": {},
     "output_type": "display_data"
    },
    {
     "data": {
      "text/html": [
       "<pre>| 1         | 1.394117     | 0.296777          | 2.294031          | 0.162260            | 2.435440            |</pre>"
      ],
      "text/plain": [
       "| 1         | 1.394117     | 0.296777          | 2.294031          | 0.162260            | 2.435440            |"
      ]
     },
     "metadata": {},
     "output_type": "display_data"
    },
    {
     "data": {
      "text/html": [
       "<pre>| 2         | 2.751563     | 0.329093          | 2.198207          | 0.165852            | 2.408144            |</pre>"
      ],
      "text/plain": [
       "| 2         | 2.751563     | 0.329093          | 2.198207          | 0.165852            | 2.408144            |"
      ]
     },
     "metadata": {},
     "output_type": "display_data"
    },
    {
     "data": {
      "text/html": [
       "<pre>| 3         | 4.103444     | 0.351083          | 2.126802          | 0.165949            | 2.390602            |</pre>"
      ],
      "text/plain": [
       "| 3         | 4.103444     | 0.351083          | 2.126802          | 0.165949            | 2.390602            |"
      ]
     },
     "metadata": {},
     "output_type": "display_data"
    },
    {
     "data": {
      "text/html": [
       "<pre>| 4         | 5.461595     | 0.364224          | 2.066940          | 0.176009            | 2.378084            |</pre>"
      ],
      "text/plain": [
       "| 4         | 5.461595     | 0.364224          | 2.066940          | 0.176009            | 2.378084            |"
      ]
     },
     "metadata": {},
     "output_type": "display_data"
    },
    {
     "data": {
      "text/html": [
       "<pre>| 5         | 6.778837     | 0.374686          | 2.022338          | 0.174820            | 2.372347            |</pre>"
      ],
      "text/plain": [
       "| 5         | 6.778837     | 0.374686          | 2.022338          | 0.174820            | 2.372347            |"
      ]
     },
     "metadata": {},
     "output_type": "display_data"
    },
    {
     "data": {
      "text/html": [
       "<pre>| 6         | 8.249884     | 0.387385          | 1.983733          | 0.161985            | 2.370041            |</pre>"
      ],
      "text/plain": [
       "| 6         | 8.249884     | 0.387385          | 1.983733          | 0.161985            | 2.370041            |"
      ]
     },
     "metadata": {},
     "output_type": "display_data"
    },
    {
     "data": {
      "text/html": [
       "<pre>| 7         | 9.601226     | 0.397692          | 1.953950          | 0.167915            | 2.368407            |</pre>"
      ],
      "text/plain": [
       "| 7         | 9.601226     | 0.397692          | 1.953950          | 0.167915            | 2.368407            |"
      ]
     },
     "metadata": {},
     "output_type": "display_data"
    },
    {
     "data": {
      "text/html": [
       "<pre>| 8         | 10.932486    | 0.409169          | 1.921703          | 0.166909            | 2.369780            |</pre>"
      ],
      "text/plain": [
       "| 8         | 10.932486    | 0.409169          | 1.921703          | 0.166909            | 2.369780            |"
      ]
     },
     "metadata": {},
     "output_type": "display_data"
    },
    {
     "data": {
      "text/html": [
       "<pre>| 9         | 12.282214    | 0.419717          | 1.891260          | 0.164632            | 2.370037            |</pre>"
      ],
      "text/plain": [
       "| 9         | 12.282214    | 0.419717          | 1.891260          | 0.164632            | 2.370037            |"
      ]
     },
     "metadata": {},
     "output_type": "display_data"
    },
    {
     "data": {
      "text/html": [
       "<pre>| 10        | 13.595911    | 0.427928          | 1.868537          | 0.164206            | 2.370600            |</pre>"
      ],
      "text/plain": [
       "| 10        | 13.595911    | 0.427928          | 1.868537          | 0.164206            | 2.370600            |"
      ]
     },
     "metadata": {},
     "output_type": "display_data"
    },
    {
     "data": {
      "text/html": [
       "<pre>| 11        | 14.933670    | 0.434647          | 1.847742          | 0.169170            | 2.371982            |</pre>"
      ],
      "text/plain": [
       "| 11        | 14.933670    | 0.434647          | 1.847742          | 0.169170            | 2.371982            |"
      ]
     },
     "metadata": {},
     "output_type": "display_data"
    },
    {
     "data": {
      "text/html": [
       "<pre>| 12        | 16.263174    | 0.440415          | 1.828941          | 0.169968            | 2.373765            |</pre>"
      ],
      "text/plain": [
       "| 12        | 16.263174    | 0.440415          | 1.828941          | 0.169968            | 2.373765            |"
      ]
     },
     "metadata": {},
     "output_type": "display_data"
    },
    {
     "data": {
      "text/html": [
       "<pre>| 13        | 17.587637    | 0.451214          | 1.806766          | 0.162925            | 2.378560            |</pre>"
      ],
      "text/plain": [
       "| 13        | 17.587637    | 0.451214          | 1.806766          | 0.162925            | 2.378560            |"
      ]
     },
     "metadata": {},
     "output_type": "display_data"
    },
    {
     "data": {
      "text/html": [
       "<pre>| 14        | 18.895351    | 0.455843          | 1.787219          | 0.163718            | 2.381708            |</pre>"
      ],
      "text/plain": [
       "| 14        | 18.895351    | 0.455843          | 1.787219          | 0.163718            | 2.381708            |"
      ]
     },
     "metadata": {},
     "output_type": "display_data"
    },
    {
     "data": {
      "text/html": [
       "<pre>| 15        | 20.240127    | 0.461047          | 1.769891          | 0.163123            | 2.385782            |</pre>"
      ],
      "text/plain": [
       "| 15        | 20.240127    | 0.461047          | 1.769891          | 0.163123            | 2.385782            |"
      ]
     },
     "metadata": {},
     "output_type": "display_data"
    },
    {
     "data": {
      "text/html": [
       "<pre>| 16        | 21.568057    | 0.467274          | 1.753023          | 0.163484            | 2.387748            |</pre>"
      ],
      "text/plain": [
       "| 16        | 21.568057    | 0.467274          | 1.753023          | 0.163484            | 2.387748            |"
      ]
     },
     "metadata": {},
     "output_type": "display_data"
    },
    {
     "data": {
      "text/html": [
       "<pre>| 17        | 22.902743    | 0.475424          | 1.735434          | 0.164104            | 2.394698            |</pre>"
      ],
      "text/plain": [
       "| 17        | 22.902743    | 0.475424          | 1.735434          | 0.164104            | 2.394698            |"
      ]
     },
     "metadata": {},
     "output_type": "display_data"
    },
    {
     "data": {
      "text/html": [
       "<pre>| 18        | 24.213036    | 0.479415          | 1.722852          | 0.160852            | 2.396082            |</pre>"
      ],
      "text/plain": [
       "| 18        | 24.213036    | 0.479415          | 1.722852          | 0.160852            | 2.396082            |"
      ]
     },
     "metadata": {},
     "output_type": "display_data"
    },
    {
     "data": {
      "text/html": [
       "<pre>| 19        | 25.550433    | 0.482896          | 1.711353          | 0.169800            | 2.398822            |</pre>"
      ],
      "text/plain": [
       "| 19        | 25.550433    | 0.482896          | 1.711353          | 0.169800            | 2.398822            |"
      ]
     },
     "metadata": {},
     "output_type": "display_data"
    },
    {
     "data": {
      "text/html": [
       "<pre>| 20        | 26.876711    | 0.486532          | 1.696447          | 0.171543            | 2.400580            |</pre>"
      ],
      "text/plain": [
       "| 20        | 26.876711    | 0.486532          | 1.696447          | 0.171543            | 2.400580            |"
      ]
     },
     "metadata": {},
     "output_type": "display_data"
    },
    {
     "data": {
      "text/html": [
       "<pre>| 21        | 28.206302    | 0.493025          | 1.681521          | 0.168840            | 2.404082            |</pre>"
      ],
      "text/plain": [
       "| 21        | 28.206302    | 0.493025          | 1.681521          | 0.168840            | 2.404082            |"
      ]
     },
     "metadata": {},
     "output_type": "display_data"
    },
    {
     "data": {
      "text/html": [
       "<pre>| 22        | 29.540919    | 0.497227          | 1.668484          | 0.168449            | 2.408450            |</pre>"
      ],
      "text/plain": [
       "| 22        | 29.540919    | 0.497227          | 1.668484          | 0.168449            | 2.408450            |"
      ]
     },
     "metadata": {},
     "output_type": "display_data"
    },
    {
     "data": {
      "text/html": [
       "<pre>| 23        | 30.855826    | 0.500746          | 1.656527          | 0.169002            | 2.411976            |</pre>"
      ],
      "text/plain": [
       "| 23        | 30.855826    | 0.500746          | 1.656527          | 0.169002            | 2.411976            |"
      ]
     },
     "metadata": {},
     "output_type": "display_data"
    },
    {
     "data": {
      "text/html": [
       "<pre>| 24        | 32.170713    | 0.503000          | 1.647019          | 0.169587            | 2.414979            |</pre>"
      ],
      "text/plain": [
       "| 24        | 32.170713    | 0.503000          | 1.647019          | 0.169587            | 2.414979            |"
      ]
     },
     "metadata": {},
     "output_type": "display_data"
    },
    {
     "data": {
      "text/html": [
       "<pre>| 25        | 33.484473    | 0.510462          | 1.637380          | 0.167630            | 2.417935            |</pre>"
      ],
      "text/plain": [
       "| 25        | 33.484473    | 0.510462          | 1.637380          | 0.167630            | 2.417935            |"
      ]
     },
     "metadata": {},
     "output_type": "display_data"
    },
    {
     "data": {
      "text/html": [
       "<pre>| 26        | 34.801685    | 0.512710          | 1.628434          | 0.168139            | 2.422449            |</pre>"
      ],
      "text/plain": [
       "| 26        | 34.801685    | 0.512710          | 1.628434          | 0.168139            | 2.422449            |"
      ]
     },
     "metadata": {},
     "output_type": "display_data"
    },
    {
     "data": {
      "text/html": [
       "<pre>| 27        | 36.111246    | 0.516587          | 1.617603          | 0.167691            | 2.425326            |</pre>"
      ],
      "text/plain": [
       "| 27        | 36.111246    | 0.516587          | 1.617603          | 0.167691            | 2.425326            |"
      ]
     },
     "metadata": {},
     "output_type": "display_data"
    },
    {
     "data": {
      "text/html": [
       "<pre>| 28        | 37.405337    | 0.518294          | 1.611297          | 0.167387            | 2.427856            |</pre>"
      ],
      "text/plain": [
       "| 28        | 37.405337    | 0.518294          | 1.611297          | 0.167387            | 2.427856            |"
      ]
     },
     "metadata": {},
     "output_type": "display_data"
    },
    {
     "data": {
      "text/html": [
       "<pre>| 29        | 38.725691    | 0.522436          | 1.601155          | 0.166899            | 2.431940            |</pre>"
      ],
      "text/plain": [
       "| 29        | 38.725691    | 0.522436          | 1.601155          | 0.166899            | 2.431940            |"
      ]
     },
     "metadata": {},
     "output_type": "display_data"
    },
    {
     "data": {
      "text/html": [
       "<pre>| 30        | 40.076756    | 0.527067          | 1.590985          | 0.163708            | 2.436630            |</pre>"
      ],
      "text/plain": [
       "| 30        | 40.076756    | 0.527067          | 1.590985          | 0.163708            | 2.436630            |"
      ]
     },
     "metadata": {},
     "output_type": "display_data"
    },
    {
     "data": {
      "text/html": [
       "<pre>| 31        | 41.383082    | 0.529620          | 1.582251          | 0.162442            | 2.439271            |</pre>"
      ],
      "text/plain": [
       "| 31        | 41.383082    | 0.529620          | 1.582251          | 0.162442            | 2.439271            |"
      ]
     },
     "metadata": {},
     "output_type": "display_data"
    },
    {
     "data": {
      "text/html": [
       "<pre>| 32        | 42.691104    | 0.531462          | 1.573916          | 0.162646            | 2.442252            |</pre>"
      ],
      "text/plain": [
       "| 32        | 42.691104    | 0.531462          | 1.573916          | 0.162646            | 2.442252            |"
      ]
     },
     "metadata": {},
     "output_type": "display_data"
    },
    {
     "data": {
      "text/html": [
       "<pre>| 33        | 44.010216    | 0.535361          | 1.563427          | 0.162524            | 2.443320            |</pre>"
      ],
      "text/plain": [
       "| 33        | 44.010216    | 0.535361          | 1.563427          | 0.162524            | 2.443320            |"
      ]
     },
     "metadata": {},
     "output_type": "display_data"
    },
    {
     "data": {
      "text/html": [
       "<pre>| 34        | 45.347234    | 0.538111          | 1.553715          | 0.160120            | 2.447523            |</pre>"
      ],
      "text/plain": [
       "| 34        | 45.347234    | 0.538111          | 1.553715          | 0.160120            | 2.447523            |"
      ]
     },
     "metadata": {},
     "output_type": "display_data"
    },
    {
     "data": {
      "text/html": [
       "<pre>| 35        | 46.656706    | 0.539217          | 1.546282          | 0.161945            | 2.451559            |</pre>"
      ],
      "text/plain": [
       "| 35        | 46.656706    | 0.539217          | 1.546282          | 0.161945            | 2.451559            |"
      ]
     },
     "metadata": {},
     "output_type": "display_data"
    },
    {
     "data": {
      "text/html": [
       "<pre>| 36        | 47.981754    | 0.540351          | 1.541248          | 0.162214            | 2.453236            |</pre>"
      ],
      "text/plain": [
       "| 36        | 47.981754    | 0.540351          | 1.541248          | 0.162214            | 2.453236            |"
      ]
     },
     "metadata": {},
     "output_type": "display_data"
    },
    {
     "data": {
      "text/html": [
       "<pre>| 37        | 49.280637    | 0.542444          | 1.533978          | 0.162534            | 2.455977            |</pre>"
      ],
      "text/plain": [
       "| 37        | 49.280637    | 0.542444          | 1.533978          | 0.162534            | 2.455977            |"
      ]
     },
     "metadata": {},
     "output_type": "display_data"
    },
    {
     "data": {
      "text/html": [
       "<pre>| 38        | 50.587456    | 0.544312          | 1.528208          | 0.162468            | 2.459000            |</pre>"
      ],
      "text/plain": [
       "| 38        | 50.587456    | 0.544312          | 1.528208          | 0.162468            | 2.459000            |"
      ]
     },
     "metadata": {},
     "output_type": "display_data"
    },
    {
     "data": {
      "text/html": [
       "<pre>| 39        | 51.912709    | 0.546193          | 1.520326          | 0.163006            | 2.460889            |</pre>"
      ],
      "text/plain": [
       "| 39        | 51.912709    | 0.546193          | 1.520326          | 0.163006            | 2.460889            |"
      ]
     },
     "metadata": {},
     "output_type": "display_data"
    },
    {
     "data": {
      "text/html": [
       "<pre>| 40        | 53.241809    | 0.548825          | 1.512897          | 0.164907            | 2.462417            |</pre>"
      ],
      "text/plain": [
       "| 40        | 53.241809    | 0.548825          | 1.512897          | 0.164907            | 2.462417            |"
      ]
     },
     "metadata": {},
     "output_type": "display_data"
    },
    {
     "data": {
      "text/html": [
       "<pre>| 41        | 54.563058    | 0.549893          | 1.507192          | 0.162920            | 2.465333            |</pre>"
      ],
      "text/plain": [
       "| 41        | 54.563058    | 0.549893          | 1.507192          | 0.162920            | 2.465333            |"
      ]
     },
     "metadata": {},
     "output_type": "display_data"
    },
    {
     "data": {
      "text/html": [
       "<pre>| 42        | 55.896063    | 0.552556          | 1.500365          | 0.161528            | 2.467753            |</pre>"
      ],
      "text/plain": [
       "| 42        | 55.896063    | 0.552556          | 1.500365          | 0.161528            | 2.467753            |"
      ]
     },
     "metadata": {},
     "output_type": "display_data"
    },
    {
     "data": {
      "text/html": [
       "<pre>| 43        | 57.218690    | 0.555069          | 1.493804          | 0.161482            | 2.471206            |</pre>"
      ],
      "text/plain": [
       "| 43        | 57.218690    | 0.555069          | 1.493804          | 0.161482            | 2.471206            |"
      ]
     },
     "metadata": {},
     "output_type": "display_data"
    },
    {
     "data": {
      "text/html": [
       "<pre>| 44        | 58.561270    | 0.556624          | 1.487569          | 0.161238            | 2.474107            |</pre>"
      ],
      "text/plain": [
       "| 44        | 58.561270    | 0.556624          | 1.487569          | 0.161238            | 2.474107            |"
      ]
     },
     "metadata": {},
     "output_type": "display_data"
    },
    {
     "data": {
      "text/html": [
       "<pre>| 45        | 59.892046    | 0.559149          | 1.481420          | 0.160801            | 2.477139            |</pre>"
      ],
      "text/plain": [
       "| 45        | 59.892046    | 0.559149          | 1.481420          | 0.160801            | 2.477139            |"
      ]
     },
     "metadata": {},
     "output_type": "display_data"
    },
    {
     "data": {
      "text/html": [
       "<pre>| 46        | 61.204481    | 0.561158          | 1.475747          | 0.161472            | 2.478775            |</pre>"
      ],
      "text/plain": [
       "| 46        | 61.204481    | 0.561158          | 1.475747          | 0.161472            | 2.478775            |"
      ]
     },
     "metadata": {},
     "output_type": "display_data"
    },
    {
     "data": {
      "text/html": [
       "<pre>| 47        | 62.529917    | 0.562818          | 1.470344          | 0.160898            | 2.481246            |</pre>"
      ],
      "text/plain": [
       "| 47        | 62.529917    | 0.562818          | 1.470344          | 0.160898            | 2.481246            |"
      ]
     },
     "metadata": {},
     "output_type": "display_data"
    },
    {
     "data": {
      "text/html": [
       "<pre>| 48        | 63.817774    | 0.564576          | 1.464630          | 0.160771            | 2.482091            |</pre>"
      ],
      "text/plain": [
       "| 48        | 63.817774    | 0.564576          | 1.464630          | 0.160771            | 2.482091            |"
      ]
     },
     "metadata": {},
     "output_type": "display_data"
    },
    {
     "data": {
      "text/html": [
       "<pre>| 49        | 65.151340    | 0.566293          | 1.459318          | 0.161370            | 2.485055            |</pre>"
      ],
      "text/plain": [
       "| 49        | 65.151340    | 0.566293          | 1.459318          | 0.161370            | 2.485055            |"
      ]
     },
     "metadata": {},
     "output_type": "display_data"
    },
    {
     "data": {
      "text/html": [
       "<pre>| 50        | 66.453682    | 0.568284          | 1.454253          | 0.161264            | 2.486326            |</pre>"
      ],
      "text/plain": [
       "| 50        | 66.453682    | 0.568284          | 1.454253          | 0.161264            | 2.486326            |"
      ]
     },
     "metadata": {},
     "output_type": "display_data"
    },
    {
     "data": {
      "text/html": [
       "<pre>+-----------+--------------+-------------------+-------------------+---------------------+---------------------+</pre>"
      ],
      "text/plain": [
       "+-----------+--------------+-------------------+-------------------+---------------------+---------------------+"
      ]
     },
     "metadata": {},
     "output_type": "display_data"
    }
   ],
   "source": [
    "target = \"group\"\n",
    "features = ['longitude','latitude']\n",
    "model = gl.classifier.boosted_trees_classifier.create(fold_train,\n",
    "                                                      target=target, features=features,\n",
    "                                                      validation_set=fold_val, max_iterations = 50)"
   ]
  },
  {
   "cell_type": "markdown",
   "metadata": {},
   "source": [
    "### 4) phone brand device model features"
   ]
  },
  {
   "cell_type": "code",
   "execution_count": 79,
   "metadata": {
    "collapsed": false
   },
   "outputs": [
    {
     "data": {
      "text/html": [
       "<pre>Boosted trees classifier:</pre>"
      ],
      "text/plain": [
       "Boosted trees classifier:"
      ]
     },
     "metadata": {},
     "output_type": "display_data"
    },
    {
     "data": {
      "text/html": [
       "<pre>--------------------------------------------------------</pre>"
      ],
      "text/plain": [
       "--------------------------------------------------------"
      ]
     },
     "metadata": {},
     "output_type": "display_data"
    },
    {
     "data": {
      "text/html": [
       "<pre>Number of examples          : 770373</pre>"
      ],
      "text/plain": [
       "Number of examples          : 770373"
      ]
     },
     "metadata": {},
     "output_type": "display_data"
    },
    {
     "data": {
      "text/html": [
       "<pre>Number of classes           : 12</pre>"
      ],
      "text/plain": [
       "Number of classes           : 12"
      ]
     },
     "metadata": {},
     "output_type": "display_data"
    },
    {
     "data": {
      "text/html": [
       "<pre>Number of feature columns   : 1</pre>"
      ],
      "text/plain": [
       "Number of feature columns   : 1"
      ]
     },
     "metadata": {},
     "output_type": "display_data"
    },
    {
     "data": {
      "text/html": [
       "<pre>Number of unpacked features : 1</pre>"
      ],
      "text/plain": [
       "Number of unpacked features : 1"
      ]
     },
     "metadata": {},
     "output_type": "display_data"
    },
    {
     "data": {
      "text/html": [
       "<pre>+-----------+--------------+-------------------+-------------------+---------------------+---------------------+</pre>"
      ],
      "text/plain": [
       "+-----------+--------------+-------------------+-------------------+---------------------+---------------------+"
      ]
     },
     "metadata": {},
     "output_type": "display_data"
    },
    {
     "data": {
      "text/html": [
       "<pre>| Iteration | Elapsed Time | Training-accuracy | Training-log_loss | Validation-accuracy | Validation-log_loss |</pre>"
      ],
      "text/plain": [
       "| Iteration | Elapsed Time | Training-accuracy | Training-log_loss | Validation-accuracy | Validation-log_loss |"
      ]
     },
     "metadata": {},
     "output_type": "display_data"
    },
    {
     "data": {
      "text/html": [
       "<pre>+-----------+--------------+-------------------+-------------------+---------------------+---------------------+</pre>"
      ],
      "text/plain": [
       "+-----------+--------------+-------------------+-------------------+---------------------+---------------------+"
      ]
     },
     "metadata": {},
     "output_type": "display_data"
    },
    {
     "data": {
      "text/html": [
       "<pre>| 1         | 0.863935     | 0.198326          | 2.419412          | 0.189094            | 2.425198            |</pre>"
      ],
      "text/plain": [
       "| 1         | 0.863935     | 0.198326          | 2.419412          | 0.189094            | 2.425198            |"
      ]
     },
     "metadata": {},
     "output_type": "display_data"
    },
    {
     "data": {
      "text/html": [
       "<pre>| 2         | 1.716032     | 0.198941          | 2.378801          | 0.189419            | 2.388273            |</pre>"
      ],
      "text/plain": [
       "| 2         | 1.716032     | 0.198941          | 2.378801          | 0.189419            | 2.388273            |"
      ]
     },
     "metadata": {},
     "output_type": "display_data"
    },
    {
     "data": {
      "text/html": [
       "<pre>| 3         | 2.585636     | 0.199032          | 2.351166          | 0.189419            | 2.361899            |</pre>"
      ],
      "text/plain": [
       "| 3         | 2.585636     | 0.199032          | 2.351166          | 0.189419            | 2.361899            |"
      ]
     },
     "metadata": {},
     "output_type": "display_data"
    },
    {
     "data": {
      "text/html": [
       "<pre>| 4         | 3.440163     | 0.199019          | 2.331777          | 0.189216            | 2.345396            |</pre>"
      ],
      "text/plain": [
       "| 4         | 3.440163     | 0.199019          | 2.331777          | 0.189216            | 2.345396            |"
      ]
     },
     "metadata": {},
     "output_type": "display_data"
    },
    {
     "data": {
      "text/html": [
       "<pre>| 5         | 4.293101     | 0.199071          | 2.317839          | 0.189216            | 2.333405            |</pre>"
      ],
      "text/plain": [
       "| 5         | 4.293101     | 0.199071          | 2.317839          | 0.189216            | 2.333405            |"
      ]
     },
     "metadata": {},
     "output_type": "display_data"
    },
    {
     "data": {
      "text/html": [
       "<pre>| 6         | 5.145743     | 0.199176          | 2.307635          | 0.189216            | 2.323963            |</pre>"
      ],
      "text/plain": [
       "| 6         | 5.145743     | 0.199176          | 2.307635          | 0.189216            | 2.323963            |"
      ]
     },
     "metadata": {},
     "output_type": "display_data"
    },
    {
     "data": {
      "text/html": [
       "<pre>| 10        | 8.520482     | 0.199301          | 2.286661          | 0.189216            | 2.305874            |</pre>"
      ],
      "text/plain": [
       "| 10        | 8.520482     | 0.199301          | 2.286661          | 0.189216            | 2.305874            |"
      ]
     },
     "metadata": {},
     "output_type": "display_data"
    },
    {
     "data": {
      "text/html": [
       "<pre>| 11        | 9.359652     | 0.199322          | 2.284028          | 0.189216            | 2.303441            |</pre>"
      ],
      "text/plain": [
       "| 11        | 9.359652     | 0.199322          | 2.284028          | 0.189216            | 2.303441            |"
      ]
     },
     "metadata": {},
     "output_type": "display_data"
    },
    {
     "data": {
      "text/html": [
       "<pre>| 15        | 12.712508    | 0.199605          | 2.277786          | 0.189200            | 2.299708            |</pre>"
      ],
      "text/plain": [
       "| 15        | 12.712508    | 0.199605          | 2.277786          | 0.189200            | 2.299708            |"
      ]
     },
     "metadata": {},
     "output_type": "display_data"
    },
    {
     "data": {
      "text/html": [
       "<pre>| 20        | 16.841754    | 0.199636          | 2.274154          | 0.190003            | 2.299133            |</pre>"
      ],
      "text/plain": [
       "| 20        | 16.841754    | 0.199636          | 2.274154          | 0.190003            | 2.299133            |"
      ]
     },
     "metadata": {},
     "output_type": "display_data"
    },
    {
     "data": {
      "text/html": [
       "<pre>| 25        | 20.943619    | 0.199867          | 2.272136          | 0.190704            | 2.300083            |</pre>"
      ],
      "text/plain": [
       "| 25        | 20.943619    | 0.199867          | 2.272136          | 0.190704            | 2.300083            |"
      ]
     },
     "metadata": {},
     "output_type": "display_data"
    },
    {
     "data": {
      "text/html": [
       "<pre>| 30        | 25.001194    | 0.199893          | 2.270810          | 0.190704            | 2.301038            |</pre>"
      ],
      "text/plain": [
       "| 30        | 25.001194    | 0.199893          | 2.270810          | 0.190704            | 2.301038            |"
      ]
     },
     "metadata": {},
     "output_type": "display_data"
    },
    {
     "data": {
      "text/html": [
       "<pre>| 35        | 29.080689    | 0.199901          | 2.269879          | 0.190704            | 2.301966            |</pre>"
      ],
      "text/plain": [
       "| 35        | 29.080689    | 0.199901          | 2.269879          | 0.190704            | 2.301966            |"
      ]
     },
     "metadata": {},
     "output_type": "display_data"
    },
    {
     "data": {
      "text/html": [
       "<pre>| 40        | 33.145989    | 0.199910          | 2.269207          | 0.190831            | 2.302693            |</pre>"
      ],
      "text/plain": [
       "| 40        | 33.145989    | 0.199910          | 2.269207          | 0.190831            | 2.302693            |"
      ]
     },
     "metadata": {},
     "output_type": "display_data"
    },
    {
     "data": {
      "text/html": [
       "<pre>| 45        | 37.198411    | 0.199910          | 2.268694          | 0.190831            | 2.303591            |</pre>"
      ],
      "text/plain": [
       "| 45        | 37.198411    | 0.199910          | 2.268694          | 0.190831            | 2.303591            |"
      ]
     },
     "metadata": {},
     "output_type": "display_data"
    },
    {
     "data": {
      "text/html": [
       "<pre>| 50        | 41.244873    | 0.199912          | 2.268308          | 0.190831            | 2.304245            |</pre>"
      ],
      "text/plain": [
       "| 50        | 41.244873    | 0.199912          | 2.268308          | 0.190831            | 2.304245            |"
      ]
     },
     "metadata": {},
     "output_type": "display_data"
    },
    {
     "data": {
      "text/html": [
       "<pre>+-----------+--------------+-------------------+-------------------+---------------------+---------------------+</pre>"
      ],
      "text/plain": [
       "+-----------+--------------+-------------------+-------------------+---------------------+---------------------+"
      ]
     },
     "metadata": {},
     "output_type": "display_data"
    }
   ],
   "source": [
    "target = \"group\"\n",
    "features = ['phone_brand']\n",
    "model = gl.classifier.boosted_trees_classifier.create(fold_train,\n",
    "                                                      target=target, features=features,\n",
    "                                                      validation_set=fold_val, max_iterations = 50)"
   ]
  },
  {
   "cell_type": "code",
   "execution_count": 80,
   "metadata": {
    "collapsed": false
   },
   "outputs": [
    {
     "data": {
      "text/html": [
       "<pre>Boosted trees classifier:</pre>"
      ],
      "text/plain": [
       "Boosted trees classifier:"
      ]
     },
     "metadata": {},
     "output_type": "display_data"
    },
    {
     "data": {
      "text/html": [
       "<pre>--------------------------------------------------------</pre>"
      ],
      "text/plain": [
       "--------------------------------------------------------"
      ]
     },
     "metadata": {},
     "output_type": "display_data"
    },
    {
     "data": {
      "text/html": [
       "<pre>Number of examples          : 770373</pre>"
      ],
      "text/plain": [
       "Number of examples          : 770373"
      ]
     },
     "metadata": {},
     "output_type": "display_data"
    },
    {
     "data": {
      "text/html": [
       "<pre>Number of classes           : 12</pre>"
      ],
      "text/plain": [
       "Number of classes           : 12"
      ]
     },
     "metadata": {},
     "output_type": "display_data"
    },
    {
     "data": {
      "text/html": [
       "<pre>Number of feature columns   : 1</pre>"
      ],
      "text/plain": [
       "Number of feature columns   : 1"
      ]
     },
     "metadata": {},
     "output_type": "display_data"
    },
    {
     "data": {
      "text/html": [
       "<pre>Number of unpacked features : 1</pre>"
      ],
      "text/plain": [
       "Number of unpacked features : 1"
      ]
     },
     "metadata": {},
     "output_type": "display_data"
    },
    {
     "data": {
      "text/html": [
       "<pre>+-----------+--------------+-------------------+-------------------+---------------------+---------------------+</pre>"
      ],
      "text/plain": [
       "+-----------+--------------+-------------------+-------------------+---------------------+---------------------+"
      ]
     },
     "metadata": {},
     "output_type": "display_data"
    },
    {
     "data": {
      "text/html": [
       "<pre>| Iteration | Elapsed Time | Training-accuracy | Training-log_loss | Validation-accuracy | Validation-log_loss |</pre>"
      ],
      "text/plain": [
       "| Iteration | Elapsed Time | Training-accuracy | Training-log_loss | Validation-accuracy | Validation-log_loss |"
      ]
     },
     "metadata": {},
     "output_type": "display_data"
    },
    {
     "data": {
      "text/html": [
       "<pre>+-----------+--------------+-------------------+-------------------+---------------------+---------------------+</pre>"
      ],
      "text/plain": [
       "+-----------+--------------+-------------------+-------------------+---------------------+---------------------+"
      ]
     },
     "metadata": {},
     "output_type": "display_data"
    },
    {
     "data": {
      "text/html": [
       "<pre>| 1         | 0.811879     | 0.230940          | 2.382526          | 0.161731            | 2.436627            |</pre>"
      ],
      "text/plain": [
       "| 1         | 0.811879     | 0.230940          | 2.382526          | 0.161731            | 2.436627            |"
      ]
     },
     "metadata": {},
     "output_type": "display_data"
    },
    {
     "data": {
      "text/html": [
       "<pre>| 2         | 1.620598     | 0.253863          | 2.324686          | 0.165146            | 2.401833            |</pre>"
      ],
      "text/plain": [
       "| 2         | 1.620598     | 0.253863          | 2.324686          | 0.165146            | 2.401833            |"
      ]
     },
     "metadata": {},
     "output_type": "display_data"
    },
    {
     "data": {
      "text/html": [
       "<pre>| 3         | 2.410888     | 0.261495          | 2.284383          | 0.160217            | 2.377756            |</pre>"
      ],
      "text/plain": [
       "| 3         | 2.410888     | 0.261495          | 2.284383          | 0.160217            | 2.377756            |"
      ]
     },
     "metadata": {},
     "output_type": "display_data"
    },
    {
     "data": {
      "text/html": [
       "<pre>| 4         | 3.224454     | 0.275086          | 2.254837          | 0.170339            | 2.366852            |</pre>"
      ],
      "text/plain": [
       "| 4         | 3.224454     | 0.275086          | 2.254837          | 0.170339            | 2.366852            |"
      ]
     },
     "metadata": {},
     "output_type": "display_data"
    },
    {
     "data": {
      "text/html": [
       "<pre>| 5         | 4.030989     | 0.278017          | 2.232473          | 0.168967            | 2.357220            |</pre>"
      ],
      "text/plain": [
       "| 5         | 4.030989     | 0.278017          | 2.232473          | 0.168967            | 2.357220            |"
      ]
     },
     "metadata": {},
     "output_type": "display_data"
    },
    {
     "data": {
      "text/html": [
       "<pre>| 6         | 4.829409     | 0.279925          | 2.214679          | 0.174556            | 2.350141            |</pre>"
      ],
      "text/plain": [
       "| 6         | 4.829409     | 0.279925          | 2.214679          | 0.174556            | 2.350141            |"
      ]
     },
     "metadata": {},
     "output_type": "display_data"
    },
    {
     "data": {
      "text/html": [
       "<pre>| 10        | 8.014141     | 0.288677          | 2.169273          | 0.174805            | 2.335475            |</pre>"
      ],
      "text/plain": [
       "| 10        | 8.014141     | 0.288677          | 2.169273          | 0.174805            | 2.335475            |"
      ]
     },
     "metadata": {},
     "output_type": "display_data"
    },
    {
     "data": {
      "text/html": [
       "<pre>| 11        | 8.815581     | 0.292493          | 2.161499          | 0.180506            | 2.334873            |</pre>"
      ],
      "text/plain": [
       "| 11        | 8.815581     | 0.292493          | 2.161499          | 0.180506            | 2.334873            |"
      ]
     },
     "metadata": {},
     "output_type": "display_data"
    },
    {
     "data": {
      "text/html": [
       "<pre>| 15        | 12.000382    | 0.293202          | 2.137400          | 0.174561            | 2.334624            |</pre>"
      ],
      "text/plain": [
       "| 15        | 12.000382    | 0.293202          | 2.137400          | 0.174561            | 2.334624            |"
      ]
     },
     "metadata": {},
     "output_type": "display_data"
    },
    {
     "data": {
      "text/html": [
       "<pre>| 20        | 15.946777    | 0.299513          | 2.115622          | 0.174886            | 2.335560            |</pre>"
      ],
      "text/plain": [
       "| 20        | 15.946777    | 0.299513          | 2.115622          | 0.174886            | 2.335560            |"
      ]
     },
     "metadata": {},
     "output_type": "display_data"
    },
    {
     "data": {
      "text/html": [
       "<pre>| 25        | 20.158646    | 0.303337          | 2.098803          | 0.179861            | 2.338924            |</pre>"
      ],
      "text/plain": [
       "| 25        | 20.158646    | 0.303337          | 2.098803          | 0.179861            | 2.338924            |"
      ]
     },
     "metadata": {},
     "output_type": "display_data"
    },
    {
     "data": {
      "text/html": [
       "<pre>| 30        | 24.168459    | 0.305151          | 2.084999          | 0.176543            | 2.345270            |</pre>"
      ],
      "text/plain": [
       "| 30        | 24.168459    | 0.305151          | 2.084999          | 0.176543            | 2.345270            |"
      ]
     },
     "metadata": {},
     "output_type": "display_data"
    },
    {
     "data": {
      "text/html": [
       "<pre>| 35        | 28.182077    | 0.306921          | 2.073324          | 0.175369            | 2.348279            |</pre>"
      ],
      "text/plain": [
       "| 35        | 28.182077    | 0.306921          | 2.073324          | 0.175369            | 2.348279            |"
      ]
     },
     "metadata": {},
     "output_type": "display_data"
    },
    {
     "data": {
      "text/html": [
       "<pre>| 40        | 32.165162    | 0.309398          | 2.063208          | 0.172574            | 2.352152            |</pre>"
      ],
      "text/plain": [
       "| 40        | 32.165162    | 0.309398          | 2.063208          | 0.172574            | 2.352152            |"
      ]
     },
     "metadata": {},
     "output_type": "display_data"
    },
    {
     "data": {
      "text/html": [
       "<pre>| 45        | 36.135189    | 0.311600          | 2.054273          | 0.178159            | 2.355129            |</pre>"
      ],
      "text/plain": [
       "| 45        | 36.135189    | 0.311600          | 2.054273          | 0.178159            | 2.355129            |"
      ]
     },
     "metadata": {},
     "output_type": "display_data"
    },
    {
     "data": {
      "text/html": [
       "<pre>| 50        | 40.108831    | 0.313320          | 2.046357          | 0.176944            | 2.358934            |</pre>"
      ],
      "text/plain": [
       "| 50        | 40.108831    | 0.313320          | 2.046357          | 0.176944            | 2.358934            |"
      ]
     },
     "metadata": {},
     "output_type": "display_data"
    },
    {
     "data": {
      "text/html": [
       "<pre>+-----------+--------------+-------------------+-------------------+---------------------+---------------------+</pre>"
      ],
      "text/plain": [
       "+-----------+--------------+-------------------+-------------------+---------------------+---------------------+"
      ]
     },
     "metadata": {},
     "output_type": "display_data"
    }
   ],
   "source": [
    "target = \"group\"\n",
    "features = ['device_model']\n",
    "model = gl.classifier.boosted_trees_classifier.create(fold_train,\n",
    "                                                      target=target, features=features,\n",
    "                                                      validation_set=fold_val, max_iterations = 50)"
   ]
  },
  {
   "cell_type": "code",
   "execution_count": 81,
   "metadata": {
    "collapsed": false
   },
   "outputs": [
    {
     "data": {
      "text/html": [
       "<pre>Boosted trees classifier:</pre>"
      ],
      "text/plain": [
       "Boosted trees classifier:"
      ]
     },
     "metadata": {},
     "output_type": "display_data"
    },
    {
     "data": {
      "text/html": [
       "<pre>--------------------------------------------------------</pre>"
      ],
      "text/plain": [
       "--------------------------------------------------------"
      ]
     },
     "metadata": {},
     "output_type": "display_data"
    },
    {
     "data": {
      "text/html": [
       "<pre>Number of examples          : 770373</pre>"
      ],
      "text/plain": [
       "Number of examples          : 770373"
      ]
     },
     "metadata": {},
     "output_type": "display_data"
    },
    {
     "data": {
      "text/html": [
       "<pre>Number of classes           : 12</pre>"
      ],
      "text/plain": [
       "Number of classes           : 12"
      ]
     },
     "metadata": {},
     "output_type": "display_data"
    },
    {
     "data": {
      "text/html": [
       "<pre>Number of feature columns   : 2</pre>"
      ],
      "text/plain": [
       "Number of feature columns   : 2"
      ]
     },
     "metadata": {},
     "output_type": "display_data"
    },
    {
     "data": {
      "text/html": [
       "<pre>Number of unpacked features : 2</pre>"
      ],
      "text/plain": [
       "Number of unpacked features : 2"
      ]
     },
     "metadata": {},
     "output_type": "display_data"
    },
    {
     "data": {
      "text/html": [
       "<pre>+-----------+--------------+-------------------+-------------------+---------------------+---------------------+</pre>"
      ],
      "text/plain": [
       "+-----------+--------------+-------------------+-------------------+---------------------+---------------------+"
      ]
     },
     "metadata": {},
     "output_type": "display_data"
    },
    {
     "data": {
      "text/html": [
       "<pre>| Iteration | Elapsed Time | Training-accuracy | Training-log_loss | Validation-accuracy | Validation-log_loss |</pre>"
      ],
      "text/plain": [
       "| Iteration | Elapsed Time | Training-accuracy | Training-log_loss | Validation-accuracy | Validation-log_loss |"
      ]
     },
     "metadata": {},
     "output_type": "display_data"
    },
    {
     "data": {
      "text/html": [
       "<pre>+-----------+--------------+-------------------+-------------------+---------------------+---------------------+</pre>"
      ],
      "text/plain": [
       "+-----------+--------------+-------------------+-------------------+---------------------+---------------------+"
      ]
     },
     "metadata": {},
     "output_type": "display_data"
    },
    {
     "data": {
      "text/html": [
       "<pre>| 1         | 0.955768     | 0.239714          | 2.376469          | 0.156010            | 2.434178            |</pre>"
      ],
      "text/plain": [
       "| 1         | 0.955768     | 0.239714          | 2.376469          | 0.156010            | 2.434178            |"
      ]
     },
     "metadata": {},
     "output_type": "display_data"
    },
    {
     "data": {
      "text/html": [
       "<pre>| 2         | 1.894368     | 0.258667          | 2.315447          | 0.161081            | 2.397107            |</pre>"
      ],
      "text/plain": [
       "| 2         | 1.894368     | 0.258667          | 2.315447          | 0.161081            | 2.397107            |"
      ]
     },
     "metadata": {},
     "output_type": "display_data"
    },
    {
     "data": {
      "text/html": [
       "<pre>| 3         | 2.834483     | 0.268056          | 2.271038          | 0.164241            | 2.372340            |</pre>"
      ],
      "text/plain": [
       "| 3         | 2.834483     | 0.268056          | 2.271038          | 0.164241            | 2.372340            |"
      ]
     },
     "metadata": {},
     "output_type": "display_data"
    },
    {
     "data": {
      "text/html": [
       "<pre>| 4         | 3.779863     | 0.280716          | 2.239424          | 0.170847            | 2.359439            |</pre>"
      ],
      "text/plain": [
       "| 4         | 3.779863     | 0.280716          | 2.239424          | 0.170847            | 2.359439            |"
      ]
     },
     "metadata": {},
     "output_type": "display_data"
    },
    {
     "data": {
      "text/html": [
       "<pre>| 5         | 4.721157     | 0.282664          | 2.215013          | 0.168962            | 2.351144            |</pre>"
      ],
      "text/plain": [
       "| 5         | 4.721157     | 0.282664          | 2.215013          | 0.168962            | 2.351144            |"
      ]
     },
     "metadata": {},
     "output_type": "display_data"
    },
    {
     "data": {
      "text/html": [
       "<pre>| 6         | 5.671841     | 0.286993          | 2.195472          | 0.172808            | 2.342808            |</pre>"
      ],
      "text/plain": [
       "| 6         | 5.671841     | 0.286993          | 2.195472          | 0.172808            | 2.342808            |"
      ]
     },
     "metadata": {},
     "output_type": "display_data"
    },
    {
     "data": {
      "text/html": [
       "<pre>| 10        | 9.412158     | 0.292514          | 2.146937          | 0.172625            | 2.328242            |</pre>"
      ],
      "text/plain": [
       "| 10        | 9.412158     | 0.292514          | 2.146937          | 0.172625            | 2.328242            |"
      ]
     },
     "metadata": {},
     "output_type": "display_data"
    },
    {
     "data": {
      "text/html": [
       "<pre>| 11        | 10.358097    | 0.295996          | 2.138788          | 0.166584            | 2.327961            |</pre>"
      ],
      "text/plain": [
       "| 11        | 10.358097    | 0.295996          | 2.138788          | 0.166584            | 2.327961            |"
      ]
     },
     "metadata": {},
     "output_type": "display_data"
    },
    {
     "data": {
      "text/html": [
       "<pre>| 15        | 14.171005    | 0.299918          | 2.114373          | 0.164475            | 2.327865            |</pre>"
      ],
      "text/plain": [
       "| 15        | 14.171005    | 0.299918          | 2.114373          | 0.164475            | 2.327865            |"
      ]
     },
     "metadata": {},
     "output_type": "display_data"
    },
    {
     "data": {
      "text/html": [
       "<pre>| 20        | 19.234925    | 0.305556          | 2.093102          | 0.157671            | 2.333277            |</pre>"
      ],
      "text/plain": [
       "| 20        | 19.234925    | 0.305556          | 2.093102          | 0.157671            | 2.333277            |"
      ]
     },
     "metadata": {},
     "output_type": "display_data"
    },
    {
     "data": {
      "text/html": [
       "<pre>| 25        | 24.004775    | 0.306505          | 2.076856          | 0.157417            | 2.336063            |</pre>"
      ],
      "text/plain": [
       "| 25        | 24.004775    | 0.306505          | 2.076856          | 0.157417            | 2.336063            |"
      ]
     },
     "metadata": {},
     "output_type": "display_data"
    },
    {
     "data": {
      "text/html": [
       "<pre>| 30        | 28.833932    | 0.307226          | 2.064331          | 0.157143            | 2.341763            |</pre>"
      ],
      "text/plain": [
       "| 30        | 28.833932    | 0.307226          | 2.064331          | 0.157143            | 2.341763            |"
      ]
     },
     "metadata": {},
     "output_type": "display_data"
    },
    {
     "data": {
      "text/html": [
       "<pre>| 35        | 33.513334    | 0.311132          | 2.053259          | 0.162138            | 2.344954            |</pre>"
      ],
      "text/plain": [
       "| 35        | 33.513334    | 0.311132          | 2.053259          | 0.162138            | 2.344954            |"
      ]
     },
     "metadata": {},
     "output_type": "display_data"
    },
    {
     "data": {
      "text/html": [
       "<pre>| 40        | 38.154659    | 0.313222          | 2.044196          | 0.166015            | 2.349335            |</pre>"
      ],
      "text/plain": [
       "| 40        | 38.154659    | 0.313222          | 2.044196          | 0.166015            | 2.349335            |"
      ]
     },
     "metadata": {},
     "output_type": "display_data"
    },
    {
     "data": {
      "text/html": [
       "<pre>| 45        | 43.210114    | 0.313669          | 2.035986          | 0.165029            | 2.354456            |</pre>"
      ],
      "text/plain": [
       "| 45        | 43.210114    | 0.313669          | 2.035986          | 0.165029            | 2.354456            |"
      ]
     },
     "metadata": {},
     "output_type": "display_data"
    },
    {
     "data": {
      "text/html": [
       "<pre>| 50        | 47.836710    | 0.315230          | 2.028670          | 0.166004            | 2.360280            |</pre>"
      ],
      "text/plain": [
       "| 50        | 47.836710    | 0.315230          | 2.028670          | 0.166004            | 2.360280            |"
      ]
     },
     "metadata": {},
     "output_type": "display_data"
    },
    {
     "data": {
      "text/html": [
       "<pre>+-----------+--------------+-------------------+-------------------+---------------------+---------------------+</pre>"
      ],
      "text/plain": [
       "+-----------+--------------+-------------------+-------------------+---------------------+---------------------+"
      ]
     },
     "metadata": {},
     "output_type": "display_data"
    }
   ],
   "source": [
    "target = \"group\"\n",
    "features = ['phone_brand','device_model']\n",
    "model = gl.classifier.boosted_trees_classifier.create(fold_train,\n",
    "                                                      target=target, features=features,\n",
    "                                                      validation_set=fold_val, max_iterations = 50)"
   ]
  },
  {
   "cell_type": "markdown",
   "metadata": {},
   "source": [
    "## final model"
   ]
  },
  {
   "cell_type": "code",
   "execution_count": 41,
   "metadata": {
    "collapsed": false
   },
   "outputs": [
    {
     "data": {
      "text/html": [
       "<pre>Boosted trees classifier:</pre>"
      ],
      "text/plain": [
       "Boosted trees classifier:"
      ]
     },
     "metadata": {},
     "output_type": "display_data"
    },
    {
     "data": {
      "text/html": [
       "<pre>--------------------------------------------------------</pre>"
      ],
      "text/plain": [
       "--------------------------------------------------------"
      ]
     },
     "metadata": {},
     "output_type": "display_data"
    },
    {
     "data": {
      "text/html": [
       "<pre>Number of examples          : 770048</pre>"
      ],
      "text/plain": [
       "Number of examples          : 770048"
      ]
     },
     "metadata": {},
     "output_type": "display_data"
    },
    {
     "data": {
      "text/html": [
       "<pre>Number of classes           : 12</pre>"
      ],
      "text/plain": [
       "Number of classes           : 12"
      ]
     },
     "metadata": {},
     "output_type": "display_data"
    },
    {
     "data": {
      "text/html": [
       "<pre>Number of feature columns   : 8</pre>"
      ],
      "text/plain": [
       "Number of feature columns   : 8"
      ]
     },
     "metadata": {},
     "output_type": "display_data"
    },
    {
     "data": {
      "text/html": [
       "<pre>Number of unpacked features : 928</pre>"
      ],
      "text/plain": [
       "Number of unpacked features : 928"
      ]
     },
     "metadata": {},
     "output_type": "display_data"
    },
    {
     "data": {
      "text/html": [
       "<pre>+-----------+--------------+-------------------+-------------------+---------------------+---------------------+</pre>"
      ],
      "text/plain": [
       "+-----------+--------------+-------------------+-------------------+---------------------+---------------------+"
      ]
     },
     "metadata": {},
     "output_type": "display_data"
    },
    {
     "data": {
      "text/html": [
       "<pre>| Iteration | Elapsed Time | Training-accuracy | Training-log_loss | Validation-accuracy | Validation-log_loss |</pre>"
      ],
      "text/plain": [
       "| Iteration | Elapsed Time | Training-accuracy | Training-log_loss | Validation-accuracy | Validation-log_loss |"
      ]
     },
     "metadata": {},
     "output_type": "display_data"
    },
    {
     "data": {
      "text/html": [
       "<pre>+-----------+--------------+-------------------+-------------------+---------------------+---------------------+</pre>"
      ],
      "text/plain": [
       "+-----------+--------------+-------------------+-------------------+---------------------+---------------------+"
      ]
     },
     "metadata": {},
     "output_type": "display_data"
    },
    {
     "data": {
      "text/html": [
       "<pre>| 1         | 4.052674     | 0.247752          | 2.440986          | 0.173279            | 2.464136            |</pre>"
      ],
      "text/plain": [
       "| 1         | 4.052674     | 0.247752          | 2.440986          | 0.173279            | 2.464136            |"
      ]
     },
     "metadata": {},
     "output_type": "display_data"
    },
    {
     "data": {
      "text/html": [
       "<pre>| 2         | 7.672860     | 0.271575          | 2.405135          | 0.159288            | 2.446187            |</pre>"
      ],
      "text/plain": [
       "| 2         | 7.672860     | 0.271575          | 2.405135          | 0.159288            | 2.446187            |"
      ]
     },
     "metadata": {},
     "output_type": "display_data"
    },
    {
     "data": {
      "text/html": [
       "<pre>| 3         | 11.387977    | 0.298387          | 2.370487          | 0.170342            | 2.428839            |</pre>"
      ],
      "text/plain": [
       "| 3         | 11.387977    | 0.298387          | 2.370487          | 0.170342            | 2.428839            |"
      ]
     },
     "metadata": {},
     "output_type": "display_data"
    },
    {
     "data": {
      "text/html": [
       "<pre>| 4         | 15.130098    | 0.319388          | 2.335530          | 0.179062            | 2.416098            |</pre>"
      ],
      "text/plain": [
       "| 4         | 15.130098    | 0.319388          | 2.335530          | 0.179062            | 2.416098            |"
      ]
     },
     "metadata": {},
     "output_type": "display_data"
    },
    {
     "data": {
      "text/html": [
       "<pre>| 5         | 19.001457    | 0.329782          | 2.302837          | 0.180087            | 2.402661            |</pre>"
      ],
      "text/plain": [
       "| 5         | 19.001457    | 0.329782          | 2.302837          | 0.180087            | 2.402661            |"
      ]
     },
     "metadata": {},
     "output_type": "display_data"
    },
    {
     "data": {
      "text/html": [
       "<pre>| 6         | 22.888080    | 0.343036          | 2.273551          | 0.184521            | 2.390892            |</pre>"
      ],
      "text/plain": [
       "| 6         | 22.888080    | 0.343036          | 2.273551          | 0.184521            | 2.390892            |"
      ]
     },
     "metadata": {},
     "output_type": "display_data"
    },
    {
     "data": {
      "text/html": [
       "<pre>| 7         | 26.840142    | 0.348541          | 2.247927          | 0.191060            | 2.380501            |</pre>"
      ],
      "text/plain": [
       "| 7         | 26.840142    | 0.348541          | 2.247927          | 0.191060            | 2.380501            |"
      ]
     },
     "metadata": {},
     "output_type": "display_data"
    },
    {
     "data": {
      "text/html": [
       "<pre>| 8         | 30.532108    | 0.359680          | 2.223504          | 0.189046            | 2.371512            |</pre>"
      ],
      "text/plain": [
       "| 8         | 30.532108    | 0.359680          | 2.223504          | 0.189046            | 2.371512            |"
      ]
     },
     "metadata": {},
     "output_type": "display_data"
    },
    {
     "data": {
      "text/html": [
       "<pre>| 9         | 34.413301    | 0.368469          | 2.203820          | 0.191344            | 2.363952            |</pre>"
      ],
      "text/plain": [
       "| 9         | 34.413301    | 0.368469          | 2.203820          | 0.191344            | 2.363952            |"
      ]
     },
     "metadata": {},
     "output_type": "display_data"
    },
    {
     "data": {
      "text/html": [
       "<pre>| 10        | 38.175972    | 0.374547          | 2.183068          | 0.189923            | 2.356284            |</pre>"
      ],
      "text/plain": [
       "| 10        | 38.175972    | 0.374547          | 2.183068          | 0.189923            | 2.356284            |"
      ]
     },
     "metadata": {},
     "output_type": "display_data"
    },
    {
     "data": {
      "text/html": [
       "<pre>| 11        | 41.807788    | 0.377025          | 2.165394          | 0.195250            | 2.349889            |</pre>"
      ],
      "text/plain": [
       "| 11        | 41.807788    | 0.377025          | 2.165394          | 0.195250            | 2.349889            |"
      ]
     },
     "metadata": {},
     "output_type": "display_data"
    },
    {
     "data": {
      "text/html": [
       "<pre>| 12        | 45.708231    | 0.386846          | 2.145452          | 0.192373            | 2.344820            |</pre>"
      ],
      "text/plain": [
       "| 12        | 45.708231    | 0.386846          | 2.145452          | 0.192373            | 2.344820            |"
      ]
     },
     "metadata": {},
     "output_type": "display_data"
    },
    {
     "data": {
      "text/html": [
       "<pre>| 13        | 49.804618    | 0.388997          | 2.127186          | 0.191836            | 2.339592            |</pre>"
      ],
      "text/plain": [
       "| 13        | 49.804618    | 0.388997          | 2.127186          | 0.191836            | 2.339592            |"
      ]
     },
     "metadata": {},
     "output_type": "display_data"
    },
    {
     "data": {
      "text/html": [
       "<pre>| 14        | 53.670928    | 0.392550          | 2.110338          | 0.194829            | 2.334535            |</pre>"
      ],
      "text/plain": [
       "| 14        | 53.670928    | 0.392550          | 2.110338          | 0.194829            | 2.334535            |"
      ]
     },
     "metadata": {},
     "output_type": "display_data"
    },
    {
     "data": {
      "text/html": [
       "<pre>| 15        | 57.548857    | 0.397200          | 2.096095          | 0.190933            | 2.330063            |</pre>"
      ],
      "text/plain": [
       "| 15        | 57.548857    | 0.397200          | 2.096095          | 0.190933            | 2.330063            |"
      ]
     },
     "metadata": {},
     "output_type": "display_data"
    },
    {
     "data": {
      "text/html": [
       "<pre>| 16        | 61.140332    | 0.398374          | 2.083250          | 0.195331            | 2.326163            |</pre>"
      ],
      "text/plain": [
       "| 16        | 61.140332    | 0.398374          | 2.083250          | 0.195331            | 2.326163            |"
      ]
     },
     "metadata": {},
     "output_type": "display_data"
    },
    {
     "data": {
      "text/html": [
       "<pre>| 17        | 65.016702    | 0.403566          | 2.069444          | 0.197527            | 2.322013            |</pre>"
      ],
      "text/plain": [
       "| 17        | 65.016702    | 0.403566          | 2.069444          | 0.197527            | 2.322013            |"
      ]
     },
     "metadata": {},
     "output_type": "display_data"
    },
    {
     "data": {
      "text/html": [
       "<pre>| 18        | 68.911162    | 0.410711          | 2.052128          | 0.195549            | 2.316460            |</pre>"
      ],
      "text/plain": [
       "| 18        | 68.911162    | 0.410711          | 2.052128          | 0.195549            | 2.316460            |"
      ]
     },
     "metadata": {},
     "output_type": "display_data"
    },
    {
     "data": {
      "text/html": [
       "<pre>| 19        | 72.620980    | 0.413477          | 2.039807          | 0.193337            | 2.314061            |</pre>"
      ],
      "text/plain": [
       "| 19        | 72.620980    | 0.413477          | 2.039807          | 0.193337            | 2.314061            |"
      ]
     },
     "metadata": {},
     "output_type": "display_data"
    },
    {
     "data": {
      "text/html": [
       "<pre>| 20        | 76.463334    | 0.416078          | 2.025221          | 0.198344            | 2.310357            |</pre>"
      ],
      "text/plain": [
       "| 20        | 76.463334    | 0.416078          | 2.025221          | 0.198344            | 2.310357            |"
      ]
     },
     "metadata": {},
     "output_type": "display_data"
    },
    {
     "data": {
      "text/html": [
       "<pre>| 21        | 80.476808    | 0.417073          | 2.013840          | 0.198887            | 2.307467            |</pre>"
      ],
      "text/plain": [
       "| 21        | 80.476808    | 0.417073          | 2.013840          | 0.198887            | 2.307467            |"
      ]
     },
     "metadata": {},
     "output_type": "display_data"
    },
    {
     "data": {
      "text/html": [
       "<pre>| 22        | 84.306558    | 0.421501          | 2.003697          | 0.198187            | 2.304013            |</pre>"
      ],
      "text/plain": [
       "| 22        | 84.306558    | 0.421501          | 2.003697          | 0.198187            | 2.304013            |"
      ]
     },
     "metadata": {},
     "output_type": "display_data"
    },
    {
     "data": {
      "text/html": [
       "<pre>| 23        | 88.191679    | 0.425446          | 1.990453          | 0.198167            | 2.301569            |</pre>"
      ],
      "text/plain": [
       "| 23        | 88.191679    | 0.425446          | 1.990453          | 0.198167            | 2.301569            |"
      ]
     },
     "metadata": {},
     "output_type": "display_data"
    },
    {
     "data": {
      "text/html": [
       "<pre>| 24        | 91.980023    | 0.427215          | 1.979276          | 0.199531            | 2.299376            |</pre>"
      ],
      "text/plain": [
       "| 24        | 91.980023    | 0.427215          | 1.979276          | 0.199531            | 2.299376            |"
      ]
     },
     "metadata": {},
     "output_type": "display_data"
    },
    {
     "data": {
      "text/html": [
       "<pre>| 25        | 95.828580    | 0.428571          | 1.967014          | 0.200160            | 2.297413            |</pre>"
      ],
      "text/plain": [
       "| 25        | 95.828580    | 0.428571          | 1.967014          | 0.200160            | 2.297413            |"
      ]
     },
     "metadata": {},
     "output_type": "display_data"
    },
    {
     "data": {
      "text/html": [
       "<pre>| 26        | 99.549148    | 0.431609          | 1.957463          | 0.200130            | 2.294950            |</pre>"
      ],
      "text/plain": [
       "| 26        | 99.549148    | 0.431609          | 1.957463          | 0.200130            | 2.294950            |"
      ]
     },
     "metadata": {},
     "output_type": "display_data"
    },
    {
     "data": {
      "text/html": [
       "<pre>| 27        | 103.312637   | 0.435951          | 1.947188          | 0.197101            | 2.291777            |</pre>"
      ],
      "text/plain": [
       "| 27        | 103.312637   | 0.435951          | 1.947188          | 0.197101            | 2.291777            |"
      ]
     },
     "metadata": {},
     "output_type": "display_data"
    },
    {
     "data": {
      "text/html": [
       "<pre>| 28        | 106.930118   | 0.435852          | 1.939417          | 0.199876            | 2.290262            |</pre>"
      ],
      "text/plain": [
       "| 28        | 106.930118   | 0.435852          | 1.939417          | 0.199876            | 2.290262            |"
      ]
     },
     "metadata": {},
     "output_type": "display_data"
    },
    {
     "data": {
      "text/html": [
       "<pre>| 29        | 110.745905   | 0.436730          | 1.930912          | 0.196594            | 2.288901            |</pre>"
      ],
      "text/plain": [
       "| 29        | 110.745905   | 0.436730          | 1.930912          | 0.196594            | 2.288901            |"
      ]
     },
     "metadata": {},
     "output_type": "display_data"
    },
    {
     "data": {
      "text/html": [
       "<pre>| 30        | 114.449636   | 0.440487          | 1.921969          | 0.197893            | 2.286886            |</pre>"
      ],
      "text/plain": [
       "| 30        | 114.449636   | 0.440487          | 1.921969          | 0.197893            | 2.286886            |"
      ]
     },
     "metadata": {},
     "output_type": "display_data"
    },
    {
     "data": {
      "text/html": [
       "<pre>| 31        | 118.129741   | 0.441635          | 1.913696          | 0.194844            | 2.286254            |</pre>"
      ],
      "text/plain": [
       "| 31        | 118.129741   | 0.441635          | 1.913696          | 0.194844            | 2.286254            |"
      ]
     },
     "metadata": {},
     "output_type": "display_data"
    },
    {
     "data": {
      "text/html": [
       "<pre>| 32        | 121.972254   | 0.446323          | 1.903574          | 0.193266            | 2.285506            |</pre>"
      ],
      "text/plain": [
       "| 32        | 121.972254   | 0.446323          | 1.903574          | 0.193266            | 2.285506            |"
      ]
     },
     "metadata": {},
     "output_type": "display_data"
    },
    {
     "data": {
      "text/html": [
       "<pre>| 33        | 125.828591   | 0.450060          | 1.894907          | 0.192937            | 2.284498            |</pre>"
      ],
      "text/plain": [
       "| 33        | 125.828591   | 0.450060          | 1.894907          | 0.192937            | 2.284498            |"
      ]
     },
     "metadata": {},
     "output_type": "display_data"
    },
    {
     "data": {
      "text/html": [
       "<pre>| 34        | 129.618614   | 0.453808          | 1.888849          | 0.192059            | 2.283631            |</pre>"
      ],
      "text/plain": [
       "| 34        | 129.618614   | 0.453808          | 1.888849          | 0.192059            | 2.283631            |"
      ]
     },
     "metadata": {},
     "output_type": "display_data"
    },
    {
     "data": {
      "text/html": [
       "<pre>| 35        | 133.364679   | 0.458521          | 1.880241          | 0.191663            | 2.283234            |</pre>"
      ],
      "text/plain": [
       "| 35        | 133.364679   | 0.458521          | 1.880241          | 0.191663            | 2.283234            |"
      ]
     },
     "metadata": {},
     "output_type": "display_data"
    },
    {
     "data": {
      "text/html": [
       "<pre>| 36        | 137.290151   | 0.461258          | 1.870767          | 0.187225            | 2.281962            |</pre>"
      ],
      "text/plain": [
       "| 36        | 137.290151   | 0.461258          | 1.870767          | 0.187225            | 2.281962            |"
      ]
     },
     "metadata": {},
     "output_type": "display_data"
    },
    {
     "data": {
      "text/html": [
       "<pre>| 37        | 141.211023   | 0.465433          | 1.863359          | 0.188259            | 2.281660            |</pre>"
      ],
      "text/plain": [
       "| 37        | 141.211023   | 0.465433          | 1.863359          | 0.188259            | 2.281660            |"
      ]
     },
     "metadata": {},
     "output_type": "display_data"
    },
    {
     "data": {
      "text/html": [
       "<pre>| 38        | 145.196302   | 0.467103          | 1.856596          | 0.190192            | 2.280752            |</pre>"
      ],
      "text/plain": [
       "| 38        | 145.196302   | 0.467103          | 1.856596          | 0.190192            | 2.280752            |"
      ]
     },
     "metadata": {},
     "output_type": "display_data"
    },
    {
     "data": {
      "text/html": [
       "<pre>| 39        | 149.029165   | 0.470068          | 1.849072          | 0.186058            | 2.279913            |</pre>"
      ],
      "text/plain": [
       "| 39        | 149.029165   | 0.470068          | 1.849072          | 0.186058            | 2.279913            |"
      ]
     },
     "metadata": {},
     "output_type": "display_data"
    },
    {
     "data": {
      "text/html": [
       "<pre>| 40        | 152.702633   | 0.471345          | 1.842139          | 0.187874            | 2.278232            |</pre>"
      ],
      "text/plain": [
       "| 40        | 152.702633   | 0.471345          | 1.842139          | 0.187874            | 2.278232            |"
      ]
     },
     "metadata": {},
     "output_type": "display_data"
    },
    {
     "data": {
      "text/html": [
       "<pre>| 41        | 156.747983   | 0.476740          | 1.834180          | 0.193099            | 2.277185            |</pre>"
      ],
      "text/plain": [
       "| 41        | 156.747983   | 0.476740          | 1.834180          | 0.193099            | 2.277185            |"
      ]
     },
     "metadata": {},
     "output_type": "display_data"
    },
    {
     "data": {
      "text/html": [
       "<pre>| 42        | 160.497831   | 0.479490          | 1.827743          | 0.193216            | 2.276638            |</pre>"
      ],
      "text/plain": [
       "| 42        | 160.497831   | 0.479490          | 1.827743          | 0.193216            | 2.276638            |"
      ]
     },
     "metadata": {},
     "output_type": "display_data"
    },
    {
     "data": {
      "text/html": [
       "<pre>| 43        | 164.284017   | 0.481975          | 1.820360          | 0.193134            | 2.276417            |</pre>"
      ],
      "text/plain": [
       "| 43        | 164.284017   | 0.481975          | 1.820360          | 0.193134            | 2.276417            |"
      ]
     },
     "metadata": {},
     "output_type": "display_data"
    },
    {
     "data": {
      "text/html": [
       "<pre>| 44        | 168.164797   | 0.485463          | 1.813189          | 0.192515            | 2.276767            |</pre>"
      ],
      "text/plain": [
       "| 44        | 168.164797   | 0.485463          | 1.813189          | 0.192515            | 2.276767            |"
      ]
     },
     "metadata": {},
     "output_type": "display_data"
    },
    {
     "data": {
      "text/html": [
       "<pre>| 45        | 172.136040   | 0.487944          | 1.807417          | 0.192165            | 2.276426            |</pre>"
      ],
      "text/plain": [
       "| 45        | 172.136040   | 0.487944          | 1.807417          | 0.192165            | 2.276426            |"
      ]
     },
     "metadata": {},
     "output_type": "display_data"
    },
    {
     "data": {
      "text/html": [
       "<pre>| 46        | 175.911676   | 0.488594          | 1.801194          | 0.193058            | 2.276829            |</pre>"
      ],
      "text/plain": [
       "| 46        | 175.911676   | 0.488594          | 1.801194          | 0.193058            | 2.276829            |"
      ]
     },
     "metadata": {},
     "output_type": "display_data"
    },
    {
     "data": {
      "text/html": [
       "<pre>| 47        | 179.721137   | 0.490419          | 1.795960          | 0.193784            | 2.276174            |</pre>"
      ],
      "text/plain": [
       "| 47        | 179.721137   | 0.490419          | 1.795960          | 0.193784            | 2.276174            |"
      ]
     },
     "metadata": {},
     "output_type": "display_data"
    },
    {
     "data": {
      "text/html": [
       "<pre>| 48        | 183.505345   | 0.491306          | 1.790407          | 0.194261            | 2.275206            |</pre>"
      ],
      "text/plain": [
       "| 48        | 183.505345   | 0.491306          | 1.790407          | 0.194261            | 2.275206            |"
      ]
     },
     "metadata": {},
     "output_type": "display_data"
    },
    {
     "data": {
      "text/html": [
       "<pre>| 49        | 187.304144   | 0.493056          | 1.784005          | 0.189756            | 2.275071            |</pre>"
      ],
      "text/plain": [
       "| 49        | 187.304144   | 0.493056          | 1.784005          | 0.189756            | 2.275071            |"
      ]
     },
     "metadata": {},
     "output_type": "display_data"
    },
    {
     "data": {
      "text/html": [
       "<pre>| 50        | 191.166292   | 0.494950          | 1.776644          | 0.186575            | 2.275334            |</pre>"
      ],
      "text/plain": [
       "| 50        | 191.166292   | 0.494950          | 1.776644          | 0.186575            | 2.275334            |"
      ]
     },
     "metadata": {},
     "output_type": "display_data"
    },
    {
     "data": {
      "text/html": [
       "<pre>| 51        | 194.977837   | 0.496635          | 1.771045          | 0.186575            | 2.275609            |</pre>"
      ],
      "text/plain": [
       "| 51        | 194.977837   | 0.496635          | 1.771045          | 0.186575            | 2.275609            |"
      ]
     },
     "metadata": {},
     "output_type": "display_data"
    },
    {
     "data": {
      "text/html": [
       "<pre>| 52        | 198.787974   | 0.499358          | 1.765432          | 0.186844            | 2.275274            |</pre>"
      ],
      "text/plain": [
       "| 52        | 198.787974   | 0.499358          | 1.765432          | 0.186844            | 2.275274            |"
      ]
     },
     "metadata": {},
     "output_type": "display_data"
    },
    {
     "data": {
      "text/html": [
       "<pre>| 53        | 202.648373   | 0.503347          | 1.758778          | 0.185566            | 2.275160            |</pre>"
      ],
      "text/plain": [
       "| 53        | 202.648373   | 0.503347          | 1.758778          | 0.185566            | 2.275160            |"
      ]
     },
     "metadata": {},
     "output_type": "display_data"
    },
    {
     "data": {
      "text/html": [
       "<pre>| 54        | 206.047548   | 0.505476          | 1.752139          | 0.185550            | 2.275336            |</pre>"
      ],
      "text/plain": [
       "| 54        | 206.047548   | 0.505476          | 1.752139          | 0.185550            | 2.275336            |"
      ]
     },
     "metadata": {},
     "output_type": "display_data"
    },
    {
     "data": {
      "text/html": [
       "<pre>| 55        | 212.043622   | 0.506072          | 1.747586          | 0.187808            | 2.275344            |</pre>"
      ],
      "text/plain": [
       "| 55        | 212.043622   | 0.506072          | 1.747586          | 0.187808            | 2.275344            |"
      ]
     },
     "metadata": {},
     "output_type": "display_data"
    },
    {
     "data": {
      "text/html": [
       "<pre>| 56        | 216.930253   | 0.506548          | 1.742820          | 0.187879            | 2.275180            |</pre>"
      ],
      "text/plain": [
       "| 56        | 216.930253   | 0.506548          | 1.742820          | 0.187879            | 2.275180            |"
      ]
     },
     "metadata": {},
     "output_type": "display_data"
    },
    {
     "data": {
      "text/html": [
       "<pre>| 57        | 220.168104   | 0.509303          | 1.736488          | 0.191841            | 2.275127            |</pre>"
      ],
      "text/plain": [
       "| 57        | 220.168104   | 0.509303          | 1.736488          | 0.191841            | 2.275127            |"
      ]
     },
     "metadata": {},
     "output_type": "display_data"
    },
    {
     "data": {
      "text/html": [
       "<pre>| 58        | 223.750035   | 0.511842          | 1.731908          | 0.186621            | 2.275349            |</pre>"
      ],
      "text/plain": [
       "| 58        | 223.750035   | 0.511842          | 1.731908          | 0.186621            | 2.275349            |"
      ]
     },
     "metadata": {},
     "output_type": "display_data"
    },
    {
     "data": {
      "text/html": [
       "<pre>| 59        | 227.653390   | 0.516028          | 1.727544          | 0.198035            | 2.275746            |</pre>"
      ],
      "text/plain": [
       "| 59        | 227.653390   | 0.516028          | 1.727544          | 0.198035            | 2.275746            |"
      ]
     },
     "metadata": {},
     "output_type": "display_data"
    },
    {
     "data": {
      "text/html": [
       "<pre>| 60        | 231.321458   | 0.517226          | 1.723751          | 0.198471            | 2.276082            |</pre>"
      ],
      "text/plain": [
       "| 60        | 231.321458   | 0.517226          | 1.723751          | 0.198471            | 2.276082            |"
      ]
     },
     "metadata": {},
     "output_type": "display_data"
    },
    {
     "data": {
      "text/html": [
       "<pre>| 61        | 235.267277   | 0.518066          | 1.719516          | 0.198963            | 2.275912            |</pre>"
      ],
      "text/plain": [
       "| 61        | 235.267277   | 0.518066          | 1.719516          | 0.198963            | 2.275912            |"
      ]
     },
     "metadata": {},
     "output_type": "display_data"
    },
    {
     "data": {
      "text/html": [
       "<pre>| 62        | 239.323194   | 0.521399          | 1.713013          | 0.199212            | 2.274886            |</pre>"
      ],
      "text/plain": [
       "| 62        | 239.323194   | 0.521399          | 1.713013          | 0.199212            | 2.274886            |"
      ]
     },
     "metadata": {},
     "output_type": "display_data"
    },
    {
     "data": {
      "text/html": [
       "<pre>| 63        | 243.148456   | 0.524675          | 1.707898          | 0.199435            | 2.274359            |</pre>"
      ],
      "text/plain": [
       "| 63        | 243.148456   | 0.524675          | 1.707898          | 0.199435            | 2.274359            |"
      ]
     },
     "metadata": {},
     "output_type": "display_data"
    },
    {
     "data": {
      "text/html": [
       "<pre>| 64        | 247.043804   | 0.526548          | 1.703309          | 0.199592            | 2.274082            |</pre>"
      ],
      "text/plain": [
       "| 64        | 247.043804   | 0.526548          | 1.703309          | 0.199592            | 2.274082            |"
      ]
     },
     "metadata": {},
     "output_type": "display_data"
    },
    {
     "data": {
      "text/html": [
       "<pre>| 65        | 250.814099   | 0.528413          | 1.698525          | 0.200018            | 2.273559            |</pre>"
      ],
      "text/plain": [
       "| 65        | 250.814099   | 0.528413          | 1.698525          | 0.200018            | 2.273559            |"
      ]
     },
     "metadata": {},
     "output_type": "display_data"
    },
    {
     "data": {
      "text/html": [
       "<pre>| 66        | 254.941927   | 0.529753          | 1.693819          | 0.199511            | 2.273840            |</pre>"
      ],
      "text/plain": [
       "| 66        | 254.941927   | 0.529753          | 1.693819          | 0.199511            | 2.273840            |"
      ]
     },
     "metadata": {},
     "output_type": "display_data"
    },
    {
     "data": {
      "text/html": [
       "<pre>| 67        | 258.850692   | 0.531458          | 1.688882          | 0.199049            | 2.274353            |</pre>"
      ],
      "text/plain": [
       "| 67        | 258.850692   | 0.531458          | 1.688882          | 0.199049            | 2.274353            |"
      ]
     },
     "metadata": {},
     "output_type": "display_data"
    },
    {
     "data": {
      "text/html": [
       "<pre>| 68        | 262.538752   | 0.532262          | 1.683404          | 0.198821            | 2.274781            |</pre>"
      ],
      "text/plain": [
       "| 68        | 262.538752   | 0.532262          | 1.683404          | 0.198821            | 2.274781            |"
      ]
     },
     "metadata": {},
     "output_type": "display_data"
    },
    {
     "data": {
      "text/html": [
       "<pre>| 69        | 266.441372   | 0.534090          | 1.679352          | 0.198314            | 2.274833            |</pre>"
      ],
      "text/plain": [
       "| 69        | 266.441372   | 0.534090          | 1.679352          | 0.198314            | 2.274833            |"
      ]
     },
     "metadata": {},
     "output_type": "display_data"
    },
    {
     "data": {
      "text/html": [
       "<pre>| 70        | 270.246334   | 0.534630          | 1.675474          | 0.198202            | 2.274401            |</pre>"
      ],
      "text/plain": [
       "| 70        | 270.246334   | 0.534630          | 1.675474          | 0.198202            | 2.274401            |"
      ]
     },
     "metadata": {},
     "output_type": "display_data"
    },
    {
     "data": {
      "text/html": [
       "<pre>| 71        | 274.091320   | 0.536308          | 1.671036          | 0.201500            | 2.274240            |</pre>"
      ],
      "text/plain": [
       "| 71        | 274.091320   | 0.536308          | 1.671036          | 0.201500            | 2.274240            |"
      ]
     },
     "metadata": {},
     "output_type": "display_data"
    },
    {
     "data": {
      "text/html": [
       "<pre>| 72        | 277.946309   | 0.538543          | 1.667650          | 0.200794            | 2.273823            |</pre>"
      ],
      "text/plain": [
       "| 72        | 277.946309   | 0.538543          | 1.667650          | 0.200794            | 2.273823            |"
      ]
     },
     "metadata": {},
     "output_type": "display_data"
    },
    {
     "data": {
      "text/html": [
       "<pre>| 73        | 281.577779   | 0.537459          | 1.664373          | 0.198248            | 2.273965            |</pre>"
      ],
      "text/plain": [
       "| 73        | 281.577779   | 0.537459          | 1.664373          | 0.198248            | 2.273965            |"
      ]
     },
     "metadata": {},
     "output_type": "display_data"
    },
    {
     "data": {
      "text/html": [
       "<pre>| 74        | 285.607999   | 0.538885          | 1.660919          | 0.198806            | 2.273696            |</pre>"
      ],
      "text/plain": [
       "| 74        | 285.607999   | 0.538885          | 1.660919          | 0.198806            | 2.273696            |"
      ]
     },
     "metadata": {},
     "output_type": "display_data"
    },
    {
     "data": {
      "text/html": [
       "<pre>| 75        | 289.558617   | 0.540671          | 1.657694          | 0.199075            | 2.273250            |</pre>"
      ],
      "text/plain": [
       "| 75        | 289.558617   | 0.540671          | 1.657694          | 0.199075            | 2.273250            |"
      ]
     },
     "metadata": {},
     "output_type": "display_data"
    },
    {
     "data": {
      "text/html": [
       "<pre>| 76        | 293.271001   | 0.542700          | 1.654669          | 0.201540            | 2.272751            |</pre>"
      ],
      "text/plain": [
       "| 76        | 293.271001   | 0.542700          | 1.654669          | 0.201540            | 2.272751            |"
      ]
     },
     "metadata": {},
     "output_type": "display_data"
    },
    {
     "data": {
      "text/html": [
       "<pre>| 77        | 297.207377   | 0.544156          | 1.650693          | 0.201368            | 2.272934            |</pre>"
      ],
      "text/plain": [
       "| 77        | 297.207377   | 0.544156          | 1.650693          | 0.201368            | 2.272934            |"
      ]
     },
     "metadata": {},
     "output_type": "display_data"
    },
    {
     "data": {
      "text/html": [
       "<pre>| 78        | 300.974885   | 0.544922          | 1.646878          | 0.201839            | 2.273003            |</pre>"
      ],
      "text/plain": [
       "| 78        | 300.974885   | 0.544922          | 1.646878          | 0.201839            | 2.273003            |"
      ]
     },
     "metadata": {},
     "output_type": "display_data"
    },
    {
     "data": {
      "text/html": [
       "<pre>| 79        | 304.860457   | 0.546089          | 1.643030          | 0.197644            | 2.273184            |</pre>"
      ],
      "text/plain": [
       "| 79        | 304.860457   | 0.546089          | 1.643030          | 0.197644            | 2.273184            |"
      ]
     },
     "metadata": {},
     "output_type": "display_data"
    },
    {
     "data": {
      "text/html": [
       "<pre>| 80        | 308.740180   | 0.547127          | 1.639696          | 0.197888            | 2.272724            |</pre>"
      ],
      "text/plain": [
       "| 80        | 308.740180   | 0.547127          | 1.639696          | 0.197888            | 2.272724            |"
      ]
     },
     "metadata": {},
     "output_type": "display_data"
    },
    {
     "data": {
      "text/html": [
       "<pre>| 81        | 312.363915   | 0.548554          | 1.636493          | 0.197801            | 2.273379            |</pre>"
      ],
      "text/plain": [
       "| 81        | 312.363915   | 0.548554          | 1.636493          | 0.197801            | 2.273379            |"
      ]
     },
     "metadata": {},
     "output_type": "display_data"
    },
    {
     "data": {
      "text/html": [
       "<pre>| 82        | 316.128172   | 0.549088          | 1.633815          | 0.197543            | 2.273039            |</pre>"
      ],
      "text/plain": [
       "| 82        | 316.128172   | 0.549088          | 1.633815          | 0.197543            | 2.273039            |"
      ]
     },
     "metadata": {},
     "output_type": "display_data"
    },
    {
     "data": {
      "text/html": [
       "<pre>| 83        | 320.095396   | 0.549923          | 1.630085          | 0.197406            | 2.273271            |</pre>"
      ],
      "text/plain": [
       "| 83        | 320.095396   | 0.549923          | 1.630085          | 0.197406            | 2.273271            |"
      ]
     },
     "metadata": {},
     "output_type": "display_data"
    },
    {
     "data": {
      "text/html": [
       "<pre>| 84        | 323.969500   | 0.551335          | 1.626487          | 0.197751            | 2.272713            |</pre>"
      ],
      "text/plain": [
       "| 84        | 323.969500   | 0.551335          | 1.626487          | 0.197751            | 2.272713            |"
      ]
     },
     "metadata": {},
     "output_type": "display_data"
    },
    {
     "data": {
      "text/html": [
       "<pre>| 85        | 327.912829   | 0.552302          | 1.623464          | 0.197167            | 2.272596            |</pre>"
      ],
      "text/plain": [
       "| 85        | 327.912829   | 0.552302          | 1.623464          | 0.197167            | 2.272596            |"
      ]
     },
     "metadata": {},
     "output_type": "display_data"
    },
    {
     "data": {
      "text/html": [
       "<pre>| 86        | 331.724635   | 0.553386          | 1.620358          | 0.197299            | 2.272616            |</pre>"
      ],
      "text/plain": [
       "| 86        | 331.724635   | 0.553386          | 1.620358          | 0.197299            | 2.272616            |"
      ]
     },
     "metadata": {},
     "output_type": "display_data"
    },
    {
     "data": {
      "text/html": [
       "<pre>| 87        | 335.444472   | 0.554602          | 1.616564          | 0.197025            | 2.273002            |</pre>"
      ],
      "text/plain": [
       "| 87        | 335.444472   | 0.554602          | 1.616564          | 0.197025            | 2.273002            |"
      ]
     },
     "metadata": {},
     "output_type": "display_data"
    },
    {
     "data": {
      "text/html": [
       "<pre>| 88        | 339.351972   | 0.553969          | 1.613877          | 0.198836            | 2.273113            |</pre>"
      ],
      "text/plain": [
       "| 88        | 339.351972   | 0.553969          | 1.613877          | 0.198836            | 2.273113            |"
      ]
     },
     "metadata": {},
     "output_type": "display_data"
    },
    {
     "data": {
      "text/html": [
       "<pre>| 89        | 343.127975   | 0.554594          | 1.611381          | 0.194271            | 2.273223            |</pre>"
      ],
      "text/plain": [
       "| 89        | 343.127975   | 0.554594          | 1.611381          | 0.194271            | 2.273223            |"
      ]
     },
     "metadata": {},
     "output_type": "display_data"
    },
    {
     "data": {
      "text/html": [
       "<pre>| 90        | 347.107977   | 0.555802          | 1.608405          | 0.194058            | 2.272762            |</pre>"
      ],
      "text/plain": [
       "| 90        | 347.107977   | 0.555802          | 1.608405          | 0.194058            | 2.272762            |"
      ]
     },
     "metadata": {},
     "output_type": "display_data"
    },
    {
     "data": {
      "text/html": [
       "<pre>| 91        | 350.880309   | 0.558448          | 1.605199          | 0.201758            | 2.273308            |</pre>"
      ],
      "text/plain": [
       "| 91        | 350.880309   | 0.558448          | 1.605199          | 0.201758            | 2.273308            |"
      ]
     },
     "metadata": {},
     "output_type": "display_data"
    },
    {
     "data": {
      "text/html": [
       "<pre>| 92        | 354.691972   | 0.559415          | 1.602389          | 0.201890            | 2.273732            |</pre>"
      ],
      "text/plain": [
       "| 92        | 354.691972   | 0.559415          | 1.602389          | 0.201890            | 2.273732            |"
      ]
     },
     "metadata": {},
     "output_type": "display_data"
    },
    {
     "data": {
      "text/html": [
       "<pre>| 93        | 358.633369   | 0.560527          | 1.598917          | 0.201672            | 2.273850            |</pre>"
      ],
      "text/plain": [
       "| 93        | 358.633369   | 0.560527          | 1.598917          | 0.201672            | 2.273850            |"
      ]
     },
     "metadata": {},
     "output_type": "display_data"
    },
    {
     "data": {
      "text/html": [
       "<pre>| 94        | 362.469037   | 0.561604          | 1.596651          | 0.197238            | 2.273665            |</pre>"
      ],
      "text/plain": [
       "| 94        | 362.469037   | 0.561604          | 1.596651          | 0.197238            | 2.273665            |"
      ]
     },
     "metadata": {},
     "output_type": "display_data"
    },
    {
     "data": {
      "text/html": [
       "<pre>| 95        | 365.994131   | 0.562471          | 1.594036          | 0.202078            | 2.273735            |</pre>"
      ],
      "text/plain": [
       "| 95        | 365.994131   | 0.562471          | 1.594036          | 0.202078            | 2.273735            |"
      ]
     },
     "metadata": {},
     "output_type": "display_data"
    },
    {
     "data": {
      "text/html": [
       "<pre>| 96        | 369.746120   | 0.564039          | 1.590816          | 0.202489            | 2.274361            |</pre>"
      ],
      "text/plain": [
       "| 96        | 369.746120   | 0.564039          | 1.590816          | 0.202489            | 2.274361            |"
      ]
     },
     "metadata": {},
     "output_type": "display_data"
    },
    {
     "data": {
      "text/html": [
       "<pre>| 97        | 373.724081   | 0.565297          | 1.587322          | 0.203047            | 2.274623            |</pre>"
      ],
      "text/plain": [
       "| 97        | 373.724081   | 0.565297          | 1.587322          | 0.203047            | 2.274623            |"
      ]
     },
     "metadata": {},
     "output_type": "display_data"
    },
    {
     "data": {
      "text/html": [
       "<pre>| 98        | 377.708568   | 0.566449          | 1.584362          | 0.203285            | 2.275015            |</pre>"
      ],
      "text/plain": [
       "| 98        | 377.708568   | 0.566449          | 1.584362          | 0.203285            | 2.275015            |"
      ]
     },
     "metadata": {},
     "output_type": "display_data"
    },
    {
     "data": {
      "text/html": [
       "<pre>| 99        | 381.487425   | 0.567653          | 1.581590          | 0.203067            | 2.275071            |</pre>"
      ],
      "text/plain": [
       "| 99        | 381.487425   | 0.567653          | 1.581590          | 0.203067            | 2.275071            |"
      ]
     },
     "metadata": {},
     "output_type": "display_data"
    },
    {
     "data": {
      "text/html": [
       "<pre>| 100       | 385.431703   | 0.568533          | 1.578709          | 0.202732            | 2.275107            |</pre>"
      ],
      "text/plain": [
       "| 100       | 385.431703   | 0.568533          | 1.578709          | 0.202732            | 2.275107            |"
      ]
     },
     "metadata": {},
     "output_type": "display_data"
    },
    {
     "data": {
      "text/html": [
       "<pre>+-----------+--------------+-------------------+-------------------+---------------------+---------------------+</pre>"
      ],
      "text/plain": [
       "+-----------+--------------+-------------------+-------------------+---------------------+---------------------+"
      ]
     },
     "metadata": {},
     "output_type": "display_data"
    }
   ],
   "source": [
    "target = \"group\"\n",
    "features = ['longitude', 'latitude', 'active_tfidf', 'install_tfidf','phone_brand','device_model','weekday','period']\n",
    "model2 = gl.classifier.boosted_trees_classifier.create(fold_train,\n",
    "                                                      target=target, features=features,\n",
    "                                                      validation_set=fold_val, max_iterations = 100, max_depth=6,\n",
    "                                                      step_size=0.1, column_subsample = 0.3)"
   ]
  },
  {
   "cell_type": "markdown",
   "metadata": {},
   "source": [
    "## cross validation"
   ]
  },
  {
   "cell_type": "code",
   "execution_count": 47,
   "metadata": {
    "collapsed": false
   },
   "outputs": [
    {
     "name": "stdout",
     "output_type": "stream",
     "text": [
      "log loss for fold 1: 2.275107\n",
      "log loss for fold 2: 2.255033\n",
      "log loss for fold 3: 2.271240\n",
      "log loss for fold 4: 2.266012\n",
      "log loss for fold 5: 2.250840\n"
     ]
    }
   ],
   "source": [
    "log_loss_values = []\n",
    "for i in range(5):\n",
    "    fold_train, fold_val = folds[i]\n",
    "    fold_train = fold_train.join(ga_train, on='device_id')\n",
    "    fold_val = fold_val.join(ga_train, on='device_id')\n",
    "    target = \"group\"\n",
    "    features = ['longitude', 'latitude', 'active_tfidf', 'install_tfidf','phone_brand','device_model','weekday','period']\n",
    "    model2 = gl.classifier.boosted_trees_classifier.create(fold_train,\n",
    "                                                      target=target, features=features,\n",
    "                                                      validation_set=fold_val, max_iterations = 100, max_depth=6,\n",
    "                                                      step_size=0.1, column_subsample = 0.3,verbose=False)\n",
    "    \n",
    "    log_loss_values.append(model2.evaluate(fold_val, metric=\"log_loss\")[\"log_loss\"])\n",
    "\n",
    "for i, ll in enumerate(log_loss_values):\n",
    "    print \"log loss for fold %d: %f\" %(i+1, ll)"
   ]
  },
  {
   "cell_type": "markdown",
   "metadata": {},
   "source": [
    "## score on test set"
   ]
  },
  {
   "cell_type": "code",
   "execution_count": 42,
   "metadata": {
    "collapsed": false
   },
   "outputs": [
    {
     "data": {
      "text/plain": [
       "{'log_loss': 2.254168160891516}"
      ]
     },
     "execution_count": 42,
     "metadata": {},
     "output_type": "execute_result"
    }
   ],
   "source": [
    "model2.evaluate(ga_test, metric=\"log_loss\")"
   ]
  }
 ],
 "metadata": {
  "kernelspec": {
   "display_name": "Python 2",
   "language": "python",
   "name": "python2"
  },
  "language_info": {
   "codemirror_mode": {
    "name": "ipython",
    "version": 2
   },
   "file_extension": ".py",
   "mimetype": "text/x-python",
   "name": "python",
   "nbconvert_exporter": "python",
   "pygments_lexer": "ipython2",
   "version": "2.7.11"
  }
 },
 "nbformat": 4,
 "nbformat_minor": 0
}
