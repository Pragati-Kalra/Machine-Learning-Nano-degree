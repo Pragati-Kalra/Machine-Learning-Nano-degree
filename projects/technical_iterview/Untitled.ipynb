{
 "cells": [
  {
   "cell_type": "code",
   "execution_count": 2,
   "metadata": {
    "collapsed": false
   },
   "outputs": [],
   "source": [
    "from collections import Counter"
   ]
  },
  {
   "cell_type": "code",
   "execution_count": 11,
   "metadata": {
    "collapsed": false
   },
   "outputs": [],
   "source": [
    "def anagram(s,t):\n",
    "    \"\"\"Determinn whether some anagram of t is \n",
    "    a substring of s.\n",
    "\n",
    "    >>>anagram('udacity','ad')\n",
    "    True\n",
    "    >>>anagram('daniel','nailed')\n",
    "    True\n",
    "    >>>anagram('python','hop')\n",
    "    False\n",
    "    \"\"\"\n",
    "    if len(t)>len(s) or t==None:\n",
    "        return False\n",
    "    t = Counter(t)\n",
    "    for i in range(len(s)-len(t)+1):\n",
    "        if Counter(s[i:len(t)+1]) == t:\n",
    "            return True\n",
    "    return False"
   ]
  },
  {
   "cell_type": "code",
   "execution_count": 41,
   "metadata": {
    "collapsed": false
   },
   "outputs": [],
   "source": [
    "def Q2Palindromic (a):\n",
    "    \"\"\"Return the longest palindromic substring of a\n",
    "\n",
    "    >>>Q2Palindromic('reviver')\n",
    "    'reviver'\n",
    "    >>>Q2Palindromic('jonno'):\n",
    "    'onno'\n",
    "    \"\"\"\n",
    "    length = len(a)\n",
    "    for i in range(length):\n",
    "        for j in range(i+1):\n",
    "            part = a[j:j+length-i+1]\n",
    "            if part == part[::-1]:\n",
    "                return part\n",
    "\n",
    "    return None"
   ]
  },
  {
   "cell_type": "code",
   "execution_count": 45,
   "metadata": {
    "collapsed": false
   },
   "outputs": [
    {
     "data": {
      "text/plain": [
       "'d'"
      ]
     },
     "execution_count": 45,
     "metadata": {},
     "output_type": "execute_result"
    }
   ],
   "source": [
    " Q2Palindromic ('cd')"
   ]
  },
  {
   "cell_type": "code",
   "execution_count": 15,
   "metadata": {
    "collapsed": true
   },
   "outputs": [],
   "source": [
    "a ='daniel'"
   ]
  },
  {
   "cell_type": "code",
   "execution_count": 27,
   "metadata": {
    "collapsed": false
   },
   "outputs": [
    {
     "data": {
      "text/plain": [
       "'leina'"
      ]
     },
     "execution_count": 27,
     "metadata": {},
     "output_type": "execute_result"
    }
   ],
   "source": [
    "a[9:0:-1]"
   ]
  },
  {
   "cell_type": "code",
   "execution_count": 77,
   "metadata": {
    "collapsed": false
   },
   "outputs": [],
   "source": [
    "a = {'A': [('B', 2)],\n",
    " 'B': [('A', 2), ('C', 5)], \n",
    " 'C': [('B', 5),('A',3)]}"
   ]
  },
  {
   "cell_type": "code",
   "execution_count": 78,
   "metadata": {
    "collapsed": false
   },
   "outputs": [
    {
     "data": {
      "text/plain": [
       "[('B', 2)]"
      ]
     },
     "execution_count": 78,
     "metadata": {},
     "output_type": "execute_result"
    }
   ],
   "source": [
    "a['A']"
   ]
  },
  {
   "cell_type": "code",
   "execution_count": 73,
   "metadata": {
    "collapsed": false
   },
   "outputs": [
    {
     "data": {
      "text/plain": [
       "['A', 'C', 'B']"
      ]
     },
     "execution_count": 73,
     "metadata": {},
     "output_type": "execute_result"
    }
   ],
   "source": [
    "a.keys()"
   ]
  },
  {
   "cell_type": "code",
   "execution_count": 74,
   "metadata": {
    "collapsed": false
   },
   "outputs": [
    {
     "data": {
      "text/plain": [
       "[[('B', 2)], [('B', 5), ('A', 3)], [('A', 2), ('C', 5)]]"
      ]
     },
     "execution_count": 74,
     "metadata": {},
     "output_type": "execute_result"
    }
   ],
   "source": [
    "a.values()"
   ]
  },
  {
   "cell_type": "code",
   "execution_count": 53,
   "metadata": {
    "collapsed": false
   },
   "outputs": [
    {
     "data": {
      "text/plain": [
       "('C', 2)"
      ]
     },
     "execution_count": 53,
     "metadata": {},
     "output_type": "execute_result"
    }
   ],
   "source": [
    "min(('C',2),('B',3), key = lambda x: x[1])"
   ]
  },
  {
   "cell_type": "code",
   "execution_count": 75,
   "metadata": {
    "collapsed": false
   },
   "outputs": [],
   "source": [
    "def Q3 (G):\n",
    "    MST = {}\n",
    "    V = G.keys()\n",
    "    for v in V:\n",
    "        while v not in MST:\n",
    "            edges = G[v]\n",
    "            key, val = min(edges, key=lambda x: x[1])\n",
    "            MST[v] = [(key, val)]\n",
    "            if key not in MST:\n",
    "                MST[key] = [(v,val)]\n",
    "            else:\n",
    "                MST[key].append((v,val))\n",
    "\n",
    "    return MST"
   ]
  },
  {
   "cell_type": "code",
   "execution_count": 79,
   "metadata": {
    "collapsed": true
   },
   "outputs": [],
   "source": [
    "def sortedEdges (G):\n",
    "    alledge = []\n",
    "    for v in G:\n",
    "        edges = G[v]\n",
    "        for edge in edges:\n",
    "            v2, val = edge\n",
    "            if v<v2:\n",
    "                alledge.append((v,v2,val))\n",
    "            else:\n",
    "                alledge.append((v2,v,val))\n",
    "                \n",
    "    alledge = list(set(alledge))\n",
    "    alledge = sorted(alledge, key = lambda x: x[2])\n",
    "    return alledge"
   ]
  },
  {
   "cell_type": "code",
   "execution_count": 81,
   "metadata": {
    "collapsed": true
   },
   "outputs": [],
   "source": [
    "def Q3 (G):\n",
    "    MST = {}\n",
    "    sortedE = sortedEdges(G)\n",
    "    for i in range(len(sortedE)):\n",
    "        a = sortedE[i][0]\n",
    "        b = sortedE[i][1]\n",
    "        val = sortedE[i][2]\n",
    "        if a in MST and b in MST:\n",
    "            continue\n",
    "        elif a in MST:\n",
    "            MST[a].append((b,val))\n",
    "            MST[b] = [(a,val)]\n",
    "        elif b in MST:\n",
    "            MST[b].append((a,val))\n",
    "            MST[a] = [(b,val)]\n",
    "        else:\n",
    "            MST[a] = [(b,val)]\n",
    "            MST[b] = [(a,val)]\n",
    "    return MST\n",
    "        "
   ]
  },
  {
   "cell_type": "code",
   "execution_count": 80,
   "metadata": {
    "collapsed": false
   },
   "outputs": [
    {
     "data": {
      "text/plain": [
       "[('A', 'B', 2), ('A', 'C', 3), ('B', 'C', 5)]"
      ]
     },
     "execution_count": 80,
     "metadata": {},
     "output_type": "execute_result"
    }
   ],
   "source": [
    "sortedEdges(a)"
   ]
  },
  {
   "cell_type": "code",
   "execution_count": 84,
   "metadata": {
    "collapsed": true
   },
   "outputs": [],
   "source": [
    "b = {'A': [('B',10),('C',20),('D',40)],\n",
    "    'B':[('A',10)],\n",
    "    'C':[('A',20)],\n",
    "    'D':[('A',40),('E',10)]\n",
    "    }"
   ]
  },
  {
   "cell_type": "code",
   "execution_count": 87,
   "metadata": {
    "collapsed": true
   },
   "outputs": [],
   "source": [
    "c = {'A': [('B',10)],\n",
    "    'B':[('A',10),('C',30),('C',40)],\n",
    "    'C':[('B',40),('B',30),('D',10)],\n",
    "    'D':[('C',10),('A',20)]\n",
    "    }"
   ]
  },
  {
   "cell_type": "code",
   "execution_count": 88,
   "metadata": {
    "collapsed": false
   },
   "outputs": [
    {
     "data": {
      "text/plain": [
       "{'A': [('B', 10)], 'B': [('A', 10)], 'C': [('D', 10)], 'D': [('C', 10)]}"
      ]
     },
     "execution_count": 88,
     "metadata": {},
     "output_type": "execute_result"
    }
   ],
   "source": [
    "Q3(c)"
   ]
  },
  {
   "cell_type": "code",
   "execution_count": 61,
   "metadata": {
    "collapsed": true
   },
   "outputs": [],
   "source": [
    "m = {}"
   ]
  },
  {
   "cell_type": "code",
   "execution_count": 62,
   "metadata": {
    "collapsed": false
   },
   "outputs": [
    {
     "ename": "KeyError",
     "evalue": "'a'",
     "output_type": "error",
     "traceback": [
      "\u001b[1;31m---------------------------------------------------------------------------\u001b[0m",
      "\u001b[1;31mKeyError\u001b[0m                                  Traceback (most recent call last)",
      "\u001b[1;32m<ipython-input-62-e0857256b888>\u001b[0m in \u001b[0;36m<module>\u001b[1;34m()\u001b[0m\n\u001b[1;32m----> 1\u001b[1;33m \u001b[0mm\u001b[0m\u001b[1;33m[\u001b[0m\u001b[1;34m'a'\u001b[0m\u001b[1;33m]\u001b[0m\u001b[1;33m\u001b[0m\u001b[0m\n\u001b[0m",
      "\u001b[1;31mKeyError\u001b[0m: 'a'"
     ]
    }
   ],
   "source": [
    "m['a']"
   ]
  },
  {
   "cell_type": "code",
   "execution_count": 90,
   "metadata": {
    "collapsed": true
   },
   "outputs": [],
   "source": [
    "class Node(object):\n",
    "  def __init__(self, data):\n",
    "    self.data = data\n",
    "    self.next = None\n",
    "    \n",
    "def Q5(ll, m):\n",
    "    length = 0\n",
    "    pointer = ll\n",
    "    item = ll\n",
    "    while pointer != None:\n",
    "        length += 1\n",
    "        pointer = pointer.next\n",
    "    loc = length-m\n",
    "    \n",
    "    for i in range(loc):\n",
    "        item = item.next\n",
    "    return item.data"
   ]
  },
  {
   "cell_type": "code",
   "execution_count": 92,
   "metadata": {
    "collapsed": false
   },
   "outputs": [],
   "source": [
    "a = Node('first')\n",
    "b = Node('second')\n",
    "c = Node('third')\n",
    "a.next = b\n",
    "b.next = c"
   ]
  },
  {
   "cell_type": "code",
   "execution_count": 93,
   "metadata": {
    "collapsed": false
   },
   "outputs": [
    {
     "data": {
      "text/plain": [
       "'third'"
      ]
     },
     "execution_count": 93,
     "metadata": {},
     "output_type": "execute_result"
    }
   ],
   "source": [
    "Q5(a,1)"
   ]
  },
  {
   "cell_type": "code",
   "execution_count": null,
   "metadata": {
    "collapsed": true
   },
   "outputs": [],
   "source": []
  }
 ],
 "metadata": {
  "kernelspec": {
   "display_name": "Python 2",
   "language": "python",
   "name": "python2"
  },
  "language_info": {
   "codemirror_mode": {
    "name": "ipython",
    "version": 2
   },
   "file_extension": ".py",
   "mimetype": "text/x-python",
   "name": "python",
   "nbconvert_exporter": "python",
   "pygments_lexer": "ipython2",
   "version": "2.7.11"
  }
 },
 "nbformat": 4,
 "nbformat_minor": 0
}
